{
  "nbformat": 4,
  "nbformat_minor": 0,
  "metadata": {
    "colab": {
      "name": "Untitled2.ipynb",
      "provenance": [],
      "authorship_tag": "ABX9TyN4FW6wzIfH2sumpv6xfRMc",
      "include_colab_link": true
    },
    "kernelspec": {
      "name": "python3",
      "display_name": "Python 3"
    }
  },
  "cells": [
    {
      "cell_type": "markdown",
      "metadata": {
        "id": "view-in-github",
        "colab_type": "text"
      },
      "source": [
        "<a href=\"https://colab.research.google.com/github/swimbeginner/TensorFlow2/blob/main/Bigquery_12172020.ipynb\" target=\"_parent\"><img src=\"https://colab.research.google.com/assets/colab-badge.svg\" alt=\"Open In Colab\"/></a>"
      ]
    },
    {
      "cell_type": "code",
      "metadata": {
        "colab": {
          "base_uri": "https://localhost:8080/"
        },
        "id": "L3HIwgPgAzrX",
        "outputId": "04c7b284-fb3b-4a11-b4ef-5bf2279a39ce"
      },
      "source": [
        "from google.colab import auth\r\n",
        "auth.authenticate_user()\r\n",
        "print('Authenticated')"
      ],
      "execution_count": null,
      "outputs": [
        {
          "output_type": "stream",
          "text": [
            "Authenticated\n"
          ],
          "name": "stdout"
        }
      ]
    },
    {
      "cell_type": "code",
      "metadata": {
        "colab": {
          "base_uri": "https://localhost:8080/",
          "height": 80
        },
        "id": "f6VYy9KcA6h-",
        "outputId": "aecf6238-4c00-41b2-c46e-6651f5bbab77"
      },
      "source": [
        "%%bigquery --project bigquerylearn121\r\n",
        "SELECT \r\n",
        "  COUNT(*) as total_rows\r\n",
        "FROM `bigquery-public-data.samples.gsod`"
      ],
      "execution_count": null,
      "outputs": [
        {
          "output_type": "execute_result",
          "data": {
            "text/html": [
              "<div>\n",
              "<style scoped>\n",
              "    .dataframe tbody tr th:only-of-type {\n",
              "        vertical-align: middle;\n",
              "    }\n",
              "\n",
              "    .dataframe tbody tr th {\n",
              "        vertical-align: top;\n",
              "    }\n",
              "\n",
              "    .dataframe thead th {\n",
              "        text-align: right;\n",
              "    }\n",
              "</style>\n",
              "<table border=\"1\" class=\"dataframe\">\n",
              "  <thead>\n",
              "    <tr style=\"text-align: right;\">\n",
              "      <th></th>\n",
              "      <th>total_rows</th>\n",
              "    </tr>\n",
              "  </thead>\n",
              "  <tbody>\n",
              "    <tr>\n",
              "      <th>0</th>\n",
              "      <td>114420316</td>\n",
              "    </tr>\n",
              "  </tbody>\n",
              "</table>\n",
              "</div>"
            ],
            "text/plain": [
              "   total_rows\n",
              "0   114420316"
            ]
          },
          "metadata": {
            "tags": []
          },
          "execution_count": 3
        }
      ]
    },
    {
      "cell_type": "code",
      "metadata": {
        "id": "Tzx1IhWfGWCe"
      },
      "source": [
        "%load_ext google.colab.data_table"
      ],
      "execution_count": null,
      "outputs": []
    },
    {
      "cell_type": "code",
      "metadata": {
        "id": "NlPNDvHEF-Ji"
      },
      "source": [
        "# Save output in a variable `df`\r\n",
        "\r\n",
        "%%bigquery --project bigquerylearn121 df\r\n",
        "SELECT \r\n",
        "  COUNT(*) as total_rows\r\n",
        "FROM `bigquery-public-data.samples.gsod`"
      ],
      "execution_count": null,
      "outputs": []
    },
    {
      "cell_type": "code",
      "metadata": {
        "colab": {
          "base_uri": "https://localhost:8080/",
          "height": 110
        },
        "id": "ZNqqwKEoGGu_",
        "outputId": "85175062-0c35-4657-8881-e6c90cec073f"
      },
      "source": [
        "df\r\n"
      ],
      "execution_count": null,
      "outputs": [
        {
          "output_type": "execute_result",
          "data": {
            "application/vnd.google.colaboratory.module+javascript": "\n      import \"https://ssl.gstatic.com/colaboratory/data_table/a6224c040fa35dcf/data_table.js\";\n\n      window.createDataTable({\n        data: [[{\n            'v': 0,\n            'f': \"0\",\n        },\n{\n            'v': 114420316,\n            'f': \"114420316\",\n        }]],\n        columns: [[\"number\", \"index\"], [\"number\", \"total_rows\"]],\n        columnOptions: [{\"width\": \"1px\", \"className\": \"index_column\"}],\n        rowsPerPage: 25,\n        helpUrl: \"https://colab.research.google.com/notebooks/data_table.ipynb\",\n        suppressOutputScrolling: true,\n        minimumWidth: undefined,\n      });\n    ",
            "text/html": [
              "<div>\n",
              "<style scoped>\n",
              "    .dataframe tbody tr th:only-of-type {\n",
              "        vertical-align: middle;\n",
              "    }\n",
              "\n",
              "    .dataframe tbody tr th {\n",
              "        vertical-align: top;\n",
              "    }\n",
              "\n",
              "    .dataframe thead th {\n",
              "        text-align: right;\n",
              "    }\n",
              "</style>\n",
              "<table border=\"1\" class=\"dataframe\">\n",
              "  <thead>\n",
              "    <tr style=\"text-align: right;\">\n",
              "      <th></th>\n",
              "      <th>total_rows</th>\n",
              "    </tr>\n",
              "  </thead>\n",
              "  <tbody>\n",
              "    <tr>\n",
              "      <th>0</th>\n",
              "      <td>114420316</td>\n",
              "    </tr>\n",
              "  </tbody>\n",
              "</table>\n",
              "</div>"
            ],
            "text/plain": [
              "   total_rows\n",
              "0   114420316"
            ]
          },
          "metadata": {
            "tags": []
          },
          "execution_count": 6
        }
      ]
    },
    {
      "cell_type": "markdown",
      "metadata": {
        "id": "bQ9ebRMcPudE"
      },
      "source": [
        "#Big query learned ref to Kaggle"
      ]
    },
    {
      "cell_type": "code",
      "metadata": {
        "colab": {
          "base_uri": "https://localhost:8080/"
        },
        "id": "_kftucpiGd3n",
        "outputId": "1d0f7dae-fee0-4ce4-8fa5-7d0b078053d0"
      },
      "source": [
        "project_id='bigquerylearn121'\r\n",
        "print(project_id)"
      ],
      "execution_count": null,
      "outputs": [
        {
          "output_type": "stream",
          "text": [
            "bigquerylearn121\n"
          ],
          "name": "stdout"
        }
      ]
    },
    {
      "cell_type": "code",
      "metadata": {
        "id": "C3ZA6JLaP2Qd"
      },
      "source": [
        "from google.cloud import bigquery\r\n",
        "client=bigquery.Client(project=project_id)\r\n",
        "sample_count=2000\r\n",
        "row_count=client.query(''' #for SQL\r\n",
        "  select count(*)as total\r\n",
        "  from `bigquery-public-data.samples.gsod`\r\n",
        "'''    \r\n",
        ").to_dataframe().total[0]"
      ],
      "execution_count": null,
      "outputs": []
    },
    {
      "cell_type": "code",
      "metadata": {
        "id": "i9IC5HI6QgwD"
      },
      "source": [
        "df=client.query('''\r\n",
        "  select *\r\n",
        "  from `bigquery-public-data.samples.gsod`\r\n",
        "  where rand() <%d/%d\r\n",
        "''' %(sample_count, row_count)).to_dataframe()\r\n"
      ],
      "execution_count": null,
      "outputs": []
    },
    {
      "cell_type": "code",
      "metadata": {
        "colab": {
          "base_uri": "https://localhost:8080/",
          "height": 224
        },
        "id": "RtcGA5KYG9Wx",
        "outputId": "94afe2b9-a8a2-4f4d-9ada-8e6cb75458f3"
      },
      "source": [
        "#%load_ext google.colab.data_table\r\n",
        "df.head()"
      ],
      "execution_count": null,
      "outputs": [
        {
          "output_type": "execute_result",
          "data": {
            "text/html": [
              "<div>\n",
              "<style scoped>\n",
              "    .dataframe tbody tr th:only-of-type {\n",
              "        vertical-align: middle;\n",
              "    }\n",
              "\n",
              "    .dataframe tbody tr th {\n",
              "        vertical-align: top;\n",
              "    }\n",
              "\n",
              "    .dataframe thead th {\n",
              "        text-align: right;\n",
              "    }\n",
              "</style>\n",
              "<table border=\"1\" class=\"dataframe\">\n",
              "  <thead>\n",
              "    <tr style=\"text-align: right;\">\n",
              "      <th></th>\n",
              "      <th>station_number</th>\n",
              "      <th>wban_number</th>\n",
              "      <th>year</th>\n",
              "      <th>month</th>\n",
              "      <th>day</th>\n",
              "      <th>mean_temp</th>\n",
              "      <th>num_mean_temp_samples</th>\n",
              "      <th>mean_dew_point</th>\n",
              "      <th>num_mean_dew_point_samples</th>\n",
              "      <th>mean_sealevel_pressure</th>\n",
              "      <th>num_mean_sealevel_pressure_samples</th>\n",
              "      <th>mean_station_pressure</th>\n",
              "      <th>num_mean_station_pressure_samples</th>\n",
              "      <th>mean_visibility</th>\n",
              "      <th>num_mean_visibility_samples</th>\n",
              "      <th>mean_wind_speed</th>\n",
              "      <th>num_mean_wind_speed_samples</th>\n",
              "      <th>max_sustained_wind_speed</th>\n",
              "      <th>max_gust_wind_speed</th>\n",
              "      <th>max_temperature</th>\n",
              "      <th>max_temperature_explicit</th>\n",
              "      <th>min_temperature</th>\n",
              "      <th>min_temperature_explicit</th>\n",
              "      <th>total_precipitation</th>\n",
              "      <th>snow_depth</th>\n",
              "      <th>fog</th>\n",
              "      <th>rain</th>\n",
              "      <th>snow</th>\n",
              "      <th>hail</th>\n",
              "      <th>thunder</th>\n",
              "      <th>tornado</th>\n",
              "    </tr>\n",
              "  </thead>\n",
              "  <tbody>\n",
              "    <tr>\n",
              "      <th>0</th>\n",
              "      <td>999999</td>\n",
              "      <td>14931</td>\n",
              "      <td>1965</td>\n",
              "      <td>3</td>\n",
              "      <td>11</td>\n",
              "      <td>24.900000</td>\n",
              "      <td>8</td>\n",
              "      <td>18.100000</td>\n",
              "      <td>8.0</td>\n",
              "      <td>NaN</td>\n",
              "      <td>NaN</td>\n",
              "      <td>NaN</td>\n",
              "      <td>NaN</td>\n",
              "      <td>12.2</td>\n",
              "      <td>8.0</td>\n",
              "      <td>5.4</td>\n",
              "      <td>8.0</td>\n",
              "      <td>12.0</td>\n",
              "      <td>NaN</td>\n",
              "      <td>18.000000</td>\n",
              "      <td>True</td>\n",
              "      <td>None</td>\n",
              "      <td>None</td>\n",
              "      <td>NaN</td>\n",
              "      <td>NaN</td>\n",
              "      <td>True</td>\n",
              "      <td>True</td>\n",
              "      <td>True</td>\n",
              "      <td>True</td>\n",
              "      <td>True</td>\n",
              "      <td>True</td>\n",
              "    </tr>\n",
              "    <tr>\n",
              "      <th>1</th>\n",
              "      <td>471270</td>\n",
              "      <td>43216</td>\n",
              "      <td>1975</td>\n",
              "      <td>7</td>\n",
              "      <td>1</td>\n",
              "      <td>77.800003</td>\n",
              "      <td>12</td>\n",
              "      <td>65.000000</td>\n",
              "      <td>12.0</td>\n",
              "      <td>NaN</td>\n",
              "      <td>NaN</td>\n",
              "      <td>NaN</td>\n",
              "      <td>NaN</td>\n",
              "      <td>6.8</td>\n",
              "      <td>12.0</td>\n",
              "      <td>5.3</td>\n",
              "      <td>12.0</td>\n",
              "      <td>8.0</td>\n",
              "      <td>NaN</td>\n",
              "      <td>68.000000</td>\n",
              "      <td>True</td>\n",
              "      <td>None</td>\n",
              "      <td>None</td>\n",
              "      <td>0.0</td>\n",
              "      <td>NaN</td>\n",
              "      <td>False</td>\n",
              "      <td>False</td>\n",
              "      <td>False</td>\n",
              "      <td>False</td>\n",
              "      <td>False</td>\n",
              "      <td>False</td>\n",
              "    </tr>\n",
              "    <tr>\n",
              "      <th>2</th>\n",
              "      <td>679910</td>\n",
              "      <td>99999</td>\n",
              "      <td>1982</td>\n",
              "      <td>2</td>\n",
              "      <td>24</td>\n",
              "      <td>79.800003</td>\n",
              "      <td>5</td>\n",
              "      <td>59.799999</td>\n",
              "      <td>4.0</td>\n",
              "      <td>NaN</td>\n",
              "      <td>NaN</td>\n",
              "      <td>NaN</td>\n",
              "      <td>NaN</td>\n",
              "      <td>31.1</td>\n",
              "      <td>5.0</td>\n",
              "      <td>3.9</td>\n",
              "      <td>5.0</td>\n",
              "      <td>5.8</td>\n",
              "      <td>NaN</td>\n",
              "      <td>70.699997</td>\n",
              "      <td>False</td>\n",
              "      <td>None</td>\n",
              "      <td>None</td>\n",
              "      <td>0.0</td>\n",
              "      <td>NaN</td>\n",
              "      <td>False</td>\n",
              "      <td>False</td>\n",
              "      <td>False</td>\n",
              "      <td>False</td>\n",
              "      <td>False</td>\n",
              "      <td>False</td>\n",
              "    </tr>\n",
              "    <tr>\n",
              "      <th>3</th>\n",
              "      <td>684533</td>\n",
              "      <td>99999</td>\n",
              "      <td>2009</td>\n",
              "      <td>12</td>\n",
              "      <td>7</td>\n",
              "      <td>79.099998</td>\n",
              "      <td>7</td>\n",
              "      <td>50.500000</td>\n",
              "      <td>7.0</td>\n",
              "      <td>NaN</td>\n",
              "      <td>NaN</td>\n",
              "      <td>NaN</td>\n",
              "      <td>NaN</td>\n",
              "      <td>7.0</td>\n",
              "      <td>7.0</td>\n",
              "      <td>9.4</td>\n",
              "      <td>7.0</td>\n",
              "      <td>15.9</td>\n",
              "      <td>NaN</td>\n",
              "      <td>71.599998</td>\n",
              "      <td>True</td>\n",
              "      <td>None</td>\n",
              "      <td>None</td>\n",
              "      <td>0.0</td>\n",
              "      <td>NaN</td>\n",
              "      <td>False</td>\n",
              "      <td>False</td>\n",
              "      <td>False</td>\n",
              "      <td>False</td>\n",
              "      <td>False</td>\n",
              "      <td>False</td>\n",
              "    </tr>\n",
              "    <tr>\n",
              "      <th>4</th>\n",
              "      <td>943270</td>\n",
              "      <td>99999</td>\n",
              "      <td>1990</td>\n",
              "      <td>5</td>\n",
              "      <td>31</td>\n",
              "      <td>61.000000</td>\n",
              "      <td>4</td>\n",
              "      <td>42.799999</td>\n",
              "      <td>4.0</td>\n",
              "      <td>NaN</td>\n",
              "      <td>NaN</td>\n",
              "      <td>982.400024</td>\n",
              "      <td>4.0</td>\n",
              "      <td>31.1</td>\n",
              "      <td>4.0</td>\n",
              "      <td>3.3</td>\n",
              "      <td>4.0</td>\n",
              "      <td>6.0</td>\n",
              "      <td>NaN</td>\n",
              "      <td>47.099998</td>\n",
              "      <td>True</td>\n",
              "      <td>None</td>\n",
              "      <td>None</td>\n",
              "      <td>0.0</td>\n",
              "      <td>NaN</td>\n",
              "      <td>False</td>\n",
              "      <td>False</td>\n",
              "      <td>False</td>\n",
              "      <td>False</td>\n",
              "      <td>False</td>\n",
              "      <td>False</td>\n",
              "    </tr>\n",
              "  </tbody>\n",
              "</table>\n",
              "</div>"
            ],
            "text/plain": [
              "   station_number  wban_number  year  month  ...   snow   hail  thunder  tornado\n",
              "0          999999        14931  1965      3  ...   True   True     True     True\n",
              "1          471270        43216  1975      7  ...  False  False    False    False\n",
              "2          679910        99999  1982      2  ...  False  False    False    False\n",
              "3          684533        99999  2009     12  ...  False  False    False    False\n",
              "4          943270        99999  1990      5  ...  False  False    False    False\n",
              "\n",
              "[5 rows x 31 columns]"
            ]
          },
          "metadata": {
            "tags": []
          },
          "execution_count": 30
        }
      ]
    },
    {
      "cell_type": "code",
      "metadata": {
        "colab": {
          "base_uri": "https://localhost:8080/",
          "height": 299
        },
        "id": "NlTHMXMvC5Mx",
        "outputId": "09e631a7-1204-4e28-d922-0d44222baed3"
      },
      "source": [
        "df.sort_values('total_precipitation', ascending=False).head(10)[['station_number', 'year', 'month', 'day', 'total_precipitation']]"
      ],
      "execution_count": null,
      "outputs": [
        {
          "output_type": "execute_result",
          "data": {
            "application/vnd.google.colaboratory.module+javascript": "\n      import \"https://ssl.gstatic.com/colaboratory/data_table/a6224c040fa35dcf/data_table.js\";\n\n      window.createDataTable({\n        data: [[{\n            'v': 1687,\n            'f': \"1687\",\n        },\n{\n            'v': 592650,\n            'f': \"592650\",\n        },\n{\n            'v': 1995,\n            'f': \"1995\",\n        },\n{\n            'v': 10,\n            'f': \"10\",\n        },\n{\n            'v': 3,\n            'f': \"3\",\n        },\n{\n            'v': 3.7799999713897705,\n            'f': \"3.7799999713897705\",\n        }],\n [{\n            'v': 1530,\n            'f': \"1530\",\n        },\n{\n            'v': 984270,\n            'f': \"984270\",\n        },\n{\n            'v': 2001,\n            'f': \"2001\",\n        },\n{\n            'v': 12,\n            'f': \"12\",\n        },\n{\n            'v': 7,\n            'f': \"7\",\n        },\n{\n            'v': 3.2699999809265137,\n            'f': \"3.2699999809265137\",\n        }],\n [{\n            'v': 736,\n            'f': \"736\",\n        },\n{\n            'v': 322170,\n            'f': \"322170\",\n        },\n{\n            'v': 1966,\n            'f': \"1966\",\n        },\n{\n            'v': 12,\n            'f': \"12\",\n        },\n{\n            'v': 17,\n            'f': \"17\",\n        },\n{\n            'v': 3.0299999713897705,\n            'f': \"3.0299999713897705\",\n        }],\n [{\n            'v': 811,\n            'f': \"811\",\n        },\n{\n            'v': 375750,\n            'f': \"375750\",\n        },\n{\n            'v': 1965,\n            'f': \"1965\",\n        },\n{\n            'v': 4,\n            'f': \"4\",\n        },\n{\n            'v': 17,\n            'f': \"17\",\n        },\n{\n            'v': 2.950000047683716,\n            'f': \"2.950000047683716\",\n        }],\n [{\n            'v': 1428,\n            'f': \"1428\",\n        },\n{\n            'v': 298380,\n            'f': \"298380\",\n        },\n{\n            'v': 1964,\n            'f': \"1964\",\n        },\n{\n            'v': 7,\n            'f': \"7\",\n        },\n{\n            'v': 17,\n            'f': \"17\",\n        },\n{\n            'v': 2.950000047683716,\n            'f': \"2.950000047683716\",\n        }],\n [{\n            'v': 274,\n            'f': \"274\",\n        },\n{\n            'v': 593580,\n            'f': \"593580\",\n        },\n{\n            'v': 1981,\n            'f': \"1981\",\n        },\n{\n            'v': 8,\n            'f': \"8\",\n        },\n{\n            'v': 30,\n            'f': \"30\",\n        },\n{\n            'v': 2.319999933242798,\n            'f': \"2.319999933242798\",\n        }],\n [{\n            'v': 764,\n            'f': \"764\",\n        },\n{\n            'v': 475200,\n            'f': \"475200\",\n        },\n{\n            'v': 1982,\n            'f': \"1982\",\n        },\n{\n            'v': 9,\n            'f': \"9\",\n        },\n{\n            'v': 12,\n            'f': \"12\",\n        },\n{\n            'v': 2.130000114440918,\n            'f': \"2.130000114440918\",\n        }],\n [{\n            'v': 1089,\n            'f': \"1089\",\n        },\n{\n            'v': 913340,\n            'f': \"913340\",\n        },\n{\n            'v': 1977,\n            'f': \"1977\",\n        },\n{\n            'v': 11,\n            'f': \"11\",\n        },\n{\n            'v': 1,\n            'f': \"1\",\n        },\n{\n            'v': 1.9299999475479126,\n            'f': \"1.9299999475479126\",\n        }],\n [{\n            'v': 1475,\n            'f': \"1475\",\n        },\n{\n            'v': 488300,\n            'f': \"488300\",\n        },\n{\n            'v': 2005,\n            'f': \"2005\",\n        },\n{\n            'v': 4,\n            'f': \"4\",\n        },\n{\n            'v': 27,\n            'f': \"27\",\n        },\n{\n            'v': 1.7799999713897705,\n            'f': \"1.7799999713897705\",\n        }],\n [{\n            'v': 440,\n            'f': \"440\",\n        },\n{\n            'v': 703980,\n            'f': \"703980\",\n        },\n{\n            'v': 1974,\n            'f': \"1974\",\n        },\n{\n            'v': 10,\n            'f': \"10\",\n        },\n{\n            'v': 9,\n            'f': \"9\",\n        },\n{\n            'v': 1.7699999809265137,\n            'f': \"1.7699999809265137\",\n        }]],\n        columns: [[\"number\", \"index\"], [\"number\", \"station_number\"], [\"number\", \"year\"], [\"number\", \"month\"], [\"number\", \"day\"], [\"number\", \"total_precipitation\"]],\n        columnOptions: [{\"width\": \"1px\", \"className\": \"index_column\"}],\n        rowsPerPage: 25,\n        helpUrl: \"https://colab.research.google.com/notebooks/data_table.ipynb\",\n        suppressOutputScrolling: true,\n        minimumWidth: undefined,\n      });\n    ",
            "text/html": [
              "<div>\n",
              "<style scoped>\n",
              "    .dataframe tbody tr th:only-of-type {\n",
              "        vertical-align: middle;\n",
              "    }\n",
              "\n",
              "    .dataframe tbody tr th {\n",
              "        vertical-align: top;\n",
              "    }\n",
              "\n",
              "    .dataframe thead th {\n",
              "        text-align: right;\n",
              "    }\n",
              "</style>\n",
              "<table border=\"1\" class=\"dataframe\">\n",
              "  <thead>\n",
              "    <tr style=\"text-align: right;\">\n",
              "      <th></th>\n",
              "      <th>station_number</th>\n",
              "      <th>year</th>\n",
              "      <th>month</th>\n",
              "      <th>day</th>\n",
              "      <th>total_precipitation</th>\n",
              "    </tr>\n",
              "  </thead>\n",
              "  <tbody>\n",
              "    <tr>\n",
              "      <th>1687</th>\n",
              "      <td>592650</td>\n",
              "      <td>1995</td>\n",
              "      <td>10</td>\n",
              "      <td>3</td>\n",
              "      <td>3.78</td>\n",
              "    </tr>\n",
              "    <tr>\n",
              "      <th>1530</th>\n",
              "      <td>984270</td>\n",
              "      <td>2001</td>\n",
              "      <td>12</td>\n",
              "      <td>7</td>\n",
              "      <td>3.27</td>\n",
              "    </tr>\n",
              "    <tr>\n",
              "      <th>736</th>\n",
              "      <td>322170</td>\n",
              "      <td>1966</td>\n",
              "      <td>12</td>\n",
              "      <td>17</td>\n",
              "      <td>3.03</td>\n",
              "    </tr>\n",
              "    <tr>\n",
              "      <th>811</th>\n",
              "      <td>375750</td>\n",
              "      <td>1965</td>\n",
              "      <td>4</td>\n",
              "      <td>17</td>\n",
              "      <td>2.95</td>\n",
              "    </tr>\n",
              "    <tr>\n",
              "      <th>1428</th>\n",
              "      <td>298380</td>\n",
              "      <td>1964</td>\n",
              "      <td>7</td>\n",
              "      <td>17</td>\n",
              "      <td>2.95</td>\n",
              "    </tr>\n",
              "    <tr>\n",
              "      <th>274</th>\n",
              "      <td>593580</td>\n",
              "      <td>1981</td>\n",
              "      <td>8</td>\n",
              "      <td>30</td>\n",
              "      <td>2.32</td>\n",
              "    </tr>\n",
              "    <tr>\n",
              "      <th>764</th>\n",
              "      <td>475200</td>\n",
              "      <td>1982</td>\n",
              "      <td>9</td>\n",
              "      <td>12</td>\n",
              "      <td>2.13</td>\n",
              "    </tr>\n",
              "    <tr>\n",
              "      <th>1089</th>\n",
              "      <td>913340</td>\n",
              "      <td>1977</td>\n",
              "      <td>11</td>\n",
              "      <td>1</td>\n",
              "      <td>1.93</td>\n",
              "    </tr>\n",
              "    <tr>\n",
              "      <th>1475</th>\n",
              "      <td>488300</td>\n",
              "      <td>2005</td>\n",
              "      <td>4</td>\n",
              "      <td>27</td>\n",
              "      <td>1.78</td>\n",
              "    </tr>\n",
              "    <tr>\n",
              "      <th>440</th>\n",
              "      <td>703980</td>\n",
              "      <td>1974</td>\n",
              "      <td>10</td>\n",
              "      <td>9</td>\n",
              "      <td>1.77</td>\n",
              "    </tr>\n",
              "  </tbody>\n",
              "</table>\n",
              "</div>"
            ],
            "text/plain": [
              "      station_number  year  month  day  total_precipitation\n",
              "1687          592650  1995     10    3                 3.78\n",
              "1530          984270  2001     12    7                 3.27\n",
              "736           322170  1966     12   17                 3.03\n",
              "811           375750  1965      4   17                 2.95\n",
              "1428          298380  1964      7   17                 2.95\n",
              "274           593580  1981      8   30                 2.32\n",
              "764           475200  1982      9   12                 2.13\n",
              "1089          913340  1977     11    1                 1.93\n",
              "1475          488300  2005      4   27                 1.78\n",
              "440           703980  1974     10    9                 1.77"
            ]
          },
          "metadata": {
            "tags": []
          },
          "execution_count": 31
        }
      ]
    }
  ]
}