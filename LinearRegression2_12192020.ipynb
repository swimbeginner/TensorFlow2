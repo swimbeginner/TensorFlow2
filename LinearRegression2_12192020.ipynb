{
  "nbformat": 4,
  "nbformat_minor": 0,
  "metadata": {
    "colab": {
      "name": "LinearRegression2_12192020.ipynb",
      "provenance": [],
      "authorship_tag": "ABX9TyMEiXBL+wTq1Ip6todxEWPD",
      "include_colab_link": true
    },
    "kernelspec": {
      "name": "python3",
      "display_name": "Python 3"
    }
  },
  "cells": [
    {
      "cell_type": "markdown",
      "metadata": {
        "id": "view-in-github",
        "colab_type": "text"
      },
      "source": [
        "<a href=\"https://colab.research.google.com/github/swimbeginner/TensorFlow2/blob/main/LinearRegression2_12192020.ipynb\" target=\"_parent\"><img src=\"https://colab.research.google.com/assets/colab-badge.svg\" alt=\"Open In Colab\"/></a>"
      ]
    },
    {
      "cell_type": "markdown",
      "metadata": {
        "id": "V9ZGHNdSTYR8"
      },
      "source": [
        "#Linear Regression 2"
      ]
    },
    {
      "cell_type": "code",
      "metadata": {
        "id": "s5NBbOPlTbb8"
      },
      "source": [
        "%tensorflow_version 2.x"
      ],
      "execution_count": 1,
      "outputs": []
    },
    {
      "cell_type": "code",
      "metadata": {
        "id": "he6bZr57d5xb"
      },
      "source": [
        "#@title Import relevant modules\r\n",
        "import pandas as pd\r\n",
        "import tensorflow as tf\r\n",
        "from matplotlib import pyplot as plt\r\n",
        "\r\n",
        "# The following lines adjust the granularity of reporting. \r\n",
        "pd.options.display.max_rows = 10\r\n",
        "pd.options.display.float_format = \"{:.1f}\".format"
      ],
      "execution_count": 2,
      "outputs": []
    },
    {
      "cell_type": "markdown",
      "metadata": {
        "id": "0qnAaZDzpUbp"
      },
      "source": [
        "##Load the data from .csv file"
      ]
    },
    {
      "cell_type": "code",
      "metadata": {
        "colab": {
          "base_uri": "https://localhost:8080/",
          "height": 204
        },
        "id": "SnZ8rCjwpXfu",
        "outputId": "2ede13ac-77ee-4d93-8a27-b2fa2c87aa58"
      },
      "source": [
        "# Import the dataset.\r\n",
        "training_df = pd.read_csv(filepath_or_buffer=\"https://download.mlcc.google.com/mledu-datasets/california_housing_train.csv\")\r\n",
        "\r\n",
        "# Scale the label.\r\n",
        "training_df[\"median_house_value\"] /= 1000.0\r\n",
        "\r\n",
        "# Print the first rows of the pandas DataFrame.\r\n",
        "training_df.head()"
      ],
      "execution_count": 3,
      "outputs": [
        {
          "output_type": "execute_result",
          "data": {
            "text/html": [
              "<div>\n",
              "<style scoped>\n",
              "    .dataframe tbody tr th:only-of-type {\n",
              "        vertical-align: middle;\n",
              "    }\n",
              "\n",
              "    .dataframe tbody tr th {\n",
              "        vertical-align: top;\n",
              "    }\n",
              "\n",
              "    .dataframe thead th {\n",
              "        text-align: right;\n",
              "    }\n",
              "</style>\n",
              "<table border=\"1\" class=\"dataframe\">\n",
              "  <thead>\n",
              "    <tr style=\"text-align: right;\">\n",
              "      <th></th>\n",
              "      <th>longitude</th>\n",
              "      <th>latitude</th>\n",
              "      <th>housing_median_age</th>\n",
              "      <th>total_rooms</th>\n",
              "      <th>total_bedrooms</th>\n",
              "      <th>population</th>\n",
              "      <th>households</th>\n",
              "      <th>median_income</th>\n",
              "      <th>median_house_value</th>\n",
              "    </tr>\n",
              "  </thead>\n",
              "  <tbody>\n",
              "    <tr>\n",
              "      <th>0</th>\n",
              "      <td>-114.3</td>\n",
              "      <td>34.2</td>\n",
              "      <td>15.0</td>\n",
              "      <td>5612.0</td>\n",
              "      <td>1283.0</td>\n",
              "      <td>1015.0</td>\n",
              "      <td>472.0</td>\n",
              "      <td>1.5</td>\n",
              "      <td>66.9</td>\n",
              "    </tr>\n",
              "    <tr>\n",
              "      <th>1</th>\n",
              "      <td>-114.5</td>\n",
              "      <td>34.4</td>\n",
              "      <td>19.0</td>\n",
              "      <td>7650.0</td>\n",
              "      <td>1901.0</td>\n",
              "      <td>1129.0</td>\n",
              "      <td>463.0</td>\n",
              "      <td>1.8</td>\n",
              "      <td>80.1</td>\n",
              "    </tr>\n",
              "    <tr>\n",
              "      <th>2</th>\n",
              "      <td>-114.6</td>\n",
              "      <td>33.7</td>\n",
              "      <td>17.0</td>\n",
              "      <td>720.0</td>\n",
              "      <td>174.0</td>\n",
              "      <td>333.0</td>\n",
              "      <td>117.0</td>\n",
              "      <td>1.7</td>\n",
              "      <td>85.7</td>\n",
              "    </tr>\n",
              "    <tr>\n",
              "      <th>3</th>\n",
              "      <td>-114.6</td>\n",
              "      <td>33.6</td>\n",
              "      <td>14.0</td>\n",
              "      <td>1501.0</td>\n",
              "      <td>337.0</td>\n",
              "      <td>515.0</td>\n",
              "      <td>226.0</td>\n",
              "      <td>3.2</td>\n",
              "      <td>73.4</td>\n",
              "    </tr>\n",
              "    <tr>\n",
              "      <th>4</th>\n",
              "      <td>-114.6</td>\n",
              "      <td>33.6</td>\n",
              "      <td>20.0</td>\n",
              "      <td>1454.0</td>\n",
              "      <td>326.0</td>\n",
              "      <td>624.0</td>\n",
              "      <td>262.0</td>\n",
              "      <td>1.9</td>\n",
              "      <td>65.5</td>\n",
              "    </tr>\n",
              "  </tbody>\n",
              "</table>\n",
              "</div>"
            ],
            "text/plain": [
              "   longitude  latitude  ...  median_income  median_house_value\n",
              "0     -114.3      34.2  ...            1.5                66.9\n",
              "1     -114.5      34.4  ...            1.8                80.1\n",
              "2     -114.6      33.7  ...            1.7                85.7\n",
              "3     -114.6      33.6  ...            3.2                73.4\n",
              "4     -114.6      33.6  ...            1.9                65.5\n",
              "\n",
              "[5 rows x 9 columns]"
            ]
          },
          "metadata": {
            "tags": []
          },
          "execution_count": 3
        }
      ]
    },
    {
      "cell_type": "code",
      "metadata": {
        "colab": {
          "base_uri": "https://localhost:8080/",
          "height": 297
        },
        "id": "cWmELLc1r5UF",
        "outputId": "9d9f20af-f16f-450d-e48b-8d546df8415f"
      },
      "source": [
        "training_df.describe()"
      ],
      "execution_count": 4,
      "outputs": [
        {
          "output_type": "execute_result",
          "data": {
            "text/html": [
              "<div>\n",
              "<style scoped>\n",
              "    .dataframe tbody tr th:only-of-type {\n",
              "        vertical-align: middle;\n",
              "    }\n",
              "\n",
              "    .dataframe tbody tr th {\n",
              "        vertical-align: top;\n",
              "    }\n",
              "\n",
              "    .dataframe thead th {\n",
              "        text-align: right;\n",
              "    }\n",
              "</style>\n",
              "<table border=\"1\" class=\"dataframe\">\n",
              "  <thead>\n",
              "    <tr style=\"text-align: right;\">\n",
              "      <th></th>\n",
              "      <th>longitude</th>\n",
              "      <th>latitude</th>\n",
              "      <th>housing_median_age</th>\n",
              "      <th>total_rooms</th>\n",
              "      <th>total_bedrooms</th>\n",
              "      <th>population</th>\n",
              "      <th>households</th>\n",
              "      <th>median_income</th>\n",
              "      <th>median_house_value</th>\n",
              "    </tr>\n",
              "  </thead>\n",
              "  <tbody>\n",
              "    <tr>\n",
              "      <th>count</th>\n",
              "      <td>17000.0</td>\n",
              "      <td>17000.0</td>\n",
              "      <td>17000.0</td>\n",
              "      <td>17000.0</td>\n",
              "      <td>17000.0</td>\n",
              "      <td>17000.0</td>\n",
              "      <td>17000.0</td>\n",
              "      <td>17000.0</td>\n",
              "      <td>17000.0</td>\n",
              "    </tr>\n",
              "    <tr>\n",
              "      <th>mean</th>\n",
              "      <td>-119.6</td>\n",
              "      <td>35.6</td>\n",
              "      <td>28.6</td>\n",
              "      <td>2643.7</td>\n",
              "      <td>539.4</td>\n",
              "      <td>1429.6</td>\n",
              "      <td>501.2</td>\n",
              "      <td>3.9</td>\n",
              "      <td>207.3</td>\n",
              "    </tr>\n",
              "    <tr>\n",
              "      <th>std</th>\n",
              "      <td>2.0</td>\n",
              "      <td>2.1</td>\n",
              "      <td>12.6</td>\n",
              "      <td>2179.9</td>\n",
              "      <td>421.5</td>\n",
              "      <td>1147.9</td>\n",
              "      <td>384.5</td>\n",
              "      <td>1.9</td>\n",
              "      <td>116.0</td>\n",
              "    </tr>\n",
              "    <tr>\n",
              "      <th>min</th>\n",
              "      <td>-124.3</td>\n",
              "      <td>32.5</td>\n",
              "      <td>1.0</td>\n",
              "      <td>2.0</td>\n",
              "      <td>1.0</td>\n",
              "      <td>3.0</td>\n",
              "      <td>1.0</td>\n",
              "      <td>0.5</td>\n",
              "      <td>15.0</td>\n",
              "    </tr>\n",
              "    <tr>\n",
              "      <th>25%</th>\n",
              "      <td>-121.8</td>\n",
              "      <td>33.9</td>\n",
              "      <td>18.0</td>\n",
              "      <td>1462.0</td>\n",
              "      <td>297.0</td>\n",
              "      <td>790.0</td>\n",
              "      <td>282.0</td>\n",
              "      <td>2.6</td>\n",
              "      <td>119.4</td>\n",
              "    </tr>\n",
              "    <tr>\n",
              "      <th>50%</th>\n",
              "      <td>-118.5</td>\n",
              "      <td>34.2</td>\n",
              "      <td>29.0</td>\n",
              "      <td>2127.0</td>\n",
              "      <td>434.0</td>\n",
              "      <td>1167.0</td>\n",
              "      <td>409.0</td>\n",
              "      <td>3.5</td>\n",
              "      <td>180.4</td>\n",
              "    </tr>\n",
              "    <tr>\n",
              "      <th>75%</th>\n",
              "      <td>-118.0</td>\n",
              "      <td>37.7</td>\n",
              "      <td>37.0</td>\n",
              "      <td>3151.2</td>\n",
              "      <td>648.2</td>\n",
              "      <td>1721.0</td>\n",
              "      <td>605.2</td>\n",
              "      <td>4.8</td>\n",
              "      <td>265.0</td>\n",
              "    </tr>\n",
              "    <tr>\n",
              "      <th>max</th>\n",
              "      <td>-114.3</td>\n",
              "      <td>42.0</td>\n",
              "      <td>52.0</td>\n",
              "      <td>37937.0</td>\n",
              "      <td>6445.0</td>\n",
              "      <td>35682.0</td>\n",
              "      <td>6082.0</td>\n",
              "      <td>15.0</td>\n",
              "      <td>500.0</td>\n",
              "    </tr>\n",
              "  </tbody>\n",
              "</table>\n",
              "</div>"
            ],
            "text/plain": [
              "       longitude  latitude  ...  median_income  median_house_value\n",
              "count    17000.0   17000.0  ...        17000.0             17000.0\n",
              "mean      -119.6      35.6  ...            3.9               207.3\n",
              "std          2.0       2.1  ...            1.9               116.0\n",
              "min       -124.3      32.5  ...            0.5                15.0\n",
              "25%       -121.8      33.9  ...            2.6               119.4\n",
              "50%       -118.5      34.2  ...            3.5               180.4\n",
              "75%       -118.0      37.7  ...            4.8               265.0\n",
              "max       -114.3      42.0  ...           15.0               500.0\n",
              "\n",
              "[8 rows x 9 columns]"
            ]
          },
          "metadata": {
            "tags": []
          },
          "execution_count": 4
        }
      ]
    },
    {
      "cell_type": "markdown",
      "metadata": {
        "id": "7JzUqYggs0bh"
      },
      "source": [
        "##Data exploration\r\n",
        "#build model and Train model\r\n"
      ]
    },
    {
      "cell_type": "code",
      "metadata": {
        "colab": {
          "base_uri": "https://localhost:8080/"
        },
        "id": "40M_IQhssyVh",
        "outputId": "3e104a20-ebfa-4bb0-8dbc-202fd736053d"
      },
      "source": [
        "def build_model(my_learning_rate):\r\n",
        "  \"\"\"Create and compile a simple linear regression model.\"\"\"\r\n",
        "  # Most simple tf.keras models are sequential.\r\n",
        "  model = tf.keras.models.Sequential()\r\n",
        "\r\n",
        "  # Describe the topography of the model.\r\n",
        "  # The topography of a simple linear regression model\r\n",
        "  # is a single node in a single layer.\r\n",
        "  model.add(tf.keras.layers.Dense(units=1, \r\n",
        "                                  input_shape=(1,)))\r\n",
        "\r\n",
        "  # Compile the model topography into code that TensorFlow can efficiently\r\n",
        "  # execute. Configure training to minimize the model's mean squared error. \r\n",
        "  model.compile(optimizer=tf.keras.optimizers.RMSprop(lr=my_learning_rate),\r\n",
        "                loss=\"mean_squared_error\",\r\n",
        "                metrics=[tf.keras.metrics.RootMeanSquaredError()])\r\n",
        "\r\n",
        "  return model        \r\n",
        "\r\n",
        "\r\n",
        "def train_model(model, df, feature, label, epochs, batch_size):\r\n",
        "  \"\"\"Train the model by feeding it data.\"\"\"\r\n",
        "\r\n",
        "  # Feed the model the feature and the label.\r\n",
        "  # The model will train for the specified number of epochs. \r\n",
        "  history = model.fit(x=df[feature],\r\n",
        "                      y=df[label],\r\n",
        "                      batch_size=batch_size,\r\n",
        "                      epochs=epochs)\r\n",
        "\r\n",
        "  # Gather the trained model's weight and bias.\r\n",
        "  trained_weight = model.get_weights()[0]\r\n",
        "  trained_bias = model.get_weights()[1]\r\n",
        "\r\n",
        "  # The list of epochs is stored separately from the rest of history.\r\n",
        "  epochs = history.epoch\r\n",
        "  \r\n",
        "  # Isolate the error for each epoch.\r\n",
        "  hist = pd.DataFrame(history.history)\r\n",
        "\r\n",
        "  # To track the progression of training, we're going to take a snapshot\r\n",
        "  # of the model's root mean squared error at each epoch. \r\n",
        "  rmse = hist[\"root_mean_squared_error\"]\r\n",
        "\r\n",
        "  return trained_weight, trained_bias, epochs, rmse\r\n",
        "\r\n",
        "print(\"Defined the create_model and traing_model functions.\")"
      ],
      "execution_count": 5,
      "outputs": [
        {
          "output_type": "stream",
          "text": [
            "Defined the create_model and traing_model functions.\n"
          ],
          "name": "stdout"
        }
      ]
    },
    {
      "cell_type": "code",
      "metadata": {
        "colab": {
          "base_uri": "https://localhost:8080/"
        },
        "id": "u9rLYaMMvAlF",
        "outputId": "d6fe6133-4734-4c4e-a3a7-b082180a4806"
      },
      "source": [
        "def plot_the_model(trained_weight, trained_bias, feature, label):\r\n",
        "  \"\"\"Plot the trained model against 200 random training examples.\"\"\"\r\n",
        "\r\n",
        "  # Label the axes.\r\n",
        "  plt.xlabel(feature)\r\n",
        "  plt.ylabel(label)\r\n",
        "\r\n",
        "  # Create a scatter plot from 200 random points of the dataset.\r\n",
        "  random_examples = training_df.sample(n=200)\r\n",
        "  plt.scatter(random_examples[feature], random_examples[label])\r\n",
        "\r\n",
        "  # Create a red line representing the model. The red line starts\r\n",
        "  # at coordinates (x0, y0) and ends at coordinates (x1, y1).\r\n",
        "  x0 = 0\r\n",
        "  y0 = trained_bias\r\n",
        "  x1 = 10000\r\n",
        "  y1 = trained_bias + (trained_weight * x1)\r\n",
        "  plt.plot([x0, x1], [y0, y1], c='r')\r\n",
        "\r\n",
        "  # Render the scatter plot and the red line.\r\n",
        "  plt.show()\r\n",
        "\r\n",
        "\r\n",
        "def plot_the_loss_curve(epochs, rmse):\r\n",
        "  \"\"\"Plot a curve of loss vs. epoch.\"\"\"\r\n",
        "\r\n",
        "  plt.figure()\r\n",
        "  plt.xlabel(\"Epoch\")\r\n",
        "  plt.ylabel(\"Root Mean Squared Error\")\r\n",
        "\r\n",
        "  plt.plot(epochs, rmse, label=\"Loss\")\r\n",
        "  plt.legend()\r\n",
        "  plt.ylim([rmse.min()*0.97, rmse.max()])\r\n",
        "  plt.show()  \r\n",
        "\r\n",
        "print(\"Defined the plot_the_model and plot_the_loss_curve functions.\")"
      ],
      "execution_count": 6,
      "outputs": [
        {
          "output_type": "stream",
          "text": [
            "Defined the plot_the_model and plot_the_loss_curve functions.\n"
          ],
          "name": "stdout"
        }
      ]
    },
    {
      "cell_type": "code",
      "metadata": {
        "colab": {
          "base_uri": "https://localhost:8080/",
          "height": 1000
        },
        "id": "RfA2GKwyvb8K",
        "outputId": "617c32d6-1c11-45c0-a639-4cf21ee33eb6"
      },
      "source": [
        "# The following variables are the hyperparameters.\r\n",
        "learning_rate = 0.01\r\n",
        "epochs = 30\r\n",
        "batch_size = 30\r\n",
        "\r\n",
        "# Specify the feature and the label.\r\n",
        "my_feature = \"total_rooms\"  # the total number of rooms on a specific city block.\r\n",
        "my_label=\"median_house_value\" # the median value of a house on a specific city block.\r\n",
        "# That is, you're going to create a model that predicts house value based \r\n",
        "# solely on total_rooms.  \r\n",
        "\r\n",
        "# Discard any pre-existing version of the model.\r\n",
        "my_model = None\r\n",
        "\r\n",
        "# Invoke the functions.\r\n",
        "my_model = build_model(learning_rate)\r\n",
        "weight, bias, epochs, rmse = train_model(my_model, training_df, \r\n",
        "                                         my_feature, my_label,\r\n",
        "                                         epochs, batch_size)\r\n",
        "\r\n",
        "print(\"\\nThe learned weight for your model is %.4f\" % weight)\r\n",
        "print(\"The learned bias for your model is %.4f\\n\" % bias )\r\n",
        "\r\n",
        "plot_the_model(weight, bias, my_feature, my_label)\r\n",
        "plot_the_loss_curve(epochs, rmse)"
      ],
      "execution_count": 7,
      "outputs": [
        {
          "output_type": "stream",
          "text": [
            "Epoch 1/30\n",
            "567/567 [==============================] - 1s 782us/step - loss: 2989691.1553 - root_mean_squared_error: 1586.4914\n",
            "Epoch 2/30\n",
            "567/567 [==============================] - 0s 857us/step - loss: 27754.5257 - root_mean_squared_error: 166.5726\n",
            "Epoch 3/30\n",
            "567/567 [==============================] - 0s 836us/step - loss: 27251.3094 - root_mean_squared_error: 165.0486\n",
            "Epoch 4/30\n",
            "567/567 [==============================] - 0s 831us/step - loss: 27080.3531 - root_mean_squared_error: 164.5338\n",
            "Epoch 5/30\n",
            "567/567 [==============================] - 0s 786us/step - loss: 26401.4707 - root_mean_squared_error: 162.4601\n",
            "Epoch 6/30\n",
            "567/567 [==============================] - 0s 834us/step - loss: 25055.9170 - root_mean_squared_error: 158.2727\n",
            "Epoch 7/30\n",
            "567/567 [==============================] - 0s 781us/step - loss: 24277.5307 - root_mean_squared_error: 155.7740\n",
            "Epoch 8/30\n",
            "567/567 [==============================] - 0s 759us/step - loss: 23791.9462 - root_mean_squared_error: 154.2282\n",
            "Epoch 9/30\n",
            "567/567 [==============================] - 0s 851us/step - loss: 23608.1996 - root_mean_squared_error: 153.6425\n",
            "Epoch 10/30\n",
            "567/567 [==============================] - 0s 782us/step - loss: 22880.1642 - root_mean_squared_error: 151.2538\n",
            "Epoch 11/30\n",
            "567/567 [==============================] - 0s 851us/step - loss: 22683.6342 - root_mean_squared_error: 150.5843\n",
            "Epoch 12/30\n",
            "567/567 [==============================] - 0s 825us/step - loss: 21121.1005 - root_mean_squared_error: 145.2996\n",
            "Epoch 13/30\n",
            "567/567 [==============================] - 0s 815us/step - loss: 20737.2727 - root_mean_squared_error: 143.9879\n",
            "Epoch 14/30\n",
            "567/567 [==============================] - 0s 791us/step - loss: 20778.0565 - root_mean_squared_error: 144.1353\n",
            "Epoch 15/30\n",
            "567/567 [==============================] - 0s 836us/step - loss: 19878.7821 - root_mean_squared_error: 140.9786\n",
            "Epoch 16/30\n",
            "567/567 [==============================] - 0s 819us/step - loss: 20467.4653 - root_mean_squared_error: 142.9953\n",
            "Epoch 17/30\n",
            "567/567 [==============================] - 0s 824us/step - loss: 19710.5969 - root_mean_squared_error: 140.3765\n",
            "Epoch 18/30\n",
            "567/567 [==============================] - 0s 816us/step - loss: 19331.3496 - root_mean_squared_error: 138.9765\n",
            "Epoch 19/30\n",
            "567/567 [==============================] - 0s 853us/step - loss: 18757.6676 - root_mean_squared_error: 136.8004\n",
            "Epoch 20/30\n",
            "567/567 [==============================] - 0s 799us/step - loss: 17634.0887 - root_mean_squared_error: 132.7834\n",
            "Epoch 21/30\n",
            "567/567 [==============================] - 0s 850us/step - loss: 17752.5583 - root_mean_squared_error: 133.2359\n",
            "Epoch 22/30\n",
            "567/567 [==============================] - 0s 785us/step - loss: 17718.8875 - root_mean_squared_error: 133.0920\n",
            "Epoch 23/30\n",
            "567/567 [==============================] - 0s 867us/step - loss: 17299.3004 - root_mean_squared_error: 131.5166\n",
            "Epoch 24/30\n",
            "567/567 [==============================] - 1s 949us/step - loss: 16961.1600 - root_mean_squared_error: 130.2031\n",
            "Epoch 25/30\n",
            "567/567 [==============================] - 0s 822us/step - loss: 16506.8201 - root_mean_squared_error: 128.4678\n",
            "Epoch 26/30\n",
            "567/567 [==============================] - 0s 828us/step - loss: 16145.9554 - root_mean_squared_error: 127.0597\n",
            "Epoch 27/30\n",
            "567/567 [==============================] - 0s 787us/step - loss: 15825.4606 - root_mean_squared_error: 125.7937\n",
            "Epoch 28/30\n",
            "567/567 [==============================] - 0s 816us/step - loss: 15486.4675 - root_mean_squared_error: 124.4260\n",
            "Epoch 29/30\n",
            "567/567 [==============================] - 0s 847us/step - loss: 15239.1576 - root_mean_squared_error: 123.4319\n",
            "Epoch 30/30\n",
            "567/567 [==============================] - 1s 947us/step - loss: 15245.2506 - root_mean_squared_error: 123.4616\n",
            "\n",
            "The learned weight for your model is 0.0235\n",
            "The learned bias for your model is 130.8267\n",
            "\n"
          ],
          "name": "stdout"
        },
        {
          "output_type": "stream",
          "text": [
            "/usr/local/lib/python3.6/dist-packages/numpy/core/_asarray.py:136: VisibleDeprecationWarning: Creating an ndarray from ragged nested sequences (which is a list-or-tuple of lists-or-tuples-or ndarrays with different lengths or shapes) is deprecated. If you meant to do this, you must specify 'dtype=object' when creating the ndarray\n",
            "  return array(a, dtype, copy=False, order=order, subok=True)\n"
          ],
          "name": "stderr"
        },
        {
          "output_type": "display_data",
          "data": {
            "image/png": "[encoded data removed]",
            "text/plain": [
              "<Figure size 432x288 with 1 Axes>"
            ]
          },
          "metadata": {
            "tags": [],
            "needs_background": "light"
          }
        },
        {
          "output_type": "display_data",
          "data": {
            "image/png": "[encoded data removed]",
            "text/plain": [
              "<Figure size 432x288 with 1 Axes>"
            ]
          },
          "metadata": {
            "tags": [],
            "needs_background": "light"
          }
        }
      ]
    },
    {
      "cell_type": "code",
      "metadata": {
        "id": "0lX8Fx6svkER"
      },
      "source": [
        "def predict_house_values(n, feature, label):\r\n",
        "  \"\"\"Predict house values based on a feature.\"\"\"\r\n",
        "\r\n",
        "  batch = training_df[feature][10000:10000 + n]\r\n",
        "  predicted_values = my_model.predict_on_batch(x=batch)\r\n",
        "\r\n",
        "  print(\"feature   label          predicted\")\r\n",
        "  print(\"  value   value          value\")\r\n",
        "  print(\"          in thousand$   in thousand$\")\r\n",
        "  print(\"--------------------------------------\")\r\n",
        "  for i in range(n):\r\n",
        "    print (\"%5.0f %6.0f %15.0f\" % (training_df[feature][10000 + i],\r\n",
        "                                   training_df[label][10000 + i],\r\n",
        "                                   predicted_values[i][0] ))"
      ],
      "execution_count": 8,
      "outputs": []
    },
    {
      "cell_type": "code",
      "metadata": {
        "colab": {
          "base_uri": "https://localhost:8080/"
        },
        "id": "FpEGFWjjwarZ",
        "outputId": "62737529-1e1b-4ec7-877f-a525dd1bba33"
      },
      "source": [
        "predict_house_values(10, my_feature, my_label)"
      ],
      "execution_count": 9,
      "outputs": [
        {
          "output_type": "stream",
          "text": [
            "feature   label          predicted\n",
            "  value   value          value\n",
            "          in thousand$   in thousand$\n",
            "--------------------------------------\n",
            " 1960     53             177\n",
            " 3400     92             211\n",
            " 3677     69             217\n",
            " 2202     62             183\n",
            " 2403     80             187\n",
            " 5652    295             264\n",
            " 3318    500             209\n",
            " 2552    342             191\n",
            " 1364    118             163\n",
            " 3468    128             212\n"
          ],
          "name": "stdout"
        }
      ]
    },
    {
      "cell_type": "code",
      "metadata": {
        "colab": {
          "base_uri": "https://localhost:8080/"
        },
        "id": "_F_6FI6zw41V",
        "outputId": "b68fa196-647c-4bf9-c5a2-cfafcaa1f19c"
      },
      "source": [
        "training_df.columns"
      ],
      "execution_count": 11,
      "outputs": [
        {
          "output_type": "execute_result",
          "data": {
            "text/plain": [
              "Index(['longitude', 'latitude', 'housing_median_age', 'total_rooms',\n",
              "       'total_bedrooms', 'population', 'households', 'median_income',\n",
              "       'median_house_value'],\n",
              "      dtype='object')"
            ]
          },
          "metadata": {
            "tags": []
          },
          "execution_count": 11
        }
      ]
    },
    {
      "cell_type": "code",
      "metadata": {
        "colab": {
          "base_uri": "https://localhost:8080/",
          "height": 1000
        },
        "id": "D23GG0WPww6F",
        "outputId": "cd91aa7c-e4c5-4d7f-843b-3a479d1c40e4"
      },
      "source": [
        "my_feature = \"median_house_value\"  # Replace the ? with population or possibly\r\n",
        "                   # a different column name.\r\n",
        "\r\n",
        "# Experiment with the hyperparameters.\r\n",
        "learning_rate = 0.05\r\n",
        "epochs = 3\r\n",
        "batch_size = 100\r\n",
        "\r\n",
        "# Don't change anything below this line.\r\n",
        "my_model = build_model(learning_rate)\r\n",
        "weight, bias, epochs, rmse = train_model(my_model, training_df, \r\n",
        "                                         my_feature, my_label,\r\n",
        "                                         epochs, batch_size)\r\n",
        "plot_the_model(weight, bias, my_feature, my_label)\r\n",
        "plot_the_loss_curve(epochs, rmse)\r\n",
        "\r\n",
        "predict_house_values(15, my_feature, my_label)"
      ],
      "execution_count": 17,
      "outputs": [
        {
          "output_type": "stream",
          "text": [
            "Epoch 1/3\n",
            "170/170 [==============================] - 0s 840us/step - loss: 57.8983 - root_mean_squared_error: 7.1876\n",
            "Epoch 2/3\n",
            "170/170 [==============================] - 0s 891us/step - loss: 36.6208 - root_mean_squared_error: 6.0440\n",
            "Epoch 3/3\n",
            "170/170 [==============================] - 0s 810us/step - loss: 36.0307 - root_mean_squared_error: 5.9980\n"
          ],
          "name": "stdout"
        },
        {
          "output_type": "stream",
          "text": [
            "/usr/local/lib/python3.6/dist-packages/numpy/core/_asarray.py:136: VisibleDeprecationWarning: Creating an ndarray from ragged nested sequences (which is a list-or-tuple of lists-or-tuples-or ndarrays with different lengths or shapes) is deprecated. If you meant to do this, you must specify 'dtype=object' when creating the ndarray\n",
            "  return array(a, dtype, copy=False, order=order, subok=True)\n"
          ],
          "name": "stderr"
        },
        {
          "output_type": "display_data",
          "data": {
            "image/png": "[encoded data removed]",
            "text/plain": [
              "<Figure size 432x288 with 1 Axes>"
            ]
          },
          "metadata": {
            "tags": [],
            "needs_background": "light"
          }
        },
        {
          "output_type": "display_data",
          "data": {
            "image/png": "[encoded data removed]",
            "text/plain": [
              "<Figure size 432x288 with 1 Axes>"
            ]
          },
          "metadata": {
            "tags": [],
            "needs_background": "light"
          }
        },
        {
          "output_type": "stream",
          "text": [
            "WARNING:tensorflow:6 out of the last 6 calls to <function Model.make_predict_function.<locals>.predict_function at 0x7f7cc37379d8> triggered tf.function retracing. Tracing is expensive and the excessive number of tracings could be due to (1) creating @tf.function repeatedly in a loop, (2) passing tensors with different shapes, (3) passing Python objects instead of tensors. For (1), please define your @tf.function outside of the loop. For (2), @tf.function has experimental_relax_shapes=True option that relaxes argument shapes that can avoid unnecessary retracing. For (3), please refer to https://www.tensorflow.org/guide/function#controlling_retracing and https://www.tensorflow.org/api_docs/python/tf/function for  more details.\n",
            "feature   label          predicted\n",
            "  value   value          value\n",
            "          in thousand$   in thousand$\n",
            "--------------------------------------\n",
            "   53     53              52\n",
            "   92     92              90\n",
            "   69     69              67\n",
            "   62     62              60\n",
            "   80     80              78\n",
            "  295    295             287\n",
            "  500    500             487\n",
            "  342    342             333\n",
            "  118    118             114\n",
            "  128    128             125\n",
            "  187    187             182\n",
            "   80     80              77\n",
            "  112    112             109\n",
            "   95     95              93\n",
            "   69     69              67\n"
          ],
          "name": "stdout"
        }
      ]
    }
  ]
}