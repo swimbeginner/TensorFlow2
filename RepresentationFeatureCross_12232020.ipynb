{
  "nbformat": 4,
  "nbformat_minor": 0,
  "metadata": {
    "colab": {
      "name": "RepresentationFeatureCross_12232020.ipynb",
      "provenance": [],
      "authorship_tag": "ABX9TyO2qhukXu0I4GugbEkkfagL",
      "include_colab_link": true
    },
    "kernelspec": {
      "name": "python3",
      "display_name": "Python 3"
    }
  },
  "cells": [
    {
      "cell_type": "markdown",
      "metadata": {
        "id": "view-in-github",
        "colab_type": "text"
      },
      "source": [
        "<a href=\"https://colab.research.google.com/github/swimbeginner/TensorFlow2/blob/main/RepresentationFeatureCross_12232020.ipynb\" target=\"_parent\"><img src=\"https://colab.research.google.com/assets/colab-badge.svg\" alt=\"Open In Colab\"/></a>"
      ]
    },
    {
      "cell_type": "code",
      "metadata": {
        "id": "49bwB3pKQ1fp"
      },
      "source": [
        ""
      ],
      "execution_count": null,
      "outputs": []
    },
    {
      "cell_type": "markdown",
      "metadata": {
        "id": "I6AZ92fYItBH"
      },
      "source": [
        "#Representation with a Feature cross\r\n",
        "from google crash course"
      ]
    },
    {
      "cell_type": "markdown",
      "metadata": {
        "id": "3MZenOWmM8YL"
      },
      "source": [
        "## Learning Objectives:\r\n",
        "\r\n",
        "After doing this Colab, you'll know how to:\r\n",
        "\r\n",
        "  * Use [`tf.feature_column`](https://www.tensorflow.org/api_docs/python/tf/feature_column) methods to represent features in different ways.\r\n",
        "  * Represent features as [bins](https://developers.google.com/machine-learning/glossary/#bucketing). \r\n",
        "  * Cross bins to create a [feature cross](https://developers.google.com/machine-learning/glossary/#feature_cross). "
      ]
    },
    {
      "cell_type": "markdown",
      "metadata": {
        "id": "_iFuflp5NHsH"
      },
      "source": [
        "California housing dataset"
      ]
    },
    {
      "cell_type": "code",
      "metadata": {
        "id": "aVk9YGSrNSPm"
      },
      "source": [
        "%tensorflow_version 2.x"
      ],
      "execution_count": 20,
      "outputs": []
    },
    {
      "cell_type": "code",
      "metadata": {
        "colab": {
          "base_uri": "https://localhost:8080/"
        },
        "id": "hehEQY02NUPe",
        "outputId": "311156de-b5eb-4977-e44b-7ae17cf3d457"
      },
      "source": [
        "import numpy as np\r\n",
        "import pandas as pd\r\n",
        "import tensorflow as tf\r\n",
        "from tensorflow import feature_column\r\n",
        "from tensorflow.keras import layers\r\n",
        "\r\n",
        "from matplotlib import pyplot as plt\r\n",
        "pd.options.display.max_rows=10\r\n",
        "pd.options.display.float_format=\"{:.1f}\".format\r\n",
        "\r\n",
        "\r\n",
        "tf.keras.backend.set_floatx('float32')\r\n",
        "print(\"imported the modules\")\r\n"
      ],
      "execution_count": 3,
      "outputs": [
        {
          "output_type": "stream",
          "text": [
            "imported the modules\n"
          ],
          "name": "stdout"
        }
      ]
    },
    {
      "cell_type": "code",
      "metadata": {
        "colab": {
          "base_uri": "https://localhost:8080/"
        },
        "id": "9o9e1b87dW_w",
        "outputId": "4dcf5475-d680-4917-e10f-5dc34ed52660"
      },
      "source": [
        "#check the format for float numbers in pandas \r\n",
        "a=pd.DataFrame(np.array([[1.22, 2.22],[3.33, 4.44]]), columns=['a','b'])\r\n",
        "print(a)"
      ],
      "execution_count": 21,
      "outputs": [
        {
          "output_type": "stream",
          "text": [
            "    a   b\n",
            "0 1.2 2.2\n",
            "1 3.3 4.4\n"
          ],
          "name": "stdout"
        }
      ]
    },
    {
      "cell_type": "code",
      "metadata": {
        "id": "bNRSRlxYfVsW"
      },
      "source": [
        "# Load the dataset\r\n",
        "train_df = pd.read_csv(\"https://download.mlcc.google.com/mledu-datasets/california_housing_train.csv\")\r\n",
        "test_df = pd.read_csv(\"https://download.mlcc.google.com/mledu-datasets/california_housing_test.csv\")\r\n",
        "\r\n",
        "# Scale the labels\r\n",
        "scale_factor = 1000.0\r\n",
        "# Scale the training set's label.\r\n",
        "train_df[\"median_house_value\"] /= scale_factor \r\n",
        "\r\n",
        "# Scale the test set's label\r\n",
        "test_df[\"median_house_value\"] /= scale_factor\r\n",
        "\r\n",
        "# Shuffle the examples\r\n",
        "train_df = train_df.reindex(np.random.permutation(train_df.index))"
      ],
      "execution_count": 22,
      "outputs": []
    },
    {
      "cell_type": "code",
      "metadata": {
        "colab": {
          "base_uri": "https://localhost:8080/"
        },
        "id": "gUi_AhPIIUGp",
        "outputId": "2b851d81-e2a7-4818-f54c-ab62569b5d00"
      },
      "source": [
        "train_df.head(5)\r\n",
        "features = {name:np.array(value) for name, value in train_df.items()}\r\n",
        "print(train_df.items())"
      ],
      "execution_count": 14,
      "outputs": [
        {
          "output_type": "stream",
          "text": [
            "<generator object DataFrame.items at 0x7f4dc3dfb308>\n"
          ],
          "name": "stdout"
        }
      ]
    },
    {
      "cell_type": "code",
      "metadata": {
        "colab": {
          "base_uri": "https://localhost:8080/"
        },
        "id": "0Jl91yNhJQoI",
        "outputId": "53fcbef6-8723-4e4e-a867-2ce9322a733d"
      },
      "source": [
        "DataFrame.item?"
      ],
      "execution_count": 18,
      "outputs": [
        {
          "output_type": "stream",
          "text": [
            "Object `DataFrame.item` not found.\n"
          ],
          "name": "stdout"
        }
      ]
    },
    {
      "cell_type": "markdown",
      "metadata": {
        "id": "YWXbbF3XWkS-"
      },
      "source": [
        "#Train model with multiple features."
      ]
    },
    {
      "cell_type": "code",
      "metadata": {
        "id": "eLbEFJgXWSY9"
      },
      "source": [
        "# Create an empty list that will eventually hold all feature columns.\r\n",
        "feature_columns = []\r\n",
        "# Create a numerical feature column to represent latitude.\r\n",
        "latitude = tf.feature_column.numeric_column(\"latitude\")\r\n",
        "feature_columns.append(latitude)\r\n",
        "\r\n",
        "# Create a numerical feature column to represent longitude.\r\n",
        "longitude = tf.feature_column.numeric_column(\"longitude\")\r\n",
        "feature_columns.append(longitude)\r\n",
        "\r\n",
        "# Convert the list of feature columns into a layer that will ultimately become\r\n",
        "# part of the model. Understanding layers is not important right now.\r\n",
        "fp_feature_layer = layers.DenseFeatures(feature_columns)"
      ],
      "execution_count": 23,
      "outputs": []
    },
    {
      "cell_type": "code",
      "metadata": {
        "colab": {
          "base_uri": "https://localhost:8080/"
        },
        "id": "KKERZoW3fvjN",
        "outputId": "f42709dc-d5b8-49e6-e41e-03c49aedd49c"
      },
      "source": [
        "print(type(latitude))\r\n",
        "print(latitude)"
      ],
      "execution_count": 9,
      "outputs": [
        {
          "output_type": "stream",
          "text": [
            "<class 'tensorflow.python.feature_column.feature_column_v2.NumericColumn'>\n",
            "NumericColumn(key='latitude', shape=(1,), default_value=None, dtype=tf.float32, normalizer_fn=None)\n"
          ],
          "name": "stdout"
        }
      ]
    },
    {
      "cell_type": "code",
      "metadata": {
        "colab": {
          "base_uri": "https://localhost:8080/"
        },
        "id": "4SS5jmdd07uZ",
        "outputId": "947f8a2c-ebe6-4673-f1bf-783a73adfb03"
      },
      "source": [
        "def create_model(my_learning_rate, feature_layer):\r\n",
        "  model=tf.keras.models.Sequential()\r\n",
        "  model.add(feature_layer)\r\n",
        "  model.add(tf.keras.layers.Dense(units=1, input_shape=(1,)))\r\n",
        "  model.compile(optimizer=tf.keras.optimizers.RMSprop(lr=my_learning_rate), loss=\"mean_squared_error\", metrics=[tf.keras.metrics.RootMeanSquaredError()])\r\n",
        "  return model\r\n",
        "\r\n",
        "def train_model(model, dataset, epochs, batch_size, label_name):\r\n",
        "  features = {name:np.array(value) for name, value in dataset.items()}\r\n",
        "  label = np.array(features.pop(label_name))\r\n",
        "  history = model.fit(x=features, y=label, batch_size=batch_size,\r\n",
        "                      epochs=epochs, shuffle=True)\r\n",
        "\r\n",
        "  # The list of epochs is stored separately from the rest of history.\r\n",
        "  epochs = history.epoch\r\n",
        "  \r\n",
        "  # Isolate the mean absolute error for each epoch.\r\n",
        "  hist = pd.DataFrame(history.history)\r\n",
        "  rmse = hist[\"root_mean_squared_error\"]\r\n",
        "\r\n",
        "  return epochs, rmse   \r\n",
        "\r\n",
        "\r\n",
        "def plot_the_loss_curve(epochs, rmse):\r\n",
        "  \"\"\"Plot a curve of loss vs. epoch.\"\"\"\r\n",
        "\r\n",
        "  plt.figure()\r\n",
        "  plt.xlabel(\"Epoch\")\r\n",
        "  plt.ylabel(\"Root Mean Squared Error\")\r\n",
        "\r\n",
        "  plt.plot(epochs, rmse, label=\"Loss\")\r\n",
        "  plt.legend()\r\n",
        "  plt.ylim([rmse.min()*0.94, rmse.max()* 1.05])\r\n",
        "  plt.show()  \r\n",
        "\r\n",
        "print(\"Defined the create_model, train_model, and plot_the_loss_curve functions.\")"
      ],
      "execution_count": 27,
      "outputs": [
        {
          "output_type": "stream",
          "text": [
            "Defined the create_model, train_model, and plot_the_loss_curve functions.\n"
          ],
          "name": "stdout"
        }
      ]
    },
    {
      "cell_type": "code",
      "metadata": {
        "colab": {
          "base_uri": "https://localhost:8080/",
          "height": 1000
        },
        "id": "uhPL5zzWLR8I",
        "outputId": "da67d0a6-fa4a-4890-d9e8-bd114277f80a"
      },
      "source": [
        "# The following variables are the hyperparameters.\r\n",
        "learning_rate = 0.05\r\n",
        "epochs = 30\r\n",
        "batch_size = 100\r\n",
        "label_name = 'median_house_value'\r\n",
        "\r\n",
        "# Create and compile the model's topography.\r\n",
        "my_model = create_model(learning_rate, fp_feature_layer)\r\n",
        "\r\n",
        "# Train the model on the training set.\r\n",
        "epochs, rmse = train_model(my_model, train_df, epochs, batch_size, label_name)\r\n",
        "\r\n",
        "plot_the_loss_curve(epochs, rmse)\r\n",
        "\r\n",
        "print(\"\\n: Evaluate the new model against the test set:\")\r\n",
        "test_features = {name:np.array(value) for name, value in test_df.items()}\r\n",
        "test_label = np.array(test_features.pop(label_name))\r\n",
        "my_model.evaluate(x=test_features, y=test_label, batch_size=batch_size)"
      ],
      "execution_count": 28,
      "outputs": [
        {
          "output_type": "stream",
          "text": [
            "Epoch 1/30\n",
            "WARNING:tensorflow:Layers in a Sequential model should only have a single input tensor, but we receive a <class 'dict'> input: {'longitude': <tf.Tensor 'ExpandDims_3:0' shape=(100, 1) dtype=float32>, 'latitude': <tf.Tensor 'ExpandDims_2:0' shape=(100, 1) dtype=float32>, 'housing_median_age': <tf.Tensor 'ExpandDims_1:0' shape=(100, 1) dtype=float32>, 'total_rooms': <tf.Tensor 'ExpandDims_7:0' shape=(100, 1) dtype=float32>, 'total_bedrooms': <tf.Tensor 'ExpandDims_6:0' shape=(100, 1) dtype=float32>, 'population': <tf.Tensor 'ExpandDims_5:0' shape=(100, 1) dtype=float32>, 'households': <tf.Tensor 'ExpandDims:0' shape=(100, 1) dtype=float32>, 'median_income': <tf.Tensor 'ExpandDims_4:0' shape=(100, 1) dtype=float32>}\n",
            "Consider rewriting this model with the Functional API.\n",
            "WARNING:tensorflow:Layers in a Sequential model should only have a single input tensor, but we receive a <class 'dict'> input: {'longitude': <tf.Tensor 'ExpandDims_3:0' shape=(100, 1) dtype=float32>, 'latitude': <tf.Tensor 'ExpandDims_2:0' shape=(100, 1) dtype=float32>, 'housing_median_age': <tf.Tensor 'ExpandDims_1:0' shape=(100, 1) dtype=float32>, 'total_rooms': <tf.Tensor 'ExpandDims_7:0' shape=(100, 1) dtype=float32>, 'total_bedrooms': <tf.Tensor 'ExpandDims_6:0' shape=(100, 1) dtype=float32>, 'population': <tf.Tensor 'ExpandDims_5:0' shape=(100, 1) dtype=float32>, 'households': <tf.Tensor 'ExpandDims:0' shape=(100, 1) dtype=float32>, 'median_income': <tf.Tensor 'ExpandDims_4:0' shape=(100, 1) dtype=float32>}\n",
            "Consider rewriting this model with the Functional API.\n",
            "170/170 [==============================] - 1s 1ms/step - loss: 47077.9588 - root_mean_squared_error: 209.2343\n",
            "Epoch 2/30\n",
            "170/170 [==============================] - 0s 1ms/step - loss: 13478.7857 - root_mean_squared_error: 116.0889\n",
            "Epoch 3/30\n",
            "170/170 [==============================] - 0s 1ms/step - loss: 13455.5311 - root_mean_squared_error: 115.9933\n",
            "Epoch 4/30\n",
            "170/170 [==============================] - 0s 1ms/step - loss: 13665.9412 - root_mean_squared_error: 116.8931\n",
            "Epoch 5/30\n",
            "170/170 [==============================] - 0s 1ms/step - loss: 13735.5998 - root_mean_squared_error: 117.1882\n",
            "Epoch 6/30\n",
            "170/170 [==============================] - 0s 1ms/step - loss: 13576.4572 - root_mean_squared_error: 116.5100\n",
            "Epoch 7/30\n",
            "170/170 [==============================] - 0s 1ms/step - loss: 13319.9053 - root_mean_squared_error: 115.4082\n",
            "Epoch 8/30\n",
            "170/170 [==============================] - 0s 1ms/step - loss: 13400.8276 - root_mean_squared_error: 115.7584\n",
            "Epoch 9/30\n",
            "170/170 [==============================] - 0s 1ms/step - loss: 13555.8498 - root_mean_squared_error: 116.4240\n",
            "Epoch 10/30\n",
            "170/170 [==============================] - 0s 1ms/step - loss: 13415.5126 - root_mean_squared_error: 115.8149\n",
            "Epoch 11/30\n",
            "170/170 [==============================] - 0s 1ms/step - loss: 13369.6724 - root_mean_squared_error: 115.6222\n",
            "Epoch 12/30\n",
            "170/170 [==============================] - 0s 1ms/step - loss: 13234.2922 - root_mean_squared_error: 115.0392\n",
            "Epoch 13/30\n",
            "170/170 [==============================] - 0s 1ms/step - loss: 12984.3742 - root_mean_squared_error: 113.9442\n",
            "Epoch 14/30\n",
            "170/170 [==============================] - 0s 1ms/step - loss: 13132.7951 - root_mean_squared_error: 114.5929\n",
            "Epoch 15/30\n",
            "170/170 [==============================] - 0s 1ms/step - loss: 13343.9147 - root_mean_squared_error: 115.5113\n",
            "Epoch 16/30\n",
            "170/170 [==============================] - 0s 1ms/step - loss: 13179.2432 - root_mean_squared_error: 114.7864\n",
            "Epoch 17/30\n",
            "170/170 [==============================] - 0s 1ms/step - loss: 13147.2057 - root_mean_squared_error: 114.6488\n",
            "Epoch 18/30\n",
            "170/170 [==============================] - 0s 1ms/step - loss: 12852.9849 - root_mean_squared_error: 113.3649\n",
            "Epoch 19/30\n",
            "170/170 [==============================] - 0s 1ms/step - loss: 13084.1183 - root_mean_squared_error: 114.3803\n",
            "Epoch 20/30\n",
            "170/170 [==============================] - 0s 1ms/step - loss: 13214.2334 - root_mean_squared_error: 114.9498\n",
            "Epoch 21/30\n",
            "170/170 [==============================] - 0s 1ms/step - loss: 12816.6244 - root_mean_squared_error: 113.1986\n",
            "Epoch 22/30\n",
            "170/170 [==============================] - 0s 1ms/step - loss: 13029.1812 - root_mean_squared_error: 114.1419\n",
            "Epoch 23/30\n",
            "170/170 [==============================] - 0s 1ms/step - loss: 12913.4022 - root_mean_squared_error: 113.6335\n",
            "Epoch 24/30\n",
            "170/170 [==============================] - 0s 1ms/step - loss: 12931.2318 - root_mean_squared_error: 113.7128\n",
            "Epoch 25/30\n",
            "170/170 [==============================] - 0s 1ms/step - loss: 13100.2805 - root_mean_squared_error: 114.4460\n",
            "Epoch 26/30\n",
            "170/170 [==============================] - 0s 1ms/step - loss: 12678.6182 - root_mean_squared_error: 112.5937\n",
            "Epoch 27/30\n",
            "170/170 [==============================] - 0s 1ms/step - loss: 13204.6286 - root_mean_squared_error: 114.8867\n",
            "Epoch 28/30\n",
            "170/170 [==============================] - 0s 1ms/step - loss: 12797.7114 - root_mean_squared_error: 113.1253\n",
            "Epoch 29/30\n",
            "170/170 [==============================] - 0s 1ms/step - loss: 12699.8839 - root_mean_squared_error: 112.6870\n",
            "Epoch 30/30\n",
            "170/170 [==============================] - 0s 1ms/step - loss: 12892.5541 - root_mean_squared_error: 113.5425\n"
          ],
          "name": "stdout"
        },
        {
          "output_type": "display_data",
          "data": {
            "image/png": "[encoded data removed]",
            "text/plain": [
              "<Figure size 432x288 with 1 Axes>"
            ]
          },
          "metadata": {
            "tags": [],
            "needs_background": "light"
          }
        },
        {
          "output_type": "stream",
          "text": [
            "\n",
            ": Evaluate the new model against the test set:\n",
            "WARNING:tensorflow:Layers in a Sequential model should only have a single input tensor, but we receive a <class 'dict'> input: {'longitude': <tf.Tensor 'ExpandDims_3:0' shape=(100, 1) dtype=float32>, 'latitude': <tf.Tensor 'ExpandDims_2:0' shape=(100, 1) dtype=float32>, 'housing_median_age': <tf.Tensor 'ExpandDims_1:0' shape=(100, 1) dtype=float32>, 'total_rooms': <tf.Tensor 'ExpandDims_7:0' shape=(100, 1) dtype=float32>, 'total_bedrooms': <tf.Tensor 'ExpandDims_6:0' shape=(100, 1) dtype=float32>, 'population': <tf.Tensor 'ExpandDims_5:0' shape=(100, 1) dtype=float32>, 'households': <tf.Tensor 'ExpandDims:0' shape=(100, 1) dtype=float32>, 'median_income': <tf.Tensor 'ExpandDims_4:0' shape=(100, 1) dtype=float32>}\n",
            "Consider rewriting this model with the Functional API.\n",
            "30/30 [==============================] - 0s 1ms/step - loss: 12195.7490 - root_mean_squared_error: 110.4344\n"
          ],
          "name": "stdout"
        },
        {
          "output_type": "execute_result",
          "data": {
            "text/plain": [
              "[12195.7490234375, 110.43436431884766]"
            ]
          },
          "metadata": {
            "tags": []
          },
          "execution_count": 28
        }
      ]
    },
    {
      "cell_type": "markdown",
      "metadata": {
        "id": "iT7QHhJOL2X9"
      },
      "source": [
        "## Represent latitude and longitude in buckets\r\n",
        "\r\n",
        "The following code cell represents latitude and longitude in buckets (bins). Each bin represents all the neighborhoods within a single degree. For example,\r\n",
        "neighborhoods at latitude 35.4 and 35.8 are in the same bucket, but neighborhoods in latitude 35.4 and 36.2 are in different buckets. \r\n",
        "\r\n",
        "The model will learn a separate weight for each bucket. For example, the model will learn one weight for all the neighborhoods in the \"35\" bin\", a different weight for neighborhoods in the \"36\" bin, and so on. This representation will create approximately 20 buckets:\r\n",
        " \r\n",
        "  * 10 buckets for `latitude`. \r\n",
        "  * 10 buckets for `longitude`. "
      ]
    },
    {
      "cell_type": "code",
      "metadata": {
        "id": "EU_zpXV6L52M"
      },
      "source": [
        "resolution_in_degrees = 1.0 \r\n",
        "\r\n",
        "# Create a new empty list that will eventually hold the generated feature column.\r\n",
        "feature_columns = []\r\n",
        "\r\n",
        "# Create a bucket feature column for latitude.\r\n",
        "latitude_as_a_numeric_column = tf.feature_column.numeric_column(\"latitude\")\r\n",
        "latitude_boundaries = list(np.arange(int(min(train_df['latitude'])), \r\n",
        "                                     int(max(train_df['latitude'])), \r\n",
        "                                     resolution_in_degrees))\r\n",
        "latitude = tf.feature_column.bucketized_column(latitude_as_a_numeric_column, \r\n",
        "                                               latitude_boundaries)\r\n",
        "feature_columns.append(latitude)\r\n",
        "\r\n",
        "# Create a bucket feature column for longitude.\r\n",
        "longitude_as_a_numeric_column = tf.feature_column.numeric_column(\"longitude\")\r\n",
        "longitude_boundaries = list(np.arange(int(min(train_df['longitude'])), \r\n",
        "                                      int(max(train_df['longitude'])), \r\n",
        "                                      resolution_in_degrees))\r\n",
        "longitude = tf.feature_column.bucketized_column(longitude_as_a_numeric_column, \r\n",
        "                                                longitude_boundaries)\r\n",
        "feature_columns.append(longitude)\r\n",
        "\r\n",
        "# Convert the list of feature columns into a layer that will ultimately become\r\n",
        "# part of the model. Understanding layers is not important right now.\r\n",
        "buckets_feature_layer = layers.DenseFeatures(feature_columns)"
      ],
      "execution_count": 30,
      "outputs": []
    },
    {
      "cell_type": "code",
      "metadata": {
        "colab": {
          "base_uri": "https://localhost:8080/"
        },
        "id": "aMtMNRstMI7b",
        "outputId": "fe9aaa11-0a45-430c-de03-71a2ad657e32"
      },
      "source": [
        "print(latitude_boundaries, longitude_boundaries)"
      ],
      "execution_count": 32,
      "outputs": [
        {
          "output_type": "stream",
          "text": [
            "[32.0, 33.0, 34.0, 35.0, 36.0, 37.0, 38.0, 39.0, 40.0] [-124.0, -123.0, -122.0, -121.0, -120.0, -119.0, -118.0, -117.0, -116.0, -115.0]\n"
          ],
          "name": "stdout"
        }
      ]
    },
    {
      "cell_type": "code",
      "metadata": {
        "colab": {
          "base_uri": "https://localhost:8080/",
          "height": 1000
        },
        "id": "lkE9Y2WfMdZU",
        "outputId": "6c5b0b8f-4b71-4c18-e2af-7f0c6d674009"
      },
      "source": [
        "# The following variables are the hyperparameters.\r\n",
        "learning_rate = 0.04\r\n",
        "epochs = 35\r\n",
        "\r\n",
        "# Build the model, this time passing in the buckets_feature_layer.\r\n",
        "my_model = create_model(learning_rate, buckets_feature_layer)\r\n",
        "\r\n",
        "# Train the model on the training set.\r\n",
        "epochs, rmse = train_model(my_model, train_df, epochs, batch_size, label_name)\r\n",
        "\r\n",
        "plot_the_loss_curve(epochs, rmse)\r\n",
        "\r\n",
        "print(\"\\n: Evaluate the new model against the test set:\")\r\n",
        "my_model.evaluate(x=test_features, y=test_label, batch_size=batch_size)"
      ],
      "execution_count": 33,
      "outputs": [
        {
          "output_type": "stream",
          "text": [
            "Epoch 1/35\n",
            "WARNING:tensorflow:Layers in a Sequential model should only have a single input tensor, but we receive a <class 'dict'> input: {'longitude': <tf.Tensor 'ExpandDims_3:0' shape=(100, 1) dtype=float32>, 'latitude': <tf.Tensor 'ExpandDims_2:0' shape=(100, 1) dtype=float32>, 'housing_median_age': <tf.Tensor 'ExpandDims_1:0' shape=(100, 1) dtype=float32>, 'total_rooms': <tf.Tensor 'ExpandDims_7:0' shape=(100, 1) dtype=float32>, 'total_bedrooms': <tf.Tensor 'ExpandDims_6:0' shape=(100, 1) dtype=float32>, 'population': <tf.Tensor 'ExpandDims_5:0' shape=(100, 1) dtype=float32>, 'households': <tf.Tensor 'ExpandDims:0' shape=(100, 1) dtype=float32>, 'median_income': <tf.Tensor 'ExpandDims_4:0' shape=(100, 1) dtype=float32>}\n",
            "Consider rewriting this model with the Functional API.\n",
            "WARNING:tensorflow:Layers in a Sequential model should only have a single input tensor, but we receive a <class 'dict'> input: {'longitude': <tf.Tensor 'ExpandDims_3:0' shape=(100, 1) dtype=float32>, 'latitude': <tf.Tensor 'ExpandDims_2:0' shape=(100, 1) dtype=float32>, 'housing_median_age': <tf.Tensor 'ExpandDims_1:0' shape=(100, 1) dtype=float32>, 'total_rooms': <tf.Tensor 'ExpandDims_7:0' shape=(100, 1) dtype=float32>, 'total_bedrooms': <tf.Tensor 'ExpandDims_6:0' shape=(100, 1) dtype=float32>, 'population': <tf.Tensor 'ExpandDims_5:0' shape=(100, 1) dtype=float32>, 'households': <tf.Tensor 'ExpandDims:0' shape=(100, 1) dtype=float32>, 'median_income': <tf.Tensor 'ExpandDims_4:0' shape=(100, 1) dtype=float32>}\n",
            "Consider rewriting this model with the Functional API.\n",
            "170/170 [==============================] - 1s 1ms/step - loss: 54034.4251 - root_mean_squared_error: 232.4347\n",
            "Epoch 2/35\n",
            "170/170 [==============================] - 0s 1ms/step - loss: 47177.1401 - root_mean_squared_error: 217.1523\n",
            "Epoch 3/35\n",
            "170/170 [==============================] - 0s 1ms/step - loss: 39273.0646 - root_mean_squared_error: 198.1640\n",
            "Epoch 4/35\n",
            "170/170 [==============================] - 0s 1ms/step - loss: 33350.3876 - root_mean_squared_error: 182.5990\n",
            "Epoch 5/35\n",
            "170/170 [==============================] - 0s 1ms/step - loss: 28136.1305 - root_mean_squared_error: 167.7150\n",
            "Epoch 6/35\n",
            "170/170 [==============================] - 0s 1ms/step - loss: 24255.3155 - root_mean_squared_error: 155.7112\n",
            "Epoch 7/35\n",
            "170/170 [==============================] - 0s 1ms/step - loss: 20639.4532 - root_mean_squared_error: 143.6283\n",
            "Epoch 8/35\n",
            "170/170 [==============================] - 0s 1ms/step - loss: 17627.5322 - root_mean_squared_error: 132.7194\n",
            "Epoch 9/35\n",
            "170/170 [==============================] - 0s 1ms/step - loss: 15331.0939 - root_mean_squared_error: 123.7922\n",
            "Epoch 10/35\n",
            "170/170 [==============================] - 0s 1ms/step - loss: 13123.6665 - root_mean_squared_error: 114.5343\n",
            "Epoch 11/35\n",
            "170/170 [==============================] - 0s 1ms/step - loss: 12396.6586 - root_mean_squared_error: 111.3112\n",
            "Epoch 12/35\n",
            "170/170 [==============================] - 0s 1ms/step - loss: 11268.3144 - root_mean_squared_error: 106.1403\n",
            "Epoch 13/35\n",
            "170/170 [==============================] - 0s 1ms/step - loss: 11337.5878 - root_mean_squared_error: 106.4436\n",
            "Epoch 14/35\n",
            "170/170 [==============================] - 0s 1ms/step - loss: 11170.1058 - root_mean_squared_error: 105.6686\n",
            "Epoch 15/35\n",
            "170/170 [==============================] - 0s 1ms/step - loss: 10567.5013 - root_mean_squared_error: 102.7942\n",
            "Epoch 16/35\n",
            "170/170 [==============================] - 0s 1ms/step - loss: 10571.2289 - root_mean_squared_error: 102.8131\n",
            "Epoch 17/35\n",
            "170/170 [==============================] - 0s 1ms/step - loss: 10669.6578 - root_mean_squared_error: 103.2901\n",
            "Epoch 18/35\n",
            "170/170 [==============================] - 0s 1ms/step - loss: 10787.9759 - root_mean_squared_error: 103.8596\n",
            "Epoch 19/35\n",
            "170/170 [==============================] - 0s 1ms/step - loss: 10342.7044 - root_mean_squared_error: 101.6944\n",
            "Epoch 20/35\n",
            "170/170 [==============================] - 0s 1ms/step - loss: 10582.5140 - root_mean_squared_error: 102.8698\n",
            "Epoch 21/35\n",
            "170/170 [==============================] - 0s 1ms/step - loss: 10463.8387 - root_mean_squared_error: 102.2899\n",
            "Epoch 22/35\n",
            "170/170 [==============================] - 0s 1ms/step - loss: 10233.5573 - root_mean_squared_error: 101.1523\n",
            "Epoch 23/35\n",
            "170/170 [==============================] - 0s 1ms/step - loss: 10417.6321 - root_mean_squared_error: 102.0624\n",
            "Epoch 24/35\n",
            "170/170 [==============================] - 0s 1ms/step - loss: 10327.6063 - root_mean_squared_error: 101.6197\n",
            "Epoch 25/35\n",
            "170/170 [==============================] - 0s 1ms/step - loss: 10655.2886 - root_mean_squared_error: 103.2204\n",
            "Epoch 26/35\n",
            "170/170 [==============================] - 0s 1ms/step - loss: 10372.8378 - root_mean_squared_error: 101.8401\n",
            "Epoch 27/35\n",
            "170/170 [==============================] - 0s 1ms/step - loss: 10428.8935 - root_mean_squared_error: 102.1187\n",
            "Epoch 28/35\n",
            "170/170 [==============================] - 0s 1ms/step - loss: 10507.7192 - root_mean_squared_error: 102.5024\n",
            "Epoch 29/35\n",
            "170/170 [==============================] - 0s 1ms/step - loss: 10399.2055 - root_mean_squared_error: 101.9732\n",
            "Epoch 30/35\n",
            "170/170 [==============================] - 0s 1ms/step - loss: 10355.7600 - root_mean_squared_error: 101.7551\n",
            "Epoch 31/35\n",
            "170/170 [==============================] - 0s 1ms/step - loss: 10311.1721 - root_mean_squared_error: 101.5387\n",
            "Epoch 32/35\n",
            "170/170 [==============================] - 0s 1ms/step - loss: 10423.8695 - root_mean_squared_error: 102.0935\n",
            "Epoch 33/35\n",
            "170/170 [==============================] - 0s 1ms/step - loss: 10354.2169 - root_mean_squared_error: 101.7491\n",
            "Epoch 34/35\n",
            "170/170 [==============================] - 0s 1ms/step - loss: 10453.0302 - root_mean_squared_error: 102.2344\n",
            "Epoch 35/35\n",
            "170/170 [==============================] - 0s 1ms/step - loss: 10404.4752 - root_mean_squared_error: 101.9972\n"
          ],
          "name": "stdout"
        },
        {
          "output_type": "display_data",
          "data": {
            "image/png": "[encoded data removed]",
            "text/plain": [
              "<Figure size 432x288 with 1 Axes>"
            ]
          },
          "metadata": {
            "tags": [],
            "needs_background": "light"
          }
        },
        {
          "output_type": "stream",
          "text": [
            "\n",
            ": Evaluate the new model against the test set:\n",
            "WARNING:tensorflow:Layers in a Sequential model should only have a single input tensor, but we receive a <class 'dict'> input: {'longitude': <tf.Tensor 'ExpandDims_3:0' shape=(100, 1) dtype=float32>, 'latitude': <tf.Tensor 'ExpandDims_2:0' shape=(100, 1) dtype=float32>, 'housing_median_age': <tf.Tensor 'ExpandDims_1:0' shape=(100, 1) dtype=float32>, 'total_rooms': <tf.Tensor 'ExpandDims_7:0' shape=(100, 1) dtype=float32>, 'total_bedrooms': <tf.Tensor 'ExpandDims_6:0' shape=(100, 1) dtype=float32>, 'population': <tf.Tensor 'ExpandDims_5:0' shape=(100, 1) dtype=float32>, 'households': <tf.Tensor 'ExpandDims:0' shape=(100, 1) dtype=float32>, 'median_income': <tf.Tensor 'ExpandDims_4:0' shape=(100, 1) dtype=float32>}\n",
            "Consider rewriting this model with the Functional API.\n",
            "30/30 [==============================] - 0s 1ms/step - loss: 10199.4385 - root_mean_squared_error: 100.9923\n"
          ],
          "name": "stdout"
        },
        {
          "output_type": "execute_result",
          "data": {
            "text/plain": [
              "[10199.4384765625, 100.99227142333984]"
            ]
          },
          "metadata": {
            "tags": []
          },
          "execution_count": 33
        }
      ]
    },
    {
      "cell_type": "markdown",
      "metadata": {
        "id": "xTyGonFAM5Xg"
      },
      "source": [
        "##Feature Crosses representation"
      ]
    },
    {
      "cell_type": "code",
      "metadata": {
        "id": "6NnsKXDHM4Nh"
      },
      "source": [
        "resolution_in_degrees = 0.5 \r\n",
        "\r\n",
        "# Create a new empty list that will eventually hold the generated feature column.\r\n",
        "feature_columns = []\r\n",
        "\r\n",
        "# Create a bucket feature column for latitude.\r\n",
        "latitude_as_a_numeric_column = tf.feature_column.numeric_column(\"latitude\")\r\n",
        "latitude_boundaries = list(np.arange(int(min(train_df['latitude'])), int(max(train_df['latitude'])), resolution_in_degrees))\r\n",
        "latitude = tf.feature_column.bucketized_column(latitude_as_a_numeric_column, latitude_boundaries)\r\n",
        "\r\n",
        "# Create a bucket feature column for longitude.\r\n",
        "longitude_as_a_numeric_column = tf.feature_column.numeric_column(\"longitude\")\r\n",
        "longitude_boundaries = list(np.arange(int(min(train_df['longitude'])), int(max(train_df['longitude'])), resolution_in_degrees))\r\n",
        "longitude = tf.feature_column.bucketized_column(longitude_as_a_numeric_column, longitude_boundaries)\r\n",
        "\r\n",
        "# Create a feature cross of latitude and longitude.\r\n",
        "latitude_x_longitude = tf.feature_column.crossed_column([latitude, longitude], hash_bucket_size=400)\r\n",
        "crossed_feature = tf.feature_column.indicator_column(latitude_x_longitude)\r\n",
        "feature_columns.append(crossed_feature)\r\n",
        "\r\n",
        "# Convert the list of feature columns into a layer that will later be fed into\r\n",
        "# the model. \r\n",
        "feature_cross_feature_layer = layers.DenseFeatures(feature_columns)"
      ],
      "execution_count": 38,
      "outputs": []
    },
    {
      "cell_type": "code",
      "metadata": {
        "colab": {
          "base_uri": "https://localhost:8080/",
          "height": 1000
        },
        "id": "v0hdCmwANAGS",
        "outputId": "dbf8b67e-389f-4ace-ddf0-3eea80d77d79"
      },
      "source": [
        "# The following variables are the hyperparameters.\r\n",
        "learning_rate = 0.04\r\n",
        "epochs = 35\r\n",
        "\r\n",
        "# Build the model, this time passing in the feature_cross_feature_layer: \r\n",
        "my_model = create_model(learning_rate, feature_cross_feature_layer)\r\n",
        "\r\n",
        "# Train the model on the training set.\r\n",
        "epochs, rmse = train_model(my_model, train_df, epochs, batch_size, label_name)\r\n",
        "\r\n",
        "plot_the_loss_curve(epochs, rmse)\r\n",
        "\r\n",
        "print(\"\\n: Evaluate the new model against the test set:\")\r\n",
        "my_model.evaluate(x=test_features, y=test_label, batch_size=batch_size)"
      ],
      "execution_count": 39,
      "outputs": [
        {
          "output_type": "stream",
          "text": [
            "Epoch 1/35\n",
            "WARNING:tensorflow:Layers in a Sequential model should only have a single input tensor, but we receive a <class 'dict'> input: {'longitude': <tf.Tensor 'ExpandDims_3:0' shape=(100, 1) dtype=float32>, 'latitude': <tf.Tensor 'ExpandDims_2:0' shape=(100, 1) dtype=float32>, 'housing_median_age': <tf.Tensor 'ExpandDims_1:0' shape=(100, 1) dtype=float32>, 'total_rooms': <tf.Tensor 'ExpandDims_7:0' shape=(100, 1) dtype=float32>, 'total_bedrooms': <tf.Tensor 'ExpandDims_6:0' shape=(100, 1) dtype=float32>, 'population': <tf.Tensor 'ExpandDims_5:0' shape=(100, 1) dtype=float32>, 'households': <tf.Tensor 'ExpandDims:0' shape=(100, 1) dtype=float32>, 'median_income': <tf.Tensor 'ExpandDims_4:0' shape=(100, 1) dtype=float32>}\n",
            "Consider rewriting this model with the Functional API.\n",
            "WARNING:tensorflow:Layers in a Sequential model should only have a single input tensor, but we receive a <class 'dict'> input: {'longitude': <tf.Tensor 'ExpandDims_3:0' shape=(100, 1) dtype=float32>, 'latitude': <tf.Tensor 'ExpandDims_2:0' shape=(100, 1) dtype=float32>, 'housing_median_age': <tf.Tensor 'ExpandDims_1:0' shape=(100, 1) dtype=float32>, 'total_rooms': <tf.Tensor 'ExpandDims_7:0' shape=(100, 1) dtype=float32>, 'total_bedrooms': <tf.Tensor 'ExpandDims_6:0' shape=(100, 1) dtype=float32>, 'population': <tf.Tensor 'ExpandDims_5:0' shape=(100, 1) dtype=float32>, 'households': <tf.Tensor 'ExpandDims:0' shape=(100, 1) dtype=float32>, 'median_income': <tf.Tensor 'ExpandDims_4:0' shape=(100, 1) dtype=float32>}\n",
            "Consider rewriting this model with the Functional API.\n",
            "170/170 [==============================] - 1s 2ms/step - loss: 55321.3777 - root_mean_squared_error: 235.1808\n",
            "Epoch 2/35\n",
            "170/170 [==============================] - 0s 2ms/step - loss: 50741.6471 - root_mean_squared_error: 225.2385\n",
            "Epoch 3/35\n",
            "170/170 [==============================] - 0s 1ms/step - loss: 45718.9862 - root_mean_squared_error: 213.8055\n",
            "Epoch 4/35\n",
            "170/170 [==============================] - 0s 1ms/step - loss: 40887.0146 - root_mean_squared_error: 202.1976\n",
            "Epoch 5/35\n",
            "170/170 [==============================] - 0s 2ms/step - loss: 37225.6589 - root_mean_squared_error: 192.9270\n",
            "Epoch 6/35\n",
            "170/170 [==============================] - 0s 2ms/step - loss: 33795.1150 - root_mean_squared_error: 183.8070\n",
            "Epoch 7/35\n",
            "170/170 [==============================] - 0s 2ms/step - loss: 29790.9216 - root_mean_squared_error: 172.5776\n",
            "Epoch 8/35\n",
            "170/170 [==============================] - 0s 2ms/step - loss: 27188.4016 - root_mean_squared_error: 164.8683\n",
            "Epoch 9/35\n",
            "170/170 [==============================] - 0s 2ms/step - loss: 24692.0416 - root_mean_squared_error: 157.0838\n",
            "Epoch 10/35\n",
            "170/170 [==============================] - 0s 2ms/step - loss: 22098.4747 - root_mean_squared_error: 148.6308\n",
            "Epoch 11/35\n",
            "170/170 [==============================] - 0s 1ms/step - loss: 19788.0470 - root_mean_squared_error: 140.6181\n",
            "Epoch 12/35\n",
            "170/170 [==============================] - 0s 2ms/step - loss: 17434.3154 - root_mean_squared_error: 132.0243\n",
            "Epoch 13/35\n",
            "170/170 [==============================] - 0s 2ms/step - loss: 15656.0711 - root_mean_squared_error: 125.1173\n",
            "Epoch 14/35\n",
            "170/170 [==============================] - 0s 2ms/step - loss: 14233.6027 - root_mean_squared_error: 119.2955\n",
            "Epoch 15/35\n",
            "170/170 [==============================] - 0s 2ms/step - loss: 12946.7843 - root_mean_squared_error: 113.7696\n",
            "Epoch 16/35\n",
            "170/170 [==============================] - 0s 2ms/step - loss: 11932.7902 - root_mean_squared_error: 109.2254\n",
            "Epoch 17/35\n",
            "170/170 [==============================] - 0s 2ms/step - loss: 11502.0412 - root_mean_squared_error: 107.2216\n",
            "Epoch 18/35\n",
            "170/170 [==============================] - 0s 2ms/step - loss: 10514.8117 - root_mean_squared_error: 102.5341\n",
            "Epoch 19/35\n",
            "170/170 [==============================] - 0s 2ms/step - loss: 10240.5440 - root_mean_squared_error: 101.1893\n",
            "Epoch 20/35\n",
            "170/170 [==============================] - 0s 2ms/step - loss: 9810.5010 - root_mean_squared_error: 99.0421\n",
            "Epoch 21/35\n",
            "170/170 [==============================] - 0s 2ms/step - loss: 9626.8245 - root_mean_squared_error: 98.1129\n",
            "Epoch 22/35\n",
            "170/170 [==============================] - 0s 2ms/step - loss: 9628.4735 - root_mean_squared_error: 98.1161\n",
            "Epoch 23/35\n",
            "170/170 [==============================] - 0s 2ms/step - loss: 9454.0062 - root_mean_squared_error: 97.2252\n",
            "Epoch 24/35\n",
            "170/170 [==============================] - 0s 2ms/step - loss: 9236.4583 - root_mean_squared_error: 96.1010\n",
            "Epoch 25/35\n",
            "170/170 [==============================] - 0s 2ms/step - loss: 9267.9479 - root_mean_squared_error: 96.2532\n",
            "Epoch 26/35\n",
            "170/170 [==============================] - 0s 2ms/step - loss: 9074.0569 - root_mean_squared_error: 95.2506\n",
            "Epoch 27/35\n",
            "170/170 [==============================] - 0s 2ms/step - loss: 8910.6489 - root_mean_squared_error: 94.3929\n",
            "Epoch 28/35\n",
            "170/170 [==============================] - 0s 2ms/step - loss: 8794.3172 - root_mean_squared_error: 93.7754\n",
            "Epoch 29/35\n",
            "170/170 [==============================] - 0s 2ms/step - loss: 8786.8906 - root_mean_squared_error: 93.7302\n",
            "Epoch 30/35\n",
            "170/170 [==============================] - 0s 1ms/step - loss: 8718.1175 - root_mean_squared_error: 93.3669\n",
            "Epoch 31/35\n",
            "170/170 [==============================] - 0s 1ms/step - loss: 8485.9638 - root_mean_squared_error: 92.1138\n",
            "Epoch 32/35\n",
            "170/170 [==============================] - 0s 2ms/step - loss: 8760.0815 - root_mean_squared_error: 93.5853\n",
            "Epoch 33/35\n",
            "170/170 [==============================] - 0s 2ms/step - loss: 8621.2566 - root_mean_squared_error: 92.8436\n",
            "Epoch 34/35\n",
            "170/170 [==============================] - 0s 2ms/step - loss: 8671.6739 - root_mean_squared_error: 93.1119\n",
            "Epoch 35/35\n",
            "170/170 [==============================] - 0s 2ms/step - loss: 8596.6534 - root_mean_squared_error: 92.7027\n"
          ],
          "name": "stdout"
        },
        {
          "output_type": "display_data",
          "data": {
            "image/png": "[encoded data removed]",
            "text/plain": [
              "<Figure size 432x288 with 1 Axes>"
            ]
          },
          "metadata": {
            "tags": [],
            "needs_background": "light"
          }
        },
        {
          "output_type": "stream",
          "text": [
            "\n",
            ": Evaluate the new model against the test set:\n",
            "WARNING:tensorflow:Layers in a Sequential model should only have a single input tensor, but we receive a <class 'dict'> input: {'longitude': <tf.Tensor 'ExpandDims_3:0' shape=(100, 1) dtype=float32>, 'latitude': <tf.Tensor 'ExpandDims_2:0' shape=(100, 1) dtype=float32>, 'housing_median_age': <tf.Tensor 'ExpandDims_1:0' shape=(100, 1) dtype=float32>, 'total_rooms': <tf.Tensor 'ExpandDims_7:0' shape=(100, 1) dtype=float32>, 'total_bedrooms': <tf.Tensor 'ExpandDims_6:0' shape=(100, 1) dtype=float32>, 'population': <tf.Tensor 'ExpandDims_5:0' shape=(100, 1) dtype=float32>, 'households': <tf.Tensor 'ExpandDims:0' shape=(100, 1) dtype=float32>, 'median_income': <tf.Tensor 'ExpandDims_4:0' shape=(100, 1) dtype=float32>}\n",
            "Consider rewriting this model with the Functional API.\n",
            "30/30 [==============================] - 0s 1ms/step - loss: 8580.8779 - root_mean_squared_error: 92.6330\n"
          ],
          "name": "stdout"
        },
        {
          "output_type": "execute_result",
          "data": {
            "text/plain": [
              "[8580.8779296875, 92.63302612304688]"
            ]
          },
          "metadata": {
            "tags": []
          },
          "execution_count": 39
        }
      ]
    },
    {
      "cell_type": "code",
      "metadata": {
        "id": "TsLawlRpNAqi"
      },
      "source": [
        ""
      ],
      "execution_count": null,
      "outputs": []
    }
  ]
}