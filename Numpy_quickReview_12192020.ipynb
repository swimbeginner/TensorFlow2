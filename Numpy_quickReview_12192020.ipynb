{
  "nbformat": 4,
  "nbformat_minor": 0,
  "metadata": {
    "colab": {
      "name": "Copy of Numpy_quickReview_12192020.ipynb",
      "provenance": [],
      "authorship_tag": "ABX9TyPKtyr9PVn5bUywpxN8y9/U",
      "include_colab_link": true
    },
    "kernelspec": {
      "name": "python3",
      "display_name": "Python 3"
    }
  },
  "cells": [
    {
      "cell_type": "markdown",
      "metadata": {
        "id": "view-in-github",
        "colab_type": "text"
      },
      "source": [
        "<a href=\"https://colab.research.google.com/github/swimbeginner/TensorFlow2/blob/main/Numpy_quickReview_12192020.ipynb\" target=\"_parent\"><img src=\"https://colab.research.google.com/assets/colab-badge.svg\" alt=\"Open In Colab\"/></a>"
      ]
    },
    {
      "cell_type": "code",
      "metadata": {
        "id": "wvQtjuzNxEvs"
      },
      "source": [
        "import numpy as np"
      ],
      "execution_count": 2,
      "outputs": []
    },
    {
      "cell_type": "markdown",
      "metadata": {
        "id": "OvOyVC95yc5b"
      },
      "source": [
        "#basic declaration"
      ]
    },
    {
      "cell_type": "code",
      "metadata": {
        "colab": {
          "base_uri": "https://localhost:8080/"
        },
        "id": "2T0UTKrAyMXj",
        "outputId": "bee29310-89ef-4d02-f90c-91aff8c1cad7"
      },
      "source": [
        "one_dimensional_array=np.array([1, 2, 3, 4])\r\n",
        "print(one_dimensional_array.shape)"
      ],
      "execution_count": 3,
      "outputs": [
        {
          "output_type": "stream",
          "text": [
            "(4,)\n"
          ],
          "name": "stdout"
        }
      ]
    },
    {
      "cell_type": "code",
      "metadata": {
        "colab": {
          "base_uri": "https://localhost:8080/"
        },
        "id": "ZcFz5cnuyVwh",
        "outputId": "68d53702-75f0-4945-aaf6-77aba8568ad7"
      },
      "source": [
        "two_dimensional_array=np.array([[1,2],[3,4],[5,6]])\r\n",
        "print(two_dimensional_array,'\\n', two_dimensional_array.shape, two_dimensional_array[:,1:2].shape)\r\n",
        "a=two_dimensional_array[:,1]\r\n",
        "b=two_dimensional_array[:,0:2]\r\n",
        "print(a,'\\n',b)"
      ],
      "execution_count": 14,
      "outputs": [
        {
          "output_type": "stream",
          "text": [
            "[[1 2]\n",
            " [3 4]\n",
            " [5 6]] \n",
            " (3, 2) (3, 1)\n",
            "[2 4 6] \n",
            " [[1 2]\n",
            " [3 4]\n",
            " [5 6]]\n"
          ],
          "name": "stdout"
        }
      ]
    },
    {
      "cell_type": "code",
      "metadata": {
        "id": "9aWpHlr5ymkQ",
        "colab": {
          "base_uri": "https://localhost:8080/"
        },
        "outputId": "d868ed38-2150-4899-f88e-f8711e16e82c"
      },
      "source": [
        "np.zeros((2,2))"
      ],
      "execution_count": 18,
      "outputs": [
        {
          "output_type": "execute_result",
          "data": {
            "text/plain": [
              "array([[0., 0.],\n",
              "       [0., 0.]])"
            ]
          },
          "metadata": {
            "tags": []
          },
          "execution_count": 18
        }
      ]
    },
    {
      "cell_type": "markdown",
      "metadata": {
        "id": "nyTcUO6JO8WA"
      },
      "source": [
        "#basic random numbers"
      ]
    },
    {
      "cell_type": "code",
      "metadata": {
        "colab": {
          "base_uri": "https://localhost:8080/"
        },
        "id": "-OYTGY5nO7cU",
        "outputId": "0695dedb-87fe-4c98-fd7e-ca4604bb0975"
      },
      "source": [
        "random_integers_50_100=np.random.randint(low=50, high=100, size=(6))\r\n",
        "print(random_integers_50_100)"
      ],
      "execution_count": 25,
      "outputs": [
        {
          "output_type": "stream",
          "text": [
            "[83 68 81 77 95 65]\n"
          ],
          "name": "stdout"
        }
      ]
    },
    {
      "cell_type": "code",
      "metadata": {
        "colab": {
          "base_uri": "https://localhost:8080/"
        },
        "id": "IkSa3ZKcRIH9",
        "outputId": "de83f9a6-a182-4990-b6a2-8d37ba7f241e"
      },
      "source": [
        "random_floats=np.random.random([6])\r\n",
        "random_floats"
      ],
      "execution_count": 28,
      "outputs": [
        {
          "output_type": "execute_result",
          "data": {
            "text/plain": [
              "array([0.20401117, 0.97226496, 0.4920054 , 0.66964064, 0.8517382 ,\n",
              "       0.86152943])"
            ]
          },
          "metadata": {
            "tags": []
          },
          "execution_count": 28
        }
      ]
    },
    {
      "cell_type": "code",
      "metadata": {
        "colab": {
          "base_uri": "https://localhost:8080/"
        },
        "id": "XQyp-b94bL1m",
        "outputId": "4e85e83e-2bbf-4844-f4c5-d26aa7f82328"
      },
      "source": [
        "features=np.arange(6,21,dtype=int)\r\n",
        "features\r\n",
        "label = 3*features+4   # write your code here\r\n",
        "print(label)"
      ],
      "execution_count": 32,
      "outputs": [
        {
          "output_type": "stream",
          "text": [
            "[22 25 28 31 34 37 40 43 46 49 52 55 58 61 64]\n"
          ],
          "name": "stdout"
        }
      ]
    }
  ]
}