{
  "nbformat": 4,
  "nbformat_minor": 0,
  "metadata": {
    "colab": {
      "name": "Embedding_12292020.ipynb",
      "provenance": [],
      "authorship_tag": "ABX9TyMfe9Bxq816gupHFQJqu83H",
      "include_colab_link": true
    },
    "kernelspec": {
      "name": "python3",
      "display_name": "Python 3"
    }
  },
  "cells": [
    {
      "cell_type": "markdown",
      "metadata": {
        "id": "view-in-github",
        "colab_type": "text"
      },
      "source": [
        "<a href=\"https://colab.research.google.com/github/swimbeginner/TensorFlow2/blob/main/Embedding_12292020.ipynb\" target=\"_parent\"><img src=\"https://colab.research.google.com/assets/colab-badge.svg\" alt=\"Open In Colab\"/></a>"
      ]
    },
    {
      "cell_type": "code",
      "metadata": {
        "id": "WoClrmbQLuB6"
      },
      "source": [
        "import io\r\n",
        "import os\r\n",
        "import re\r\n",
        "import shutil\r\n",
        "import string\r\n",
        "import tensorflow as tf\r\n",
        "\r\n",
        "from datetime import datetime\r\n",
        "from tensorflow.keras import Model, Sequential\r\n",
        "from tensorflow.keras.layers import Activation, Dense, Embedding, GlobalAveragePooling1D\r\n",
        "from tensorflow.keras.layers.experimental.preprocessing import TextVectorization"
      ],
      "execution_count": 1,
      "outputs": []
    },
    {
      "cell_type": "markdown",
      "metadata": {
        "id": "cwdQLHgNL2Gu"
      },
      "source": [
        "\r\n",
        "##Word embeddings\r\n",
        "[wrod embedding sample](https://www.tensorflow.org/tutorials/text/word_embeddings)\r\n"
      ]
    },
    {
      "cell_type": "code",
      "metadata": {
        "colab": {
          "base_uri": "https://localhost:8080/"
        },
        "id": "_UTMnBG6MInq",
        "outputId": "d564697d-85d1-4c6e-bc03-cf6cc461eaf4"
      },
      "source": [
        "url = \"https://ai.stanford.edu/~amaas/data/sentiment/aclImdb_v1.tar.gz\"\r\n",
        "\r\n",
        "dataset = tf.keras.utils.get_file(\"aclImdb_v1.tar.gz\", url,\r\n",
        "                                    untar=True, cache_dir='.',\r\n",
        "                                    cache_subdir='')\r\n",
        "\r\n",
        "dataset_dir = os.path.join(os.path.dirname(dataset), 'aclImdb')\r\n",
        "os.listdir(dataset_dir)"
      ],
      "execution_count": 2,
      "outputs": [
        {
          "output_type": "stream",
          "text": [
            "Downloading data from https://ai.stanford.edu/~amaas/data/sentiment/aclImdb_v1.tar.gz\n",
            "84131840/84125825 [==============================] - 11s 0us/step\n"
          ],
          "name": "stdout"
        },
        {
          "output_type": "execute_result",
          "data": {
            "text/plain": [
              "['imdbEr.txt', 'test', 'README', 'imdb.vocab', 'train']"
            ]
          },
          "metadata": {
            "tags": []
          },
          "execution_count": 2
        }
      ]
    },
    {
      "cell_type": "markdown",
      "metadata": {
        "id": "2IJCjvxMPfrM"
      },
      "source": [
        "# New Section"
      ]
    },
    {
      "cell_type": "code",
      "metadata": {
        "colab": {
          "base_uri": "https://localhost:8080/"
        },
        "id": "l0iR0epoP7uQ",
        "outputId": "245dce59-f6e9-4f66-ec5e-a6c20b414f21"
      },
      "source": [
        "train_dir = os.path.join(dataset_dir, 'train')\r\n",
        "os.listdir(train_dir)"
      ],
      "execution_count": 11,
      "outputs": [
        {
          "output_type": "execute_result",
          "data": {
            "text/plain": [
              "['unsupBow.feat',\n",
              " 'urls_pos.txt',\n",
              " 'neg',\n",
              " 'labeledBow.feat',\n",
              " 'urls_neg.txt',\n",
              " 'pos',\n",
              " 'urls_unsup.txt']"
            ]
          },
          "metadata": {
            "tags": []
          },
          "execution_count": 11
        }
      ]
    },
    {
      "cell_type": "code",
      "metadata": {
        "colab": {
          "base_uri": "https://localhost:8080/",
          "height": 323
        },
        "id": "mNLQKo5FQkJA",
        "outputId": "ab86b2e0-3bfb-489d-df2d-6d19e1e97d3f"
      },
      "source": [
        "remove_dir = os.path.join(train_dir, 'unsup')\r\n",
        "shutil.rmtree(remove_dir)"
      ],
      "execution_count": 12,
      "outputs": [
        {
          "output_type": "error",
          "ename": "FileNotFoundError",
          "evalue": "ignored",
          "traceback": [
            "\u001b[0;31m---------------------------------------------------------------------------\u001b[0m",
            "\u001b[0;31mFileNotFoundError\u001b[0m                         Traceback (most recent call last)",
            "\u001b[0;32m<ipython-input-12-c3019530ae67>\u001b[0m in \u001b[0;36m<module>\u001b[0;34m()\u001b[0m\n\u001b[1;32m      1\u001b[0m \u001b[0mremove_dir\u001b[0m \u001b[0;34m=\u001b[0m \u001b[0mos\u001b[0m\u001b[0;34m.\u001b[0m\u001b[0mpath\u001b[0m\u001b[0;34m.\u001b[0m\u001b[0mjoin\u001b[0m\u001b[0;34m(\u001b[0m\u001b[0mtrain_dir\u001b[0m\u001b[0;34m,\u001b[0m \u001b[0;34m'unsup'\u001b[0m\u001b[0;34m)\u001b[0m\u001b[0;34m\u001b[0m\u001b[0;34m\u001b[0m\u001b[0m\n\u001b[0;32m----> 2\u001b[0;31m \u001b[0mshutil\u001b[0m\u001b[0;34m.\u001b[0m\u001b[0mrmtree\u001b[0m\u001b[0;34m(\u001b[0m\u001b[0mremove_dir\u001b[0m\u001b[0;34m)\u001b[0m\u001b[0;34m\u001b[0m\u001b[0;34m\u001b[0m\u001b[0m\n\u001b[0m",
            "\u001b[0;32m/usr/lib/python3.6/shutil.py\u001b[0m in \u001b[0;36mrmtree\u001b[0;34m(path, ignore_errors, onerror)\u001b[0m\n\u001b[1;32m    475\u001b[0m             \u001b[0morig_st\u001b[0m \u001b[0;34m=\u001b[0m \u001b[0mos\u001b[0m\u001b[0;34m.\u001b[0m\u001b[0mlstat\u001b[0m\u001b[0;34m(\u001b[0m\u001b[0mpath\u001b[0m\u001b[0;34m)\u001b[0m\u001b[0;34m\u001b[0m\u001b[0;34m\u001b[0m\u001b[0m\n\u001b[1;32m    476\u001b[0m         \u001b[0;32mexcept\u001b[0m \u001b[0mException\u001b[0m\u001b[0;34m:\u001b[0m\u001b[0;34m\u001b[0m\u001b[0;34m\u001b[0m\u001b[0m\n\u001b[0;32m--> 477\u001b[0;31m             \u001b[0monerror\u001b[0m\u001b[0;34m(\u001b[0m\u001b[0mos\u001b[0m\u001b[0;34m.\u001b[0m\u001b[0mlstat\u001b[0m\u001b[0;34m,\u001b[0m \u001b[0mpath\u001b[0m\u001b[0;34m,\u001b[0m \u001b[0msys\u001b[0m\u001b[0;34m.\u001b[0m\u001b[0mexc_info\u001b[0m\u001b[0;34m(\u001b[0m\u001b[0;34m)\u001b[0m\u001b[0;34m)\u001b[0m\u001b[0;34m\u001b[0m\u001b[0;34m\u001b[0m\u001b[0m\n\u001b[0m\u001b[1;32m    478\u001b[0m             \u001b[0;32mreturn\u001b[0m\u001b[0;34m\u001b[0m\u001b[0;34m\u001b[0m\u001b[0m\n\u001b[1;32m    479\u001b[0m         \u001b[0;32mtry\u001b[0m\u001b[0;34m:\u001b[0m\u001b[0;34m\u001b[0m\u001b[0;34m\u001b[0m\u001b[0m\n",
            "\u001b[0;32m/usr/lib/python3.6/shutil.py\u001b[0m in \u001b[0;36mrmtree\u001b[0;34m(path, ignore_errors, onerror)\u001b[0m\n\u001b[1;32m    473\u001b[0m         \u001b[0;31m# lstat()/open()/fstat() trick.\u001b[0m\u001b[0;34m\u001b[0m\u001b[0;34m\u001b[0m\u001b[0;34m\u001b[0m\u001b[0m\n\u001b[1;32m    474\u001b[0m         \u001b[0;32mtry\u001b[0m\u001b[0;34m:\u001b[0m\u001b[0;34m\u001b[0m\u001b[0;34m\u001b[0m\u001b[0m\n\u001b[0;32m--> 475\u001b[0;31m             \u001b[0morig_st\u001b[0m \u001b[0;34m=\u001b[0m \u001b[0mos\u001b[0m\u001b[0;34m.\u001b[0m\u001b[0mlstat\u001b[0m\u001b[0;34m(\u001b[0m\u001b[0mpath\u001b[0m\u001b[0;34m)\u001b[0m\u001b[0;34m\u001b[0m\u001b[0;34m\u001b[0m\u001b[0m\n\u001b[0m\u001b[1;32m    476\u001b[0m         \u001b[0;32mexcept\u001b[0m \u001b[0mException\u001b[0m\u001b[0;34m:\u001b[0m\u001b[0;34m\u001b[0m\u001b[0;34m\u001b[0m\u001b[0m\n\u001b[1;32m    477\u001b[0m             \u001b[0monerror\u001b[0m\u001b[0;34m(\u001b[0m\u001b[0mos\u001b[0m\u001b[0;34m.\u001b[0m\u001b[0mlstat\u001b[0m\u001b[0;34m,\u001b[0m \u001b[0mpath\u001b[0m\u001b[0;34m,\u001b[0m \u001b[0msys\u001b[0m\u001b[0;34m.\u001b[0m\u001b[0mexc_info\u001b[0m\u001b[0;34m(\u001b[0m\u001b[0;34m)\u001b[0m\u001b[0;34m)\u001b[0m\u001b[0;34m\u001b[0m\u001b[0;34m\u001b[0m\u001b[0m\n",
            "\u001b[0;31mFileNotFoundError\u001b[0m: [Errno 2] No such file or directory: './aclImdb/train/unsup'"
          ]
        }
      ]
    },
    {
      "cell_type": "code",
      "metadata": {
        "colab": {
          "base_uri": "https://localhost:8080/"
        },
        "id": "EIsJPD0vQvQA",
        "outputId": "4feaa553-46a8-4a06-822f-94ea8fd3d6cf"
      },
      "source": [
        "batch_size = 1024\r\n",
        "seed = 123\r\n",
        "train_ds = tf.keras.preprocessing.text_dataset_from_directory(\r\n",
        "    'aclImdb/train', batch_size=batch_size, validation_split=0.2, \r\n",
        "    subset='training', seed=seed)\r\n",
        "val_ds = tf.keras.preprocessing.text_dataset_from_directory(\r\n",
        "    'aclImdb/train', batch_size=batch_size, validation_split=0.2, \r\n",
        "    subset='validation', seed=seed)"
      ],
      "execution_count": 14,
      "outputs": [
        {
          "output_type": "stream",
          "text": [
            "Found 25000 files belonging to 2 classes.\n",
            "Using 20000 files for training.\n",
            "Found 25000 files belonging to 2 classes.\n",
            "Using 5000 files for validation.\n"
          ],
          "name": "stdout"
        }
      ]
    },
    {
      "cell_type": "code",
      "metadata": {
        "colab": {
          "base_uri": "https://localhost:8080/"
        },
        "id": "R6eOSxRCR5RQ",
        "outputId": "1dd0f846-eea6-459f-f9b2-095adf19b910"
      },
      "source": [
        "for text_batch, label_batch in train_ds.take(1):\r\n",
        "  for i in range(5):\r\n",
        "    print(label_batch[i].numpy(), text_batch.numpy()[i])"
      ],
      "execution_count": 15,
      "outputs": [
        {
          "output_type": "stream",
          "text": [
            "0 b\"Oh My God! Please, for the love of all that is holy, Do Not Watch This Movie! It it 82 minutes of my life I will never get back. Sure, I could have stopped watching half way through. But I thought it might get better. It Didn't. Anyone who actually enjoyed this movie is one seriously sick and twisted individual. No wonder us Australians/New Zealanders have a terrible reputation when it comes to making movies. Everything about this movie is horrible, from the acting to the editing. I don't even normally write reviews on here, but in this case I'll make an exception. I only wish someone had of warned me before I hired this catastrophe\"\n",
            "1 b'This movie is SOOOO funny!!! The acting is WONDERFUL, the Ramones are sexy, the jokes are subtle, and the plot is just what every high schooler dreams of doing to his/her school. I absolutely loved the soundtrack as well as the carefully placed cynicism. If you like monty python, You will love this film. This movie is a tad bit \"grease\"esk (without all the annoying songs). The songs that are sung are likable; you might even find yourself singing these songs once the movie is through. This musical ranks number two in musicals to me (second next to the blues brothers). But please, do not think of it as a musical per say; seeing as how the songs are so likable, it is hard to tell a carefully choreographed scene is taking place. I think of this movie as more of a comedy with undertones of romance. You will be reminded of what it was like to be a rebellious teenager; needless to say, you will be reminiscing of your old high school days after seeing this film. Highly recommended for both the family (since it is a very youthful but also for adults since there are many jokes that are funnier with age and experience.'\n",
            "0 b\"Alex D. Linz replaces Macaulay Culkin as the central figure in the third movie in the Home Alone empire. Four industrial spies acquire a missile guidance system computer chip and smuggle it through an airport inside a remote controlled toy car. Because of baggage confusion, grouchy Mrs. Hess (Marian Seldes) gets the car. She gives it to her neighbor, Alex (Linz), just before the spies turn up. The spies rent a house in order to burglarize each house in the neighborhood until they locate the car. Home alone with the chicken pox, Alex calls 911 each time he spots a theft in progress, but the spies always manage to elude the police while Alex is accused of making prank calls. The spies finally turn their attentions toward Alex, unaware that he has rigged devices to cleverly booby-trap his entire house. Home Alone 3 wasn't horrible, but probably shouldn't have been made, you can't just replace Macauley Culkin, Joe Pesci, or Daniel Stern. Home Alone 3 had some funny parts, but I don't like when characters are changed in a movie series, view at own risk.\"\n",
            "0 b\"There's a good movie lurking here, but this isn't it. The basic idea is good: to explore the moral issues that would face a group of young survivors of the apocalypse. But the logic is so muddled that it's impossible to get involved.<br /><br />For example, our four heroes are (understandably) paranoid about catching the mysterious airborne contagion that's wiped out virtually all of mankind. Yet they wear surgical masks some times, not others. Some times they're fanatical about wiping down with bleach any area touched by an infected person. Other times, they seem completely unconcerned.<br /><br />Worse, after apparently surviving some weeks or months in this new kill-or-be-killed world, these people constantly behave like total newbs. They don't bother accumulating proper equipment, or food. They're forever running out of fuel in the middle of nowhere. They don't take elementary precautions when meeting strangers. And after wading through the rotting corpses of the entire human race, they're as squeamish as sheltered debutantes. You have to constantly wonder how they could have survived this long... and even if they did, why anyone would want to make a movie about them.<br /><br />So when these dweebs stop to agonize over the moral dimensions of their actions, it's impossible to take their soul-searching seriously. Their actions would first have to make some kind of minimal sense.<br /><br />On top of all this, we must contend with the dubious acting abilities of Chris Pine. His portrayal of an arrogant young James T Kirk might have seemed shrewd, when viewed in isolation. But in Carriers he plays on exactly that same note: arrogant and boneheaded. It's impossible not to suspect that this constitutes his entire dramatic range.<br /><br />On the positive side, the film *looks* excellent. It's got an over-sharp, saturated look that really suits the southwestern US locale. But that can't save the truly feeble writing nor the paper-thin (and annoying) characters. Even if you're a fan of the end-of-the-world genre, you should save yourself the agony of watching Carriers.\"\n",
            "0 b'I saw this movie at an actual movie theater (probably the $2.00 one) with my cousin and uncle. We were around 11 and 12, I guess, and really into scary movies. I remember being so excited to see it because my cool uncle let us pick the movie (and we probably never got to do that again!) and sooo disappointed afterwards!! Just boring and not scary. The only redeeming thing I can remember was Corky Pigeon from Silver Spoons, and that wasn\\'t all that great, just someone I recognized. I\\'ve seen bad movies before and this one has always stuck out in my mind as the worst. This was from what I can recall, one of the most boring, non-scary, waste of our collective $6, and a waste of film. I have read some of the reviews that say it is worth a watch and I say, \"Too each his own\", but I wouldn\\'t even bother. Not even so bad it\\'s good.'\n"
          ],
          "name": "stdout"
        }
      ]
    },
    {
      "cell_type": "code",
      "metadata": {
        "id": "8PUe0siMSExR"
      },
      "source": [
        "AUTOTUNE = tf.data.experimental.AUTOTUNE\r\n",
        "\r\n",
        "train_ds = train_ds.cache().prefetch(buffer_size=AUTOTUNE)\r\n",
        "val_ds = val_ds.cache().prefetch(buffer_size=AUTOTUNE)"
      ],
      "execution_count": 17,
      "outputs": []
    },
    {
      "cell_type": "code",
      "metadata": {
        "id": "TIhPzQ7PSKWR"
      },
      "source": [
        "# Embed a 1,000 word vocabulary into 5 dimensions.\r\n",
        "embedding_layer = tf.keras.layers.Embedding(1000, 5)"
      ],
      "execution_count": 20,
      "outputs": []
    },
    {
      "cell_type": "code",
      "metadata": {
        "colab": {
          "base_uri": "https://localhost:8080/"
        },
        "id": "rEcmnzQZSS2_",
        "outputId": "e3a200f0-b856-4641-c4a3-49f9151dd6bc"
      },
      "source": [
        "result = embedding_layer(tf.constant([1,2,3]))\r\n",
        "result.numpy()"
      ],
      "execution_count": 21,
      "outputs": [
        {
          "output_type": "execute_result",
          "data": {
            "text/plain": [
              "array([[-0.00067095,  0.0481515 , -0.00505134,  0.04836394, -0.01845999],\n",
              "       [ 0.04284183, -0.04741875,  0.00299394,  0.03922013,  0.01130931],\n",
              "       [ 0.02532574,  0.02954198,  0.01573774,  0.01276238,  0.02357677]],\n",
              "      dtype=float32)"
            ]
          },
          "metadata": {
            "tags": []
          },
          "execution_count": 21
        }
      ]
    },
    {
      "cell_type": "code",
      "metadata": {
        "colab": {
          "base_uri": "https://localhost:8080/"
        },
        "id": "GFoIhuxbSWSC",
        "outputId": "a3736ef4-728f-49a0-b75e-b0e4d6289cae"
      },
      "source": [
        "result = embedding_layer(tf.constant([[0,1,2],[3,4,5]]))\r\n",
        "result.shape"
      ],
      "execution_count": 22,
      "outputs": [
        {
          "output_type": "execute_result",
          "data": {
            "text/plain": [
              "TensorShape([2, 3, 5])"
            ]
          },
          "metadata": {
            "tags": []
          },
          "execution_count": 22
        }
      ]
    },
    {
      "cell_type": "code",
      "metadata": {
        "id": "ND12BFy9ScYp"
      },
      "source": [
        "# Create a custom standardization function to strip HTML break tags '<br />'.\r\n",
        "def custom_standardization(input_data):\r\n",
        "  lowercase = tf.strings.lower(input_data)\r\n",
        "  stripped_html = tf.strings.regex_replace(lowercase, '<br />', ' ')\r\n",
        "  return tf.strings.regex_replace(stripped_html,\r\n",
        "                                  '[%s]' % re.escape(string.punctuation), '')\r\n",
        "\r\n",
        "# Vocabulary size and number of words in a sequence.\r\n",
        "vocab_size = 10000\r\n",
        "sequence_length = 100\r\n",
        "\r\n",
        "# Use the text vectorization layer to normalize, split, and map strings to \r\n",
        "# integers. Note that the layer uses the custom standardization defined above. \r\n",
        "# Set maximum_sequence length as all samples are not of the same length.\r\n",
        "vectorize_layer = TextVectorization(\r\n",
        "    standardize=custom_standardization,\r\n",
        "    max_tokens=vocab_size,\r\n",
        "    output_mode='int',\r\n",
        "    output_sequence_length=sequence_length)\r\n",
        "\r\n",
        "# Make a text-only dataset (no labels) and call adapt to build the vocabulary.\r\n",
        "text_ds = train_ds.map(lambda x, y: x)\r\n",
        "vectorize_layer.adapt(text_ds)"
      ],
      "execution_count": 24,
      "outputs": []
    },
    {
      "cell_type": "code",
      "metadata": {
        "id": "p1V-ZeTVSgx6"
      },
      "source": [
        "embedding_dim=16\r\n",
        "\r\n",
        "model = Sequential([\r\n",
        "  vectorize_layer,\r\n",
        "  Embedding(vocab_size, embedding_dim, name=\"embedding\"),\r\n",
        "  GlobalAveragePooling1D(),\r\n",
        "  Dense(16, activation='relu'),\r\n",
        "  Dense(1)\r\n",
        "])"
      ],
      "execution_count": 26,
      "outputs": []
    },
    {
      "cell_type": "code",
      "metadata": {
        "id": "lZ3WjSacSmJ_"
      },
      "source": [
        "tensorboard_callback = tf.keras.callbacks.TensorBoard(log_dir=\"logs\")"
      ],
      "execution_count": 27,
      "outputs": []
    },
    {
      "cell_type": "code",
      "metadata": {
        "colab": {
          "base_uri": "https://localhost:8080/"
        },
        "id": "POCOSk0gSosK",
        "outputId": "52087856-1092-461e-ae97-38ce7dac0f06"
      },
      "source": [
        "model.compile(optimizer='adam',\r\n",
        "              loss=tf.keras.losses.BinaryCrossentropy(from_logits=True),\r\n",
        "              metrics=['accuracy'])\r\n",
        "model.fit(\r\n",
        "    train_ds,\r\n",
        "    validation_data=val_ds, \r\n",
        "    epochs=15,\r\n",
        "    callbacks=[tensorboard_callback])"
      ],
      "execution_count": 28,
      "outputs": [
        {
          "output_type": "stream",
          "text": [
            "Epoch 1/15\n",
            "20/20 [==============================] - 4s 159ms/step - loss: 0.6928 - accuracy: 0.5037 - val_loss: 0.6907 - val_accuracy: 0.4886\n",
            "Epoch 2/15\n",
            "20/20 [==============================] - 2s 96ms/step - loss: 0.6890 - accuracy: 0.5037 - val_loss: 0.6848 - val_accuracy: 0.4886\n",
            "Epoch 3/15\n",
            "20/20 [==============================] - 2s 92ms/step - loss: 0.6817 - accuracy: 0.5037 - val_loss: 0.6737 - val_accuracy: 0.4886\n",
            "Epoch 4/15\n",
            "20/20 [==============================] - 2s 92ms/step - loss: 0.6684 - accuracy: 0.5037 - val_loss: 0.6568 - val_accuracy: 0.4886\n",
            "Epoch 5/15\n",
            "20/20 [==============================] - 2s 92ms/step - loss: 0.6486 - accuracy: 0.5037 - val_loss: 0.6336 - val_accuracy: 0.4886\n",
            "Epoch 6/15\n",
            "20/20 [==============================] - 2s 93ms/step - loss: 0.6218 - accuracy: 0.5142 - val_loss: 0.6053 - val_accuracy: 0.5528\n",
            "Epoch 7/15\n",
            "20/20 [==============================] - 2s 93ms/step - loss: 0.5892 - accuracy: 0.5964 - val_loss: 0.5734 - val_accuracy: 0.6278\n",
            "Epoch 8/15\n",
            "20/20 [==============================] - 2s 91ms/step - loss: 0.5521 - accuracy: 0.6759 - val_loss: 0.5409 - val_accuracy: 0.6762\n",
            "Epoch 9/15\n",
            "20/20 [==============================] - 2s 92ms/step - loss: 0.5146 - accuracy: 0.7338 - val_loss: 0.5111 - val_accuracy: 0.7154\n",
            "Epoch 10/15\n",
            "20/20 [==============================] - 2s 92ms/step - loss: 0.4794 - accuracy: 0.7690 - val_loss: 0.4851 - val_accuracy: 0.7426\n",
            "Epoch 11/15\n",
            "20/20 [==============================] - 2s 94ms/step - loss: 0.4478 - accuracy: 0.7940 - val_loss: 0.4632 - val_accuracy: 0.7588\n",
            "Epoch 12/15\n",
            "20/20 [==============================] - 2s 93ms/step - loss: 0.4200 - accuracy: 0.8120 - val_loss: 0.4451 - val_accuracy: 0.7690\n",
            "Epoch 13/15\n",
            "20/20 [==============================] - 2s 91ms/step - loss: 0.3957 - accuracy: 0.8272 - val_loss: 0.4303 - val_accuracy: 0.7778\n",
            "Epoch 14/15\n",
            "20/20 [==============================] - 2s 92ms/step - loss: 0.3745 - accuracy: 0.8395 - val_loss: 0.4182 - val_accuracy: 0.7898\n",
            "Epoch 15/15\n",
            "20/20 [==============================] - 2s 92ms/step - loss: 0.3558 - accuracy: 0.8478 - val_loss: 0.4084 - val_accuracy: 0.7958\n"
          ],
          "name": "stdout"
        },
        {
          "output_type": "execute_result",
          "data": {
            "text/plain": [
              "<tensorflow.python.keras.callbacks.History at 0x7f6968fea160>"
            ]
          },
          "metadata": {
            "tags": []
          },
          "execution_count": 28
        }
      ]
    },
    {
      "cell_type": "code",
      "metadata": {
        "id": "jmIcdG5eTEty"
      },
      "source": [
        ""
      ],
      "execution_count": null,
      "outputs": []
    },
    {
      "cell_type": "code",
      "metadata": {
        "colab": {
          "base_uri": "https://localhost:8080/"
        },
        "id": "Fx1GPr2_StyS",
        "outputId": "f235ae07-6e0d-473e-feea-ed2249fb6323"
      },
      "source": [
        "model.summary()"
      ],
      "execution_count": 29,
      "outputs": [
        {
          "output_type": "stream",
          "text": [
            "Model: \"sequential_1\"\n",
            "_________________________________________________________________\n",
            "Layer (type)                 Output Shape              Param #   \n",
            "=================================================================\n",
            "text_vectorization_1 (TextVe (None, 100)               0         \n",
            "_________________________________________________________________\n",
            "embedding (Embedding)        (None, 100, 16)           160000    \n",
            "_________________________________________________________________\n",
            "global_average_pooling1d_1 ( (None, 16)                0         \n",
            "_________________________________________________________________\n",
            "dense_2 (Dense)              (None, 16)                272       \n",
            "_________________________________________________________________\n",
            "dense_3 (Dense)              (None, 1)                 17        \n",
            "=================================================================\n",
            "Total params: 160,289\n",
            "Trainable params: 160,289\n",
            "Non-trainable params: 0\n",
            "_________________________________________________________________\n"
          ],
          "name": "stdout"
        }
      ]
    },
    {
      "cell_type": "code",
      "metadata": {
        "colab": {
          "base_uri": "https://localhost:8080/"
        },
        "id": "duiZG7a8S5E9",
        "outputId": "ebca567d-5cc3-4ce3-9d09-bd1e5262300c"
      },
      "source": [
        "%tensorboard --logdir logs"
      ],
      "execution_count": 30,
      "outputs": [
        {
          "output_type": "stream",
          "text": [
            "UsageError: Line magic function `%tensorboard` not found.\n"
          ],
          "name": "stderr"
        }
      ]
    },
    {
      "cell_type": "code",
      "metadata": {
        "id": "KojauDOwTF6n"
      },
      "source": [
        "weights = model.get_layer('embedding').get_weights()[0]\r\n",
        "vocab = vectorize_layer.get_vocabulary()"
      ],
      "execution_count": 31,
      "outputs": []
    },
    {
      "cell_type": "code",
      "metadata": {
        "id": "iGJhJkVhTIif"
      },
      "source": [
        "out_v = io.open('vectors.tsv', 'w', encoding='utf-8')\r\n",
        "out_m = io.open('metadata.tsv', 'w', encoding='utf-8')\r\n",
        "\r\n",
        "for index, word in enumerate(vocab):\r\n",
        "  if  index == 0: continue # skip 0, it's padding.\r\n",
        "  vec = weights[index] \r\n",
        "  out_v.write('\\t'.join([str(x) for x in vec]) + \"\\n\")\r\n",
        "  out_m.write(word + \"\\n\")\r\n",
        "out_v.close()\r\n",
        "out_m.close()"
      ],
      "execution_count": 32,
      "outputs": []
    },
    {
      "cell_type": "code",
      "metadata": {
        "id": "UN6pupibTLPg"
      },
      "source": [
        "try:\r\n",
        "  from google.colab import files\r\n",
        "  files.download('vectors.tsv')\r\n",
        "  files.download('metadata.tsv')\r\n",
        "except Exception as e:\r\n",
        "  pass"
      ],
      "execution_count": 1,
      "outputs": []
    }
  ]
}