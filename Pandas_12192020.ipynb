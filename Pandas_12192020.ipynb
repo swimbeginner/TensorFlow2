{
  "nbformat": 4,
  "nbformat_minor": 0,
  "metadata": {
    "colab": {
      "name": "Untitled0.ipynb",
      "provenance": [],
      "authorship_tag": "ABX9TyMVqYVfhWrTvjjYrURqyJON",
      "include_colab_link": true
    },
    "kernelspec": {
      "name": "python3",
      "display_name": "Python 3"
    }
  },
  "cells": [
    {
      "cell_type": "markdown",
      "metadata": {
        "id": "view-in-github",
        "colab_type": "text"
      },
      "source": [
        "<a href=\"https://colab.research.google.com/github/swimbeginner/TensorFlow2/blob/main/Pandas_12192020.ipynb\" target=\"_parent\"><img src=\"https://colab.research.google.com/assets/colab-badge.svg\" alt=\"Open In Colab\"/></a>"
      ]
    },
    {
      "cell_type": "code",
      "metadata": {
        "id": "DRtVI-vmipF0"
      },
      "source": [
        "import numpy as np\r\n",
        "import pandas as pd"
      ],
      "execution_count": 1,
      "outputs": []
    },
    {
      "cell_type": "markdown",
      "metadata": {
        "id": "kteZGCJdixV-"
      },
      "source": [
        "#numpy and pandas,\r\n",
        "where dataframe are the central data structure in the pandas API"
      ]
    },
    {
      "cell_type": "code",
      "metadata": {
        "colab": {
          "base_uri": "https://localhost:8080/"
        },
        "id": "P_avH7fgjByf",
        "outputId": "4db11686-2ed8-452f-9550-2ef0b1a9d1ae"
      },
      "source": [
        "# Create and populate a 5x2 NumPy array.\r\n",
        "my_data = np.array([[0, 3], [10, 7], [20, 9], [30, 14], [40, 15]])\r\n",
        "\r\n",
        "# Create a Python list that holds the names of the two columns.\r\n",
        "my_column_names = ['temperature', 'activity']\r\n",
        "\r\n",
        "# Create a DataFrame.\r\n",
        "my_dataframe = pd.DataFrame(data=my_data, columns=my_column_names)\r\n",
        "\r\n",
        "# Print the entire DataFrame\r\n",
        "print(my_dataframe)"
      ],
      "execution_count": 2,
      "outputs": [
        {
          "output_type": "stream",
          "text": [
            "   temperature  activity\n",
            "0            0         3\n",
            "1           10         7\n",
            "2           20         9\n",
            "3           30        14\n",
            "4           40        15\n"
          ],
          "name": "stdout"
        }
      ]
    },
    {
      "cell_type": "code",
      "metadata": {
        "id": "lu-Rfb4ojwRk"
      },
      "source": [
        "pd.DataFrame?\r\n"
      ],
      "execution_count": 4,
      "outputs": []
    },
    {
      "cell_type": "code",
      "metadata": {
        "colab": {
          "base_uri": "https://localhost:8080/"
        },
        "id": "A7bciw68qN4Q",
        "outputId": "a083d4bd-c3b6-40a7-a19e-b3888cbcd2eb"
      },
      "source": [
        "# Create a new column named adjusted.\r\n",
        "my_dataframe[\"adjusted\"] = my_dataframe[\"activity\"] + 2\r\n",
        "\r\n",
        "# Print the entire DataFrame\r\n",
        "print(my_dataframe)"
      ],
      "execution_count": 5,
      "outputs": [
        {
          "output_type": "stream",
          "text": [
            "   temperature  activity  adjusted\n",
            "0            0         3         5\n",
            "1           10         7         9\n",
            "2           20         9        11\n",
            "3           30        14        16\n",
            "4           40        15        17\n"
          ],
          "name": "stdout"
        }
      ]
    },
    {
      "cell_type": "markdown",
      "metadata": {
        "id": "FCV8HckCqqNY"
      },
      "source": [
        ""
      ]
    },
    {
      "cell_type": "code",
      "metadata": {
        "colab": {
          "base_uri": "https://localhost:8080/"
        },
        "id": "V_28YA3yqUO3",
        "outputId": "ac38a7f6-dd4b-4c0a-c3c1-54615f48256a"
      },
      "source": [
        "print(\"Rows #0, #1, and #2:\")\r\n",
        "print(my_dataframe.head(3), '\\n')\r\n",
        "\r\n",
        "print(\"Row #2:\")\r\n",
        "print(my_dataframe.iloc[:,2], '\\n')\r\n",
        "\r\n",
        "\r\n",
        "print(\"colume #2:\")\r\n",
        "print(my_dataframe.loc[2])\r\n",
        "\r\n",
        "print(\"Rows #1, #2, and #3:\")\r\n",
        "print(my_dataframe[1:4], '\\n')\r\n",
        "\r\n",
        "print(\"Column 'temperature':\")\r\n",
        "print(my_dataframe['temperature'])"
      ],
      "execution_count": 32,
      "outputs": [
        {
          "output_type": "stream",
          "text": [
            "Rows #0, #1, and #2:\n",
            "   temperature  activity  adjusted\n",
            "0            0         3         5\n",
            "1           10         7         9\n",
            "2           20         9        11 \n",
            "\n",
            "Row #2:\n",
            "0     5\n",
            "1     9\n",
            "2    11\n",
            "3    16\n",
            "4    17\n",
            "Name: adjusted, dtype: int64 \n",
            "\n",
            "colume #2:\n",
            "temperature    20\n",
            "activity        9\n",
            "adjusted       11\n",
            "Name: 2, dtype: int64\n",
            "Rows #1, #2, and #3:\n",
            "   temperature  activity  adjusted\n",
            "1           10         7         9\n",
            "2           20         9        11\n",
            "3           30        14        16 \n",
            "\n",
            "Column 'temperature':\n",
            "0     0\n",
            "1    10\n",
            "2    20\n",
            "3    30\n",
            "4    40\n",
            "Name: temperature, dtype: int64\n"
          ],
          "name": "stdout"
        }
      ]
    },
    {
      "cell_type": "code",
      "metadata": {
        "id": "NpcPnolmrFTv"
      },
      "source": [
        "pd.DataFrame.iloc?\r\n"
      ],
      "execution_count": 31,
      "outputs": []
    },
    {
      "cell_type": "markdown",
      "metadata": {
        "id": "84uSnRmKvj5m"
      },
      "source": [
        "#TASK \r\n",
        "1) create a dataFrame\r\n",
        "2) copy a dataFrame"
      ]
    },
    {
      "cell_type": "code",
      "metadata": {
        "colab": {
          "base_uri": "https://localhost:8080/"
        },
        "id": "WcL0JdFPvjI6",
        "outputId": "34e1bfd1-1d0c-4f7a-b586-a374cc02a5bb"
      },
      "source": [
        "array1=np.random.randint(low=0, high=100, size=12, dtype=int)\r\n",
        "array1\r\n",
        "matrix1=array1.reshape((3,4))\r\n",
        "matrix1\r\n",
        "columnName=[\"Eleanor\",\"Chidi\",\"Tahani\",\"Jason\"]\r\n",
        "dataFram1=pd.DataFrame(data=matrix1, columns=columnName)\r\n",
        "print(dataFram1)"
      ],
      "execution_count": 42,
      "outputs": [
        {
          "output_type": "stream",
          "text": [
            "   Eleanor  Chidi  Tahani  Jason\n",
            "0       23     71      56     74\n",
            "1       93     14      13     53\n",
            "2       63     77      37     82\n"
          ],
          "name": "stdout"
        }
      ]
    },
    {
      "cell_type": "code",
      "metadata": {
        "colab": {
          "base_uri": "https://localhost:8080/"
        },
        "id": "cOin2Ua_BBlU",
        "outputId": "cc3acb6d-c3c3-4f46-a336-5a04bab5f0fa"
      },
      "source": [
        "dataFram1[\"janet\"]=dataFram1[\"Tahani\"]+dataFram1[\"Jason\"]\r\n",
        "print(dataFram1)\r\n",
        "\r\n"
      ],
      "execution_count": 46,
      "outputs": [
        {
          "output_type": "stream",
          "text": [
            "   Eleanor  Chidi  Tahani  Jason  janet\n",
            "0       23     71      56     74    130\n",
            "1       93     14      13     53     66\n",
            "2       63     77      37     82    119\n"
          ],
          "name": "stdout"
        }
      ]
    },
    {
      "cell_type": "markdown",
      "metadata": {
        "id": "jwgXYpKoH7QB"
      },
      "source": [
        "#copy\r\n",
        "but it is shallow copy"
      ]
    },
    {
      "cell_type": "code",
      "metadata": {
        "id": "CNQWHvB9H6Ud"
      },
      "source": [
        "# Create a reference by assigning my_dataframe to a new variable.\r\n",
        "print(\"Experiment with a reference:\")\r\n",
        "reference_to_df = df\r\n",
        "\r\n",
        "# Print the starting value of a particular cell.\r\n",
        "print(\"  Starting value of df: %d\" % df['Jason'][1])\r\n",
        "print(\"  Starting value of reference_to_df: %d\\n\" % reference_to_df['Jason'][1])\r\n",
        "\r\n",
        "# Modify a cell in df.\r\n",
        "df.at[1, 'Jason'] = df['Jason'][1] + 5\r\n",
        "print(\"  Updated df: %d\" % df['Jason'][1])\r\n",
        "print(\"  Updated reference_to_df: %d\\n\\n\" % reference_to_df['Jason'][1])\r\n",
        "\r\n",
        "# Create a true copy of my_dataframe\r\n",
        "print(\"Experiment with a true copy:\")\r\n",
        "copy_of_my_dataframe = my_dataframe.copy()\r\n",
        "\r\n",
        "# Print the starting value of a particular cell.\r\n",
        "print(\"  Starting value of my_dataframe: %d\" % my_dataframe['activity'][1])\r\n",
        "print(\"  Starting value of copy_of_my_dataframe: %d\\n\" % copy_of_my_dataframe['activity'][1])\r\n",
        "\r\n",
        "# Modify a cell in df.\r\n",
        "my_dataframe.at[1, 'activity'] = my_dataframe['activity'][1] + 3\r\n",
        "print(\"  Updated my_dataframe: %d\" % my_dataframe['activity'][1])\r\n",
        "print(\"  copy_of_my_dataframe does not get updated: %d\" % copy_of_my_dataframe['activity'][1])"
      ],
      "execution_count": null,
      "outputs": []
    }
  ]
}