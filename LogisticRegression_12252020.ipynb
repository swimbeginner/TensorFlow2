{
  "nbformat": 4,
  "nbformat_minor": 0,
  "metadata": {
    "colab": {
      "name": "LogisticRegression_12252020.ipynb",
      "provenance": [],
      "authorship_tag": "ABX9TyM5VnNWZLO4C2b+gBjaEIst",
      "include_colab_link": true
    },
    "kernelspec": {
      "name": "python3",
      "display_name": "Python 3"
    }
  },
  "cells": [
    {
      "cell_type": "markdown",
      "metadata": {
        "id": "view-in-github",
        "colab_type": "text"
      },
      "source": [
        "<a href=\"https://colab.research.google.com/github/swimbeginner/TensorFlow2/blob/main/LogisticRegression_12252020.ipynb\" target=\"_parent\"><img src=\"https://colab.research.google.com/assets/colab-badge.svg\" alt=\"Open In Colab\"/></a>"
      ]
    },
    {
      "cell_type": "code",
      "metadata": {
        "id": "NeDXyfmEXcxt"
      },
      "source": [
        ""
      ],
      "execution_count": null,
      "outputs": []
    },
    {
      "cell_type": "markdown",
      "metadata": {
        "id": "L813zoCOXlKA"
      },
      "source": [
        "#From google tensorFlow Crash course \r\n",
        "[classification model](https://colab.research.google.com/github/google/eng-edu/blob/main/ml/cc/exercises/binary_classification.ipynb?utm_source=mlcc&utm_campaign=colab-external&utm_medium=referral&utm_content=binary_classification_tf2-colab&hl=en#scrollTo=TL5y5fY9Jy_x)\r\n"
      ]
    },
    {
      "cell_type": "code",
      "metadata": {
        "id": "6CihtGuBXzsJ"
      },
      "source": [
        "%tensorflow_version 2.x"
      ],
      "execution_count": 3,
      "outputs": []
    },
    {
      "cell_type": "code",
      "metadata": {
        "colab": {
          "base_uri": "https://localhost:8080/"
        },
        "id": "zoMcqy1wcQZU",
        "outputId": "d0eed8c4-c715-4bd7-821b-aa29cb6b740f"
      },
      "source": [
        "import numpy as np\r\n",
        "import pandas as pd\r\n",
        "import tensorflow as tf\r\n",
        "from tensorflow import feature_column\r\n",
        "from tensorflow.keras import layers\r\n",
        "from matplotlib import pyplot as plt\r\n",
        "\r\n",
        "pd.options.display.max_rows=10\r\n",
        "pd.options.display.float_format=\"{:.1f}\".format\r\n",
        "print(\"run the import statement\")"
      ],
      "execution_count": 4,
      "outputs": [
        {
          "output_type": "stream",
          "text": [
            "run the import statement\n"
          ],
          "name": "stdout"
        }
      ]
    },
    {
      "cell_type": "code",
      "metadata": {
        "id": "dxQn95_Tcr0r"
      },
      "source": [
        "train_df = pd.read_csv(\"https://download.mlcc.google.com/mledu-datasets/california_housing_train.csv\")\r\n",
        "test_df = pd.read_csv(\"https://download.mlcc.google.com/mledu-datasets/california_housing_test.csv\")\r\n",
        "train_df = train_df.reindex(np.random.permutation(train_df.index)) # shuffle the training set"
      ],
      "execution_count": 5,
      "outputs": []
    },
    {
      "cell_type": "markdown",
      "metadata": {
        "id": "5spOz7VLkC2k"
      },
      "source": [
        "## Normalize values\r\n",
        "\r\n",
        "When creating a model with multiple features, the values of each feature should cover roughly the same range.  For example, if one feature's range spans 500 to 100,000 and another feature's range spans 2 to 12, then the model will be difficult or impossible to train. Therefore, you should \r\n",
        "[normalize](https://developers.google.com/machine-learning/glossary/#normalization) features in a multi-feature model. \r\n",
        "\r\n",
        "The following code cell normalizes datasets by converting each raw value (including the label) to its Z-score. A **Z-score** is the number of standard deviations from the mean for a particular raw value. For example, consider a feature having the following characteristics:\r\n",
        "\r\n",
        "  * The mean is 60.\r\n",
        "  * The standard deviation is 10.\r\n",
        "\r\n",
        "The raw value 75 would have a Z-score of +1.5:\r\n",
        "\r\n",
        "```\r\n",
        "  Z-score = (75 - 60) / 10 = +1.5\r\n",
        "```\r\n",
        "\r\n",
        "The raw value 38 would have a Z-score of -2.2:\r\n",
        "\r\n",
        "```\r\n",
        "  Z-score = (38 - 60) / 10 = -2.2"
      ]
    },
    {
      "cell_type": "code",
      "metadata": {
        "colab": {
          "base_uri": "https://localhost:8080/",
          "height": 224
        },
        "id": "5YCLU2ESc2W4",
        "outputId": "67813790-263c-4df1-ce29-05eff76f578b"
      },
      "source": [
        "train_df_mean=train_df.mean()\r\n",
        "train_df_std=train_df.std()\r\n",
        "train_df_norm=(train_df-train_df_mean)/train_df_std\r\n",
        "train_df_norm.head()"
      ],
      "execution_count": 6,
      "outputs": [
        {
          "output_type": "execute_result",
          "data": {
            "text/html": [
              "<div>\n",
              "<style scoped>\n",
              "    .dataframe tbody tr th:only-of-type {\n",
              "        vertical-align: middle;\n",
              "    }\n",
              "\n",
              "    .dataframe tbody tr th {\n",
              "        vertical-align: top;\n",
              "    }\n",
              "\n",
              "    .dataframe thead th {\n",
              "        text-align: right;\n",
              "    }\n",
              "</style>\n",
              "<table border=\"1\" class=\"dataframe\">\n",
              "  <thead>\n",
              "    <tr style=\"text-align: right;\">\n",
              "      <th></th>\n",
              "      <th>longitude</th>\n",
              "      <th>latitude</th>\n",
              "      <th>housing_median_age</th>\n",
              "      <th>total_rooms</th>\n",
              "      <th>total_bedrooms</th>\n",
              "      <th>population</th>\n",
              "      <th>households</th>\n",
              "      <th>median_income</th>\n",
              "      <th>median_house_value</th>\n",
              "    </tr>\n",
              "  </thead>\n",
              "  <tbody>\n",
              "    <tr>\n",
              "      <th>1672</th>\n",
              "      <td>1.2</td>\n",
              "      <td>-1.2</td>\n",
              "      <td>-1.1</td>\n",
              "      <td>0.2</td>\n",
              "      <td>0.0</td>\n",
              "      <td>0.1</td>\n",
              "      <td>0.1</td>\n",
              "      <td>0.7</td>\n",
              "      <td>-0.3</td>\n",
              "    </tr>\n",
              "    <tr>\n",
              "      <th>11108</th>\n",
              "      <td>-0.7</td>\n",
              "      <td>1.0</td>\n",
              "      <td>-0.1</td>\n",
              "      <td>-0.2</td>\n",
              "      <td>-0.1</td>\n",
              "      <td>-0.4</td>\n",
              "      <td>-0.1</td>\n",
              "      <td>-0.7</td>\n",
              "      <td>-0.8</td>\n",
              "    </tr>\n",
              "    <tr>\n",
              "      <th>12903</th>\n",
              "      <td>-1.1</td>\n",
              "      <td>0.8</td>\n",
              "      <td>-0.1</td>\n",
              "      <td>0.2</td>\n",
              "      <td>0.2</td>\n",
              "      <td>1.6</td>\n",
              "      <td>0.3</td>\n",
              "      <td>0.4</td>\n",
              "      <td>-0.3</td>\n",
              "    </tr>\n",
              "    <tr>\n",
              "      <th>10791</th>\n",
              "      <td>-0.6</td>\n",
              "      <td>-0.1</td>\n",
              "      <td>-1.0</td>\n",
              "      <td>-1.1</td>\n",
              "      <td>-1.2</td>\n",
              "      <td>-0.8</td>\n",
              "      <td>-1.2</td>\n",
              "      <td>-1.2</td>\n",
              "      <td>-1.4</td>\n",
              "    </tr>\n",
              "    <tr>\n",
              "      <th>16133</th>\n",
              "      <td>-1.4</td>\n",
              "      <td>1.0</td>\n",
              "      <td>1.6</td>\n",
              "      <td>-0.4</td>\n",
              "      <td>-0.5</td>\n",
              "      <td>-0.3</td>\n",
              "      <td>-0.5</td>\n",
              "      <td>-0.5</td>\n",
              "      <td>0.2</td>\n",
              "    </tr>\n",
              "  </tbody>\n",
              "</table>\n",
              "</div>"
            ],
            "text/plain": [
              "       longitude  latitude  ...  median_income  median_house_value\n",
              "1672         1.2      -1.2  ...            0.7                -0.3\n",
              "11108       -0.7       1.0  ...           -0.7                -0.8\n",
              "12903       -1.1       0.8  ...            0.4                -0.3\n",
              "10791       -0.6      -0.1  ...           -1.2                -1.4\n",
              "16133       -1.4       1.0  ...           -0.5                 0.2\n",
              "\n",
              "[5 rows x 9 columns]"
            ]
          },
          "metadata": {
            "tags": []
          },
          "execution_count": 6
        }
      ]
    },
    {
      "cell_type": "code",
      "metadata": {
        "colab": {
          "base_uri": "https://localhost:8080/",
          "height": 224
        },
        "id": "XC33_QDemv7r",
        "outputId": "91169e36-71bb-4bd3-c790-7ad961233a37"
      },
      "source": [
        "test_df_mean=test_df.mean()\r\n",
        "test_df_std=test_df.std()\r\n",
        "test_df_norm=(test_df-test_df_mean)/test_df_std\r\n",
        "test_df_norm.head()"
      ],
      "execution_count": 7,
      "outputs": [
        {
          "output_type": "execute_result",
          "data": {
            "text/html": [
              "<div>\n",
              "<style scoped>\n",
              "    .dataframe tbody tr th:only-of-type {\n",
              "        vertical-align: middle;\n",
              "    }\n",
              "\n",
              "    .dataframe tbody tr th {\n",
              "        vertical-align: top;\n",
              "    }\n",
              "\n",
              "    .dataframe thead th {\n",
              "        text-align: right;\n",
              "    }\n",
              "</style>\n",
              "<table border=\"1\" class=\"dataframe\">\n",
              "  <thead>\n",
              "    <tr style=\"text-align: right;\">\n",
              "      <th></th>\n",
              "      <th>longitude</th>\n",
              "      <th>latitude</th>\n",
              "      <th>housing_median_age</th>\n",
              "      <th>total_rooms</th>\n",
              "      <th>total_bedrooms</th>\n",
              "      <th>population</th>\n",
              "      <th>households</th>\n",
              "      <th>median_income</th>\n",
              "      <th>median_house_value</th>\n",
              "    </tr>\n",
              "  </thead>\n",
              "  <tbody>\n",
              "    <tr>\n",
              "      <th>0</th>\n",
              "      <td>-1.2</td>\n",
              "      <td>0.8</td>\n",
              "      <td>-0.1</td>\n",
              "      <td>0.6</td>\n",
              "      <td>0.3</td>\n",
              "      <td>0.1</td>\n",
              "      <td>0.3</td>\n",
              "      <td>1.5</td>\n",
              "      <td>1.2</td>\n",
              "    </tr>\n",
              "    <tr>\n",
              "      <th>1</th>\n",
              "      <td>0.6</td>\n",
              "      <td>-0.6</td>\n",
              "      <td>1.1</td>\n",
              "      <td>-0.5</td>\n",
              "      <td>-0.5</td>\n",
              "      <td>-0.6</td>\n",
              "      <td>-0.6</td>\n",
              "      <td>-0.1</td>\n",
              "      <td>-0.3</td>\n",
              "    </tr>\n",
              "    <tr>\n",
              "      <th>2</th>\n",
              "      <td>0.9</td>\n",
              "      <td>-0.9</td>\n",
              "      <td>-0.1</td>\n",
              "      <td>0.5</td>\n",
              "      <td>-0.1</td>\n",
              "      <td>0.1</td>\n",
              "      <td>0.0</td>\n",
              "      <td>1.1</td>\n",
              "      <td>0.6</td>\n",
              "    </tr>\n",
              "    <tr>\n",
              "      <th>3</th>\n",
              "      <td>0.6</td>\n",
              "      <td>-0.9</td>\n",
              "      <td>-0.1</td>\n",
              "      <td>-1.2</td>\n",
              "      <td>-1.2</td>\n",
              "      <td>-1.3</td>\n",
              "      <td>-1.3</td>\n",
              "      <td>1.3</td>\n",
              "      <td>1.1</td>\n",
              "    </tr>\n",
              "    <tr>\n",
              "      <th>4</th>\n",
              "      <td>-0.0</td>\n",
              "      <td>0.3</td>\n",
              "      <td>-0.8</td>\n",
              "      <td>-0.6</td>\n",
              "      <td>-0.7</td>\n",
              "      <td>-0.5</td>\n",
              "      <td>-0.7</td>\n",
              "      <td>-0.5</td>\n",
              "      <td>-1.1</td>\n",
              "    </tr>\n",
              "  </tbody>\n",
              "</table>\n",
              "</div>"
            ],
            "text/plain": [
              "   longitude  latitude  ...  median_income  median_house_value\n",
              "0       -1.2       0.8  ...            1.5                 1.2\n",
              "1        0.6      -0.6  ...           -0.1                -0.3\n",
              "2        0.9      -0.9  ...            1.1                 0.6\n",
              "3        0.6      -0.9  ...            1.3                 1.1\n",
              "4       -0.0       0.3  ...           -0.5                -1.1\n",
              "\n",
              "[5 rows x 9 columns]"
            ]
          },
          "metadata": {
            "tags": []
          },
          "execution_count": 7
        }
      ]
    },
    {
      "cell_type": "code",
      "metadata": {
        "colab": {
          "base_uri": "https://localhost:8080/"
        },
        "id": "tbgGr1U9nin3",
        "outputId": "124bd598-cf80-471b-8f4e-6e7082ec0901"
      },
      "source": [
        "threshold = 265000 # This is the 75th percentile for median house values.\r\n",
        "train_df_norm[\"median_house_value_is_high\"] = [1.0 if i>=threshold else 0 for i in train_df[\"median_house_value\"]]\r\n",
        "test_df_norm[\"median_house_value_is_high\"] = [1.0 if i>=threshold else 0 for i in test_df[\"median_house_value\"]]\r\n",
        "\r\n",
        "# Print out a few example cells from the beginning and \r\n",
        "# middle of the training set, just to make sure that\r\n",
        "# your code created only 0s and 1s in the newly created\r\n",
        "# median_house_value_is_high column\r\n",
        "train_df_norm[\"median_house_value_is_high\"].head(8000)"
      ],
      "execution_count": 23,
      "outputs": [
        {
          "output_type": "execute_result",
          "data": {
            "text/plain": [
              "1672    0.0\n",
              "11108   0.0\n",
              "12903   0.0\n",
              "10791   0.0\n",
              "16133   0.0\n",
              "         ..\n",
              "7374    1.0\n",
              "13317   1.0\n",
              "5392    0.0\n",
              "11217   0.0\n",
              "7663    1.0\n",
              "Name: median_house_value_is_high, Length: 8000, dtype: float64"
            ]
          },
          "metadata": {
            "tags": []
          },
          "execution_count": 23
        }
      ]
    },
    {
      "cell_type": "code",
      "metadata": {
        "colab": {
          "base_uri": "https://localhost:8080/"
        },
        "id": "poF_INNPw-Hy",
        "outputId": "a126dcf9-a681-42f1-fce4-90d4db3997cc"
      },
      "source": [
        "#answers from the course\r\n",
        "threshold = 265000\r\n",
        "train_df_norm[\"median_house_value_is_high\"] = (train_df[\"median_house_value\"] > threshold).astype(float)\r\n",
        "test_df_norm[\"median_house_value_is_high\"] = (test_df[\"median_house_value\"] > threshold).astype(float) \r\n",
        "train_df_norm[\"median_house_value_is_high\"].head(8000)"
      ],
      "execution_count": 24,
      "outputs": [
        {
          "output_type": "execute_result",
          "data": {
            "text/plain": [
              "1672    0.0\n",
              "11108   0.0\n",
              "12903   0.0\n",
              "10791   0.0\n",
              "16133   0.0\n",
              "         ..\n",
              "7374    1.0\n",
              "13317   1.0\n",
              "5392    0.0\n",
              "11217   0.0\n",
              "7663    1.0\n",
              "Name: median_house_value_is_high, Length: 8000, dtype: float64"
            ]
          },
          "metadata": {
            "tags": []
          },
          "execution_count": 24
        }
      ]
    },
    {
      "cell_type": "markdown",
      "metadata": {
        "id": "Q9Wus5VcxU7X"
      },
      "source": [
        "##Represent the features in  feature columns"
      ]
    },
    {
      "cell_type": "code",
      "metadata": {
        "colab": {
          "base_uri": "https://localhost:8080/"
        },
        "id": "v9kv8w58nvit",
        "outputId": "ebb1dcbf-f431-4ab4-dc50-01d61c680a0a"
      },
      "source": [
        "# Create an empty list that will eventually hold all created feature columns.\r\n",
        "feature_columns = []\r\n",
        "\r\n",
        "# Create a numerical feature column to represent median_income.\r\n",
        "median_income = tf.feature_column.numeric_column(\"median_income\")\r\n",
        "feature_columns.append(median_income)\r\n",
        "\r\n",
        "# Create a numerical feature column to represent total_rooms.\r\n",
        "tr = tf.feature_column.numeric_column(\"total_rooms\")\r\n",
        "feature_columns.append(tr)\r\n",
        "\r\n",
        "# Convert the list of feature columns into a layer that will later be fed into\r\n",
        "# the model. \r\n",
        "feature_layer = layers.DenseFeatures(feature_columns)\r\n",
        "\r\n",
        "# Print the first 3 and last 3 rows of the feature_layer's output when applied\r\n",
        "# to train_df_norm:\r\n",
        "feature_layer(dict(train_df_norm))"
      ],
      "execution_count": 25,
      "outputs": [
        {
          "output_type": "execute_result",
          "data": {
            "text/plain": [
              "<tf.Tensor: shape=(17000, 2), dtype=float32, numpy=\n",
              "array([[ 0.749059  ,  0.17676374],\n",
              "       [-0.7173301 , -0.16774005],\n",
              "       [ 0.39290377,  0.22171895],\n",
              "       ...,\n",
              "       [-1.2382517 , -1.0567524 ],\n",
              "       [-0.04841222,  3.6557472 ],\n",
              "       [-0.9239693 , -0.5209596 ]], dtype=float32)>"
            ]
          },
          "metadata": {
            "tags": []
          },
          "execution_count": 25
        }
      ]
    },
    {
      "cell_type": "code",
      "metadata": {
        "colab": {
          "base_uri": "https://localhost:8080/"
        },
        "id": "-DQNbUmMF7Xp",
        "outputId": "084903ef-fd14-465c-fbe2-72b064a564a2"
      },
      "source": [
        "# Define the functions that create and train a model.\r\n",
        "def create_model(my_learning_rate, feature_layer, my_metrics):\r\n",
        "  \"\"\"Create and compile a simple classification model.\"\"\"\r\n",
        "  # Most simple tf.keras models are sequential.\r\n",
        "  model = tf.keras.models.Sequential()\r\n",
        "\r\n",
        "  # Add the feature layer (the list of features and how they are represented)\r\n",
        "  # to the model.\r\n",
        "  model.add(feature_layer)\r\n",
        "\r\n",
        "  # Funnel the regression value through a sigmoid function.\r\n",
        "  model.add(tf.keras.layers.Dense(units=1, input_shape=(1,),\r\n",
        "                                  activation=tf.sigmoid),)\r\n",
        "\r\n",
        "  # Call the compile method to construct the layers into a model that\r\n",
        "  # TensorFlow can execute.  Notice that we're using a different loss\r\n",
        "  # function for classification than for regression.    \r\n",
        "  model.compile(optimizer=tf.keras.optimizers.RMSprop(lr=my_learning_rate),                                                   \r\n",
        "                loss=tf.keras.losses.BinaryCrossentropy(),\r\n",
        "                metrics=my_metrics)\r\n",
        "\r\n",
        "  return model        \r\n",
        "\r\n",
        "\r\n",
        "def train_model(model, dataset, epochs, label_name,\r\n",
        "                batch_size=None, shuffle=True):\r\n",
        "  \"\"\"Feed a dataset into the model in order to train it.\"\"\"\r\n",
        "\r\n",
        "  # The x parameter of tf.keras.Model.fit can be a list of arrays, where\r\n",
        "  # each array contains the data for one feature.  Here, we're passing\r\n",
        "  # every column in the dataset. Note that the feature_layer will filter\r\n",
        "  # away most of those columns, leaving only the desired columns and their\r\n",
        "  # representations as features.\r\n",
        "  features = {name:np.array(value) for name, value in dataset.items()}\r\n",
        "  label = np.array(features.pop(label_name)) \r\n",
        "  history = model.fit(x=features, y=label, batch_size=batch_size,\r\n",
        "                      epochs=epochs, shuffle=shuffle)\r\n",
        "  \r\n",
        "  # The list of epochs is stored separately from the rest of history.\r\n",
        "  epochs = history.epoch\r\n",
        "\r\n",
        "  # Isolate the classification metric for each epoch.\r\n",
        "  hist = pd.DataFrame(history.history)\r\n",
        "\r\n",
        "  return epochs, hist  \r\n",
        "\r\n",
        "print(\"Defined the create_model and train_model functions.\")   "
      ],
      "execution_count": 28,
      "outputs": [
        {
          "output_type": "stream",
          "text": [
            "Defined the create_model and train_model functions.\n"
          ],
          "name": "stdout"
        }
      ]
    },
    {
      "cell_type": "code",
      "metadata": {
        "colab": {
          "base_uri": "https://localhost:8080/"
        },
        "id": "Sr4iwT4KGGnU",
        "outputId": "ee489423-ad48-4866-da46-89d4cbc0ac04"
      },
      "source": [
        "#@title Define the plotting function.\r\n",
        "def plot_curve(epochs, hist, list_of_metrics):\r\n",
        "  \"\"\"Plot a curve of one or more classification metrics vs. epoch.\"\"\"  \r\n",
        "  # list_of_metrics should be one of the names shown in:\r\n",
        "  # https://www.tensorflow.org/tutorials/structured_data/imbalanced_data#define_the_model_and_metrics  \r\n",
        "\r\n",
        "  plt.figure()\r\n",
        "  plt.xlabel(\"Epoch\")\r\n",
        "  plt.ylabel(\"Value\")\r\n",
        "\r\n",
        "  for m in list_of_metrics:\r\n",
        "    x = hist[m]\r\n",
        "    plt.plot(epochs[1:], x[1:], label=m)\r\n",
        "\r\n",
        "  plt.legend()\r\n",
        "\r\n",
        "print(\"Defined the plot_curve function.\")"
      ],
      "execution_count": 29,
      "outputs": [
        {
          "output_type": "stream",
          "text": [
            "Defined the plot_curve function.\n"
          ],
          "name": "stdout"
        }
      ]
    },
    {
      "cell_type": "code",
      "metadata": {
        "colab": {
          "base_uri": "https://localhost:8080/",
          "height": 1000
        },
        "id": "oKqDLlkEGTMj",
        "outputId": "45efffa8-7f0a-4c0f-e587-79797b8d15df"
      },
      "source": [
        "# The following variables are the hyperparameters.\r\n",
        "learning_rate = 0.001\r\n",
        "epochs = 20\r\n",
        "batch_size = 100\r\n",
        "label_name = \"median_house_value_is_high\"\r\n",
        "classification_threshold = 0.35\r\n",
        "\r\n",
        "# Establish the metrics the model will measure.\r\n",
        "METRICS = [\r\n",
        "           tf.keras.metrics.BinaryAccuracy(name='accuracy', \r\n",
        "                                           threshold=classification_threshold),\r\n",
        "          ]\r\n",
        "\r\n",
        "# Establish the model's topography.\r\n",
        "my_model = create_model(learning_rate, feature_layer, METRICS)\r\n",
        "\r\n",
        "# Train the model on the training set.\r\n",
        "epochs, hist = train_model(my_model, train_df_norm, epochs, \r\n",
        "                           label_name, batch_size)\r\n",
        "\r\n",
        "# Plot a graph of the metric(s) vs. epochs.\r\n",
        "list_of_metrics_to_plot = ['accuracy'] \r\n",
        "\r\n",
        "plot_curve(epochs, hist, list_of_metrics_to_plot)"
      ],
      "execution_count": 30,
      "outputs": [
        {
          "output_type": "stream",
          "text": [
            "Epoch 1/20\n",
            "WARNING:tensorflow:Layers in a Sequential model should only have a single input tensor, but we receive a <class 'dict'> input: {'longitude': <tf.Tensor 'ExpandDims_3:0' shape=(100, 1) dtype=float32>, 'latitude': <tf.Tensor 'ExpandDims_2:0' shape=(100, 1) dtype=float32>, 'housing_median_age': <tf.Tensor 'ExpandDims_1:0' shape=(100, 1) dtype=float32>, 'total_rooms': <tf.Tensor 'ExpandDims_8:0' shape=(100, 1) dtype=float32>, 'total_bedrooms': <tf.Tensor 'ExpandDims_7:0' shape=(100, 1) dtype=float32>, 'population': <tf.Tensor 'ExpandDims_6:0' shape=(100, 1) dtype=float32>, 'households': <tf.Tensor 'ExpandDims:0' shape=(100, 1) dtype=float32>, 'median_income': <tf.Tensor 'ExpandDims_5:0' shape=(100, 1) dtype=float32>, 'median_house_value': <tf.Tensor 'ExpandDims_4:0' shape=(100, 1) dtype=float32>}\n",
            "Consider rewriting this model with the Functional API.\n",
            "WARNING:tensorflow:Layers in a Sequential model should only have a single input tensor, but we receive a <class 'dict'> input: {'longitude': <tf.Tensor 'ExpandDims_3:0' shape=(100, 1) dtype=float32>, 'latitude': <tf.Tensor 'ExpandDims_2:0' shape=(100, 1) dtype=float32>, 'housing_median_age': <tf.Tensor 'ExpandDims_1:0' shape=(100, 1) dtype=float32>, 'total_rooms': <tf.Tensor 'ExpandDims_8:0' shape=(100, 1) dtype=float32>, 'total_bedrooms': <tf.Tensor 'ExpandDims_7:0' shape=(100, 1) dtype=float32>, 'population': <tf.Tensor 'ExpandDims_6:0' shape=(100, 1) dtype=float32>, 'households': <tf.Tensor 'ExpandDims:0' shape=(100, 1) dtype=float32>, 'median_income': <tf.Tensor 'ExpandDims_5:0' shape=(100, 1) dtype=float32>, 'median_house_value': <tf.Tensor 'ExpandDims_4:0' shape=(100, 1) dtype=float32>}\n",
            "Consider rewriting this model with the Functional API.\n",
            "170/170 [==============================] - 1s 1ms/step - loss: 0.7361 - accuracy: 0.2732\n",
            "Epoch 2/20\n",
            "170/170 [==============================] - 0s 1ms/step - loss: 0.6390 - accuracy: 0.2809\n",
            "Epoch 3/20\n",
            "170/170 [==============================] - 0s 1ms/step - loss: 0.5657 - accuracy: 0.3951\n",
            "Epoch 4/20\n",
            "170/170 [==============================] - 0s 1ms/step - loss: 0.5109 - accuracy: 0.6784\n",
            "Epoch 5/20\n",
            "170/170 [==============================] - 0s 1ms/step - loss: 0.4712 - accuracy: 0.7554\n",
            "Epoch 6/20\n",
            "170/170 [==============================] - 0s 1ms/step - loss: 0.4425 - accuracy: 0.7820\n",
            "Epoch 7/20\n",
            "170/170 [==============================] - 0s 1ms/step - loss: 0.4261 - accuracy: 0.8001\n",
            "Epoch 8/20\n",
            "170/170 [==============================] - 0s 1ms/step - loss: 0.4151 - accuracy: 0.8064\n",
            "Epoch 9/20\n",
            "170/170 [==============================] - 0s 1ms/step - loss: 0.4029 - accuracy: 0.8107\n",
            "Epoch 10/20\n",
            "170/170 [==============================] - 0s 1ms/step - loss: 0.3994 - accuracy: 0.8119\n",
            "Epoch 11/20\n",
            "170/170 [==============================] - 0s 1ms/step - loss: 0.3971 - accuracy: 0.8089\n",
            "Epoch 12/20\n",
            "170/170 [==============================] - 0s 1ms/step - loss: 0.4034 - accuracy: 0.8042\n",
            "Epoch 13/20\n",
            "170/170 [==============================] - 0s 1ms/step - loss: 0.3964 - accuracy: 0.8088\n",
            "Epoch 14/20\n",
            "170/170 [==============================] - 0s 1ms/step - loss: 0.3929 - accuracy: 0.8107\n",
            "Epoch 15/20\n",
            "170/170 [==============================] - 0s 1ms/step - loss: 0.4000 - accuracy: 0.8077\n",
            "Epoch 16/20\n",
            "170/170 [==============================] - 0s 1ms/step - loss: 0.3973 - accuracy: 0.8108\n",
            "Epoch 17/20\n",
            "170/170 [==============================] - 0s 1ms/step - loss: 0.3940 - accuracy: 0.8091\n",
            "Epoch 18/20\n",
            "170/170 [==============================] - 0s 1ms/step - loss: 0.3918 - accuracy: 0.8123\n",
            "Epoch 19/20\n",
            "170/170 [==============================] - 0s 1ms/step - loss: 0.3919 - accuracy: 0.8119\n",
            "Epoch 20/20\n",
            "170/170 [==============================] - 0s 1ms/step - loss: 0.3976 - accuracy: 0.8078\n"
          ],
          "name": "stdout"
        },
        {
          "output_type": "display_data",
          "data": {
            "image/png": "[encoded data removed]",
            "text/plain": [
              "<Figure size 432x288 with 1 Axes>"
            ]
          },
          "metadata": {
            "tags": [],
            "needs_background": "light"
          }
        }
      ]
    },
    {
      "cell_type": "markdown",
      "metadata": {
        "id": "LkE89hftILFN"
      },
      "source": [
        "##Accuracy is the only metrics"
      ]
    },
    {
      "cell_type": "code",
      "metadata": {
        "colab": {
          "base_uri": "https://localhost:8080/"
        },
        "id": "vz8LEIF9Ggik",
        "outputId": "1195c195-26e8-4e73-f843-28224b7e57fc"
      },
      "source": [
        "features = {name:np.array(value) for name, value in test_df_norm.items()}\r\n",
        "label = np.array(features.pop(label_name))\r\n",
        "\r\n",
        "my_model.evaluate(x = features, y = label, batch_size=batch_size)"
      ],
      "execution_count": 31,
      "outputs": [
        {
          "output_type": "stream",
          "text": [
            "WARNING:tensorflow:Layers in a Sequential model should only have a single input tensor, but we receive a <class 'dict'> input: {'longitude': <tf.Tensor 'ExpandDims_3:0' shape=(100, 1) dtype=float32>, 'latitude': <tf.Tensor 'ExpandDims_2:0' shape=(100, 1) dtype=float32>, 'housing_median_age': <tf.Tensor 'ExpandDims_1:0' shape=(100, 1) dtype=float32>, 'total_rooms': <tf.Tensor 'ExpandDims_8:0' shape=(100, 1) dtype=float32>, 'total_bedrooms': <tf.Tensor 'ExpandDims_7:0' shape=(100, 1) dtype=float32>, 'population': <tf.Tensor 'ExpandDims_6:0' shape=(100, 1) dtype=float32>, 'households': <tf.Tensor 'ExpandDims:0' shape=(100, 1) dtype=float32>, 'median_income': <tf.Tensor 'ExpandDims_5:0' shape=(100, 1) dtype=float32>, 'median_house_value': <tf.Tensor 'ExpandDims_4:0' shape=(100, 1) dtype=float32>}\n",
            "Consider rewriting this model with the Functional API.\n",
            "30/30 [==============================] - 0s 1ms/step - loss: 0.4069 - accuracy: 0.8003\n"
          ],
          "name": "stdout"
        },
        {
          "output_type": "execute_result",
          "data": {
            "text/plain": [
              "[0.40685421228408813, 0.8003333210945129]"
            ]
          },
          "metadata": {
            "tags": []
          },
          "execution_count": 31
        }
      ]
    },
    {
      "cell_type": "markdown",
      "metadata": {
        "id": "0_9MrmRNIJrN"
      },
      "source": [
        "##Add precision and recall as metrics"
      ]
    },
    {
      "cell_type": "code",
      "metadata": {
        "colab": {
          "base_uri": "https://localhost:8080/",
          "height": 1000
        },
        "id": "XhpeHw48IIw1",
        "outputId": "6fe05adb-b07d-4812-d79a-eb505426bcd5"
      },
      "source": [
        "# The following variables are the hyperparameters.\r\n",
        "learning_rate = 0.001\r\n",
        "epochs = 50\r\n",
        "batch_size = 100\r\n",
        "classification_threshold = 0.4\r\n",
        "label_name = \"median_house_value_is_high\"\r\n",
        "\r\n",
        "# Modify the following definition of METRICS to generate\r\n",
        "# not only accuracy and precision, but also recall:\r\n",
        "METRICS = [\r\n",
        "      tf.keras.metrics.BinaryAccuracy(name='accuracy', \r\n",
        "                                      threshold=classification_threshold),\r\n",
        "      tf.keras.metrics.Precision(thresholds=classification_threshold,\r\n",
        "                                 name='precision' \r\n",
        "                                 ),\r\n",
        "      tf.keras.metrics.Recall(thresholds=classification_threshold,\r\n",
        "                                 name='recall' \r\n",
        "                                 )\r\n",
        "]\r\n",
        "\r\n",
        "# Establish the model's topography.\r\n",
        "my_model = create_model(learning_rate, feature_layer, METRICS)\r\n",
        "\r\n",
        "# Train the model on the training set.\r\n",
        "epochs, hist = train_model(my_model, train_df_norm, epochs, \r\n",
        "                           label_name, batch_size)\r\n",
        "\r\n",
        "# Plot metrics vs. epochs\r\n",
        "list_of_metrics_to_plot = ['accuracy', 'precision', 'recall'] \r\n",
        "plot_curve(epochs, hist, list_of_metrics_to_plot)"
      ],
      "execution_count": 37,
      "outputs": [
        {
          "output_type": "stream",
          "text": [
            "Epoch 1/50\n",
            "WARNING:tensorflow:Layers in a Sequential model should only have a single input tensor, but we receive a <class 'dict'> input: {'longitude': <tf.Tensor 'ExpandDims_3:0' shape=(100, 1) dtype=float32>, 'latitude': <tf.Tensor 'ExpandDims_2:0' shape=(100, 1) dtype=float32>, 'housing_median_age': <tf.Tensor 'ExpandDims_1:0' shape=(100, 1) dtype=float32>, 'total_rooms': <tf.Tensor 'ExpandDims_8:0' shape=(100, 1) dtype=float32>, 'total_bedrooms': <tf.Tensor 'ExpandDims_7:0' shape=(100, 1) dtype=float32>, 'population': <tf.Tensor 'ExpandDims_6:0' shape=(100, 1) dtype=float32>, 'households': <tf.Tensor 'ExpandDims:0' shape=(100, 1) dtype=float32>, 'median_income': <tf.Tensor 'ExpandDims_5:0' shape=(100, 1) dtype=float32>, 'median_house_value': <tf.Tensor 'ExpandDims_4:0' shape=(100, 1) dtype=float32>}\n",
            "Consider rewriting this model with the Functional API.\n",
            "WARNING:tensorflow:Layers in a Sequential model should only have a single input tensor, but we receive a <class 'dict'> input: {'longitude': <tf.Tensor 'ExpandDims_3:0' shape=(100, 1) dtype=float32>, 'latitude': <tf.Tensor 'ExpandDims_2:0' shape=(100, 1) dtype=float32>, 'housing_median_age': <tf.Tensor 'ExpandDims_1:0' shape=(100, 1) dtype=float32>, 'total_rooms': <tf.Tensor 'ExpandDims_8:0' shape=(100, 1) dtype=float32>, 'total_bedrooms': <tf.Tensor 'ExpandDims_7:0' shape=(100, 1) dtype=float32>, 'population': <tf.Tensor 'ExpandDims_6:0' shape=(100, 1) dtype=float32>, 'households': <tf.Tensor 'ExpandDims:0' shape=(100, 1) dtype=float32>, 'median_income': <tf.Tensor 'ExpandDims_5:0' shape=(100, 1) dtype=float32>, 'median_house_value': <tf.Tensor 'ExpandDims_4:0' shape=(100, 1) dtype=float32>}\n",
            "Consider rewriting this model with the Functional API.\n",
            "170/170 [==============================] - 1s 1ms/step - loss: 0.6945 - accuracy: 0.4507 - precision: 0.2834 - recall: 0.8045\n",
            "Epoch 2/50\n",
            "170/170 [==============================] - 0s 1ms/step - loss: 0.6145 - accuracy: 0.5613 - precision: 0.3417 - recall: 0.7796\n",
            "Epoch 3/50\n",
            "170/170 [==============================] - 0s 1ms/step - loss: 0.5402 - accuracy: 0.6587 - precision: 0.3997 - recall: 0.7413\n",
            "Epoch 4/50\n",
            "170/170 [==============================] - 0s 1ms/step - loss: 0.4929 - accuracy: 0.7187 - precision: 0.4600 - recall: 0.7170\n",
            "Epoch 5/50\n",
            "170/170 [==============================] - 0s 1ms/step - loss: 0.4618 - accuracy: 0.7523 - precision: 0.5032 - recall: 0.6807\n",
            "Epoch 6/50\n",
            "170/170 [==============================] - 0s 1ms/step - loss: 0.4324 - accuracy: 0.7768 - precision: 0.5539 - recall: 0.6547\n",
            "Epoch 7/50\n",
            "170/170 [==============================] - 0s 2ms/step - loss: 0.4171 - accuracy: 0.7957 - precision: 0.5891 - recall: 0.6314\n",
            "Epoch 8/50\n",
            "170/170 [==============================] - 0s 1ms/step - loss: 0.4078 - accuracy: 0.8055 - precision: 0.6086 - recall: 0.6145\n",
            "Epoch 9/50\n",
            "170/170 [==============================] - 0s 1ms/step - loss: 0.3998 - accuracy: 0.8148 - precision: 0.6408 - recall: 0.5920\n",
            "Epoch 10/50\n",
            "170/170 [==============================] - 0s 1ms/step - loss: 0.4015 - accuracy: 0.8166 - precision: 0.6497 - recall: 0.5865\n",
            "Epoch 11/50\n",
            "170/170 [==============================] - 0s 1ms/step - loss: 0.4066 - accuracy: 0.8140 - precision: 0.6638 - recall: 0.5694\n",
            "Epoch 12/50\n",
            "170/170 [==============================] - 0s 1ms/step - loss: 0.3980 - accuracy: 0.8189 - precision: 0.6661 - recall: 0.5801\n",
            "Epoch 13/50\n",
            "170/170 [==============================] - 0s 1ms/step - loss: 0.3951 - accuracy: 0.8221 - precision: 0.6617 - recall: 0.5939\n",
            "Epoch 14/50\n",
            "170/170 [==============================] - 0s 1ms/step - loss: 0.3957 - accuracy: 0.8197 - precision: 0.6573 - recall: 0.5819\n",
            "Epoch 15/50\n",
            "170/170 [==============================] - 0s 2ms/step - loss: 0.3973 - accuracy: 0.8175 - precision: 0.6551 - recall: 0.5631\n",
            "Epoch 16/50\n",
            "170/170 [==============================] - 0s 1ms/step - loss: 0.3994 - accuracy: 0.8209 - precision: 0.6674 - recall: 0.5775\n",
            "Epoch 17/50\n",
            "170/170 [==============================] - 0s 1ms/step - loss: 0.3945 - accuracy: 0.8211 - precision: 0.6647 - recall: 0.5802\n",
            "Epoch 18/50\n",
            "170/170 [==============================] - 0s 1ms/step - loss: 0.3934 - accuracy: 0.8220 - precision: 0.6682 - recall: 0.5817\n",
            "Epoch 19/50\n",
            "170/170 [==============================] - 0s 2ms/step - loss: 0.3870 - accuracy: 0.8232 - precision: 0.6590 - recall: 0.5914\n",
            "Epoch 20/50\n",
            "170/170 [==============================] - 0s 1ms/step - loss: 0.3900 - accuracy: 0.8243 - precision: 0.6632 - recall: 0.5920\n",
            "Epoch 21/50\n",
            "170/170 [==============================] - 0s 1ms/step - loss: 0.3981 - accuracy: 0.8199 - precision: 0.6625 - recall: 0.5720\n",
            "Epoch 22/50\n",
            "170/170 [==============================] - 0s 1ms/step - loss: 0.3973 - accuracy: 0.8233 - precision: 0.6761 - recall: 0.5834\n",
            "Epoch 23/50\n",
            "170/170 [==============================] - 0s 1ms/step - loss: 0.4013 - accuracy: 0.8178 - precision: 0.6532 - recall: 0.5652\n",
            "Epoch 24/50\n",
            "170/170 [==============================] - 0s 1ms/step - loss: 0.3935 - accuracy: 0.8223 - precision: 0.6612 - recall: 0.5878\n",
            "Epoch 25/50\n",
            "170/170 [==============================] - 0s 1ms/step - loss: 0.3949 - accuracy: 0.8212 - precision: 0.6675 - recall: 0.5849\n",
            "Epoch 26/50\n",
            "170/170 [==============================] - 0s 1ms/step - loss: 0.3960 - accuracy: 0.8207 - precision: 0.6644 - recall: 0.5794\n",
            "Epoch 27/50\n",
            "170/170 [==============================] - 0s 1ms/step - loss: 0.4003 - accuracy: 0.8193 - precision: 0.6530 - recall: 0.5832\n",
            "Epoch 28/50\n",
            "170/170 [==============================] - 0s 1ms/step - loss: 0.4012 - accuracy: 0.8182 - precision: 0.6513 - recall: 0.5754\n",
            "Epoch 29/50\n",
            "170/170 [==============================] - 0s 1ms/step - loss: 0.4003 - accuracy: 0.8203 - precision: 0.6711 - recall: 0.5815\n",
            "Epoch 30/50\n",
            "170/170 [==============================] - 0s 1ms/step - loss: 0.4031 - accuracy: 0.8166 - precision: 0.6520 - recall: 0.5790\n",
            "Epoch 31/50\n",
            "170/170 [==============================] - 0s 2ms/step - loss: 0.3936 - accuracy: 0.8213 - precision: 0.6419 - recall: 0.5692\n",
            "Epoch 32/50\n",
            "170/170 [==============================] - 0s 1ms/step - loss: 0.4043 - accuracy: 0.8196 - precision: 0.6629 - recall: 0.5784\n",
            "Epoch 33/50\n",
            "170/170 [==============================] - 0s 1ms/step - loss: 0.3978 - accuracy: 0.8182 - precision: 0.6563 - recall: 0.5693\n",
            "Epoch 34/50\n",
            "170/170 [==============================] - 0s 2ms/step - loss: 0.3863 - accuracy: 0.8266 - precision: 0.6652 - recall: 0.5828\n",
            "Epoch 35/50\n",
            "170/170 [==============================] - 0s 1ms/step - loss: 0.3983 - accuracy: 0.8195 - precision: 0.6673 - recall: 0.5785\n",
            "Epoch 36/50\n",
            "170/170 [==============================] - 0s 1ms/step - loss: 0.4019 - accuracy: 0.8169 - precision: 0.6544 - recall: 0.5671\n",
            "Epoch 37/50\n",
            "170/170 [==============================] - 0s 1ms/step - loss: 0.3972 - accuracy: 0.8190 - precision: 0.6485 - recall: 0.5748\n",
            "Epoch 38/50\n",
            "170/170 [==============================] - 0s 1ms/step - loss: 0.4002 - accuracy: 0.8163 - precision: 0.6658 - recall: 0.5710\n",
            "Epoch 39/50\n",
            "170/170 [==============================] - 0s 1ms/step - loss: 0.3976 - accuracy: 0.8183 - precision: 0.6582 - recall: 0.5704\n",
            "Epoch 40/50\n",
            "170/170 [==============================] - 0s 2ms/step - loss: 0.4003 - accuracy: 0.8190 - precision: 0.6672 - recall: 0.5847\n",
            "Epoch 41/50\n",
            "170/170 [==============================] - 0s 1ms/step - loss: 0.3906 - accuracy: 0.8223 - precision: 0.6612 - recall: 0.5809\n",
            "Epoch 42/50\n",
            "170/170 [==============================] - 0s 1ms/step - loss: 0.3970 - accuracy: 0.8194 - precision: 0.6589 - recall: 0.5687\n",
            "Epoch 43/50\n",
            "170/170 [==============================] - 0s 1ms/step - loss: 0.3901 - accuracy: 0.8236 - precision: 0.6627 - recall: 0.5687\n",
            "Epoch 44/50\n",
            "170/170 [==============================] - 0s 1ms/step - loss: 0.3958 - accuracy: 0.8193 - precision: 0.6568 - recall: 0.5778\n",
            "Epoch 45/50\n",
            "170/170 [==============================] - 0s 1ms/step - loss: 0.3988 - accuracy: 0.8186 - precision: 0.6577 - recall: 0.5667\n",
            "Epoch 46/50\n",
            "170/170 [==============================] - 0s 2ms/step - loss: 0.3972 - accuracy: 0.8191 - precision: 0.6630 - recall: 0.5644\n",
            "Epoch 47/50\n",
            "170/170 [==============================] - 0s 2ms/step - loss: 0.3982 - accuracy: 0.8180 - precision: 0.6638 - recall: 0.5701\n",
            "Epoch 48/50\n",
            "170/170 [==============================] - 0s 1ms/step - loss: 0.4006 - accuracy: 0.8182 - precision: 0.6549 - recall: 0.5739\n",
            "Epoch 49/50\n",
            "170/170 [==============================] - 0s 2ms/step - loss: 0.4009 - accuracy: 0.8184 - precision: 0.6484 - recall: 0.5722\n",
            "Epoch 50/50\n",
            "170/170 [==============================] - 0s 1ms/step - loss: 0.3984 - accuracy: 0.8195 - precision: 0.6581 - recall: 0.5849\n"
          ],
          "name": "stdout"
        },
        {
          "output_type": "display_data",
          "data": {
            "image/png": "[encoded data removed]",
            "text/plain": [
              "<Figure size 432x288 with 1 Axes>"
            ]
          },
          "metadata": {
            "tags": [],
            "needs_background": "light"
          }
        }
      ]
    },
    {
      "cell_type": "code",
      "metadata": {
        "colab": {
          "base_uri": "https://localhost:8080/",
          "height": 1000
        },
        "id": "SCl9I6b_LUiO",
        "outputId": "b1d789c0-89fd-4bdc-f362-978d4128e235"
      },
      "source": [
        "#@title Double-click to view the solution for Task 5.\r\n",
        "\r\n",
        "# The following variables are the hyperparameters.\r\n",
        "learning_rate = 0.001\r\n",
        "epochs = 20\r\n",
        "batch_size = 100\r\n",
        "label_name = \"median_house_value_is_high\"\r\n",
        "\r\n",
        "# AUC is a reasonable \"summary\" metric for \r\n",
        "# classification models.\r\n",
        "# Here is the updated definition of METRICS to \r\n",
        "# measure AUC:\r\n",
        "METRICS = [\r\n",
        "      tf.keras.metrics.AUC(num_thresholds=100, name='auc'),\r\n",
        "]\r\n",
        "\r\n",
        "# Establish the model's topography.\r\n",
        "my_model = create_model(learning_rate, feature_layer, METRICS)\r\n",
        "\r\n",
        "# Train the model on the training set.\r\n",
        "epochs, hist = train_model(my_model, train_df_norm, epochs, \r\n",
        "                           label_name, batch_size)\r\n",
        "\r\n",
        "# Plot metrics vs. epochs\r\n",
        "list_of_metrics_to_plot = ['auc'] \r\n",
        "plot_curve(epochs, hist, list_of_metrics_to_plot)"
      ],
      "execution_count": 38,
      "outputs": [
        {
          "output_type": "stream",
          "text": [
            "Epoch 1/20\n",
            "WARNING:tensorflow:Layers in a Sequential model should only have a single input tensor, but we receive a <class 'dict'> input: {'longitude': <tf.Tensor 'ExpandDims_3:0' shape=(100, 1) dtype=float32>, 'latitude': <tf.Tensor 'ExpandDims_2:0' shape=(100, 1) dtype=float32>, 'housing_median_age': <tf.Tensor 'ExpandDims_1:0' shape=(100, 1) dtype=float32>, 'total_rooms': <tf.Tensor 'ExpandDims_8:0' shape=(100, 1) dtype=float32>, 'total_bedrooms': <tf.Tensor 'ExpandDims_7:0' shape=(100, 1) dtype=float32>, 'population': <tf.Tensor 'ExpandDims_6:0' shape=(100, 1) dtype=float32>, 'households': <tf.Tensor 'ExpandDims:0' shape=(100, 1) dtype=float32>, 'median_income': <tf.Tensor 'ExpandDims_5:0' shape=(100, 1) dtype=float32>, 'median_house_value': <tf.Tensor 'ExpandDims_4:0' shape=(100, 1) dtype=float32>}\n",
            "Consider rewriting this model with the Functional API.\n",
            "WARNING:tensorflow:Layers in a Sequential model should only have a single input tensor, but we receive a <class 'dict'> input: {'longitude': <tf.Tensor 'ExpandDims_3:0' shape=(100, 1) dtype=float32>, 'latitude': <tf.Tensor 'ExpandDims_2:0' shape=(100, 1) dtype=float32>, 'housing_median_age': <tf.Tensor 'ExpandDims_1:0' shape=(100, 1) dtype=float32>, 'total_rooms': <tf.Tensor 'ExpandDims_8:0' shape=(100, 1) dtype=float32>, 'total_bedrooms': <tf.Tensor 'ExpandDims_7:0' shape=(100, 1) dtype=float32>, 'population': <tf.Tensor 'ExpandDims_6:0' shape=(100, 1) dtype=float32>, 'households': <tf.Tensor 'ExpandDims:0' shape=(100, 1) dtype=float32>, 'median_income': <tf.Tensor 'ExpandDims_5:0' shape=(100, 1) dtype=float32>, 'median_house_value': <tf.Tensor 'ExpandDims_4:0' shape=(100, 1) dtype=float32>}\n",
            "Consider rewriting this model with the Functional API.\n",
            "170/170 [==============================] - 1s 2ms/step - loss: 0.8095 - auc: 0.2620\n",
            "Epoch 2/20\n",
            "170/170 [==============================] - 0s 2ms/step - loss: 0.7009 - auc: 0.3309\n",
            "Epoch 3/20\n",
            "170/170 [==============================] - 0s 1ms/step - loss: 0.6133 - auc: 0.6058\n",
            "Epoch 4/20\n",
            "170/170 [==============================] - 0s 2ms/step - loss: 0.5455 - auc: 0.8015\n",
            "Epoch 5/20\n",
            "170/170 [==============================] - 0s 2ms/step - loss: 0.4990 - auc: 0.8370\n",
            "Epoch 6/20\n",
            "170/170 [==============================] - 0s 2ms/step - loss: 0.4574 - auc: 0.8386\n",
            "Epoch 7/20\n",
            "170/170 [==============================] - 0s 1ms/step - loss: 0.4417 - auc: 0.8332\n",
            "Epoch 8/20\n",
            "170/170 [==============================] - 0s 2ms/step - loss: 0.4235 - auc: 0.8368\n",
            "Epoch 9/20\n",
            "170/170 [==============================] - 0s 2ms/step - loss: 0.4156 - auc: 0.8348\n",
            "Epoch 10/20\n",
            "170/170 [==============================] - 0s 1ms/step - loss: 0.4168 - auc: 0.8283\n",
            "Epoch 11/20\n",
            "170/170 [==============================] - 0s 1ms/step - loss: 0.4012 - auc: 0.8363\n",
            "Epoch 12/20\n",
            "170/170 [==============================] - 0s 2ms/step - loss: 0.4014 - auc: 0.8338\n",
            "Epoch 13/20\n",
            "170/170 [==============================] - 0s 2ms/step - loss: 0.4014 - auc: 0.8366\n",
            "Epoch 14/20\n",
            "170/170 [==============================] - 0s 2ms/step - loss: 0.4014 - auc: 0.8336\n",
            "Epoch 15/20\n",
            "170/170 [==============================] - 0s 1ms/step - loss: 0.3932 - auc: 0.8405\n",
            "Epoch 16/20\n",
            "170/170 [==============================] - 0s 2ms/step - loss: 0.4022 - auc: 0.8328\n",
            "Epoch 17/20\n",
            "170/170 [==============================] - 0s 2ms/step - loss: 0.3978 - auc: 0.8340\n",
            "Epoch 18/20\n",
            "170/170 [==============================] - 0s 1ms/step - loss: 0.3947 - auc: 0.8372\n",
            "Epoch 19/20\n",
            "170/170 [==============================] - 0s 2ms/step - loss: 0.3937 - auc: 0.8362\n",
            "Epoch 20/20\n",
            "170/170 [==============================] - 0s 2ms/step - loss: 0.4040 - auc: 0.8328\n"
          ],
          "name": "stdout"
        },
        {
          "output_type": "display_data",
          "data": {
            "image/png": "[encoded data removed]",
            "text/plain": [
              "<Figure size 432x288 with 1 Axes>"
            ]
          },
          "metadata": {
            "tags": [],
            "needs_background": "light"
          }
        }
      ]
    },
    {
      "cell_type": "code",
      "metadata": {
        "colab": {
          "base_uri": "https://localhost:8080/"
        },
        "id": "X1CsePpoLVPn",
        "outputId": "76ea7d7d-d22f-4c75-c28d-1505c645dd90"
      },
      "source": [
        "features = {name:np.array(value) for name, value in test_df_norm.items()}\r\n",
        "label = np.array(features.pop(label_name))\r\n",
        "\r\n",
        "my_model.evaluate(x = features, y = label, batch_size=batch_size)"
      ],
      "execution_count": 39,
      "outputs": [
        {
          "output_type": "stream",
          "text": [
            "WARNING:tensorflow:Layers in a Sequential model should only have a single input tensor, but we receive a <class 'dict'> input: {'longitude': <tf.Tensor 'ExpandDims_3:0' shape=(100, 1) dtype=float32>, 'latitude': <tf.Tensor 'ExpandDims_2:0' shape=(100, 1) dtype=float32>, 'housing_median_age': <tf.Tensor 'ExpandDims_1:0' shape=(100, 1) dtype=float32>, 'total_rooms': <tf.Tensor 'ExpandDims_8:0' shape=(100, 1) dtype=float32>, 'total_bedrooms': <tf.Tensor 'ExpandDims_7:0' shape=(100, 1) dtype=float32>, 'population': <tf.Tensor 'ExpandDims_6:0' shape=(100, 1) dtype=float32>, 'households': <tf.Tensor 'ExpandDims:0' shape=(100, 1) dtype=float32>, 'median_income': <tf.Tensor 'ExpandDims_5:0' shape=(100, 1) dtype=float32>, 'median_house_value': <tf.Tensor 'ExpandDims_4:0' shape=(100, 1) dtype=float32>}\n",
            "Consider rewriting this model with the Functional API.\n",
            "30/30 [==============================] - 0s 1ms/step - loss: 0.4068 - auc: 0.8261\n"
          ],
          "name": "stdout"
        },
        {
          "output_type": "execute_result",
          "data": {
            "text/plain": [
              "[0.40681660175323486, 0.8260818719863892]"
            ]
          },
          "metadata": {
            "tags": []
          },
          "execution_count": 39
        }
      ]
    }
  ]
}