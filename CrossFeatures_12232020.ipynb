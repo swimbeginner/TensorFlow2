{
  "nbformat": 4,
  "nbformat_minor": 0,
  "metadata": {
    "colab": {
      "name": "CrossFeatures_12232020.ipynb",
      "provenance": [],
      "authorship_tag": "ABX9TyMpIWt8WWDGD1C8h0vYIEnu",
      "include_colab_link": true
    },
    "kernelspec": {
      "name": "python3",
      "display_name": "Python 3"
    }
  },
  "cells": [
    {
      "cell_type": "markdown",
      "metadata": {
        "id": "view-in-github",
        "colab_type": "text"
      },
      "source": [
        "<a href=\"https://colab.research.google.com/github/swimbeginner/TensorFlow2/blob/main/CrossFeatures_12232020.ipynb\" target=\"_parent\"><img src=\"https://colab.research.google.com/assets/colab-badge.svg\" alt=\"Open In Colab\"/></a>"
      ]
    },
    {
      "cell_type": "code",
      "metadata": {
        "id": "49bwB3pKQ1fp"
      },
      "source": [
        ""
      ],
      "execution_count": null,
      "outputs": []
    },
    {
      "cell_type": "markdown",
      "metadata": {
        "id": "I6AZ92fYItBH"
      },
      "source": [
        "#Representation with a Feature cross\r\n",
        "from google crash course"
      ]
    },
    {
      "cell_type": "markdown",
      "metadata": {
        "id": "3MZenOWmM8YL"
      },
      "source": [
        "## Learning Objectives:\r\n",
        "\r\n",
        "After doing this Colab, you'll know how to:\r\n",
        "\r\n",
        "  * Use [`tf.feature_column`](https://www.tensorflow.org/api_docs/python/tf/feature_column) methods to represent features in different ways.\r\n",
        "  * Represent features as [bins](https://developers.google.com/machine-learning/glossary/#bucketing). \r\n",
        "  * Cross bins to create a [feature cross](https://developers.google.com/machine-learning/glossary/#feature_cross). "
      ]
    },
    {
      "cell_type": "markdown",
      "metadata": {
        "id": "_iFuflp5NHsH"
      },
      "source": [
        "California housing dataset"
      ]
    },
    {
      "cell_type": "code",
      "metadata": {
        "id": "aVk9YGSrNSPm"
      },
      "source": [
        "%tensorflow_version 2.x"
      ],
      "execution_count": 1,
      "outputs": []
    },
    {
      "cell_type": "code",
      "metadata": {
        "colab": {
          "base_uri": "https://localhost:8080/"
        },
        "id": "hehEQY02NUPe",
        "outputId": "0e893d16-fc14-4560-810a-ab6cad484f00"
      },
      "source": [
        "import numpy as np\r\n",
        "import pandas as pd\r\n",
        "import tensorflow as tf\r\n",
        "from tensorflow import feature_column\r\n",
        "from tensorflow.keras import layers\r\n",
        "\r\n",
        "from matplotlib import pyplot as plt\r\n",
        "pd.options.display.max_rows=10\r\n",
        "pd.options.display.float_format=\"{:.1f}\".format\r\n",
        "\r\n",
        "\r\n",
        "tf.keras.backend.set_floatx('float32')\r\n",
        "print(\"imported the modules\")\r\n"
      ],
      "execution_count": 2,
      "outputs": [
        {
          "output_type": "stream",
          "text": [
            "imported the modules\n"
          ],
          "name": "stdout"
        }
      ]
    },
    {
      "cell_type": "code",
      "metadata": {
        "colab": {
          "base_uri": "https://localhost:8080/"
        },
        "id": "9o9e1b87dW_w",
        "outputId": "4dcf5475-d680-4917-e10f-5dc34ed52660"
      },
      "source": [
        "#check the format for float numbers in pandas \r\n",
        "a=pd.DataFrame(np.array([[1.22, 2.22],[3.33, 4.44]]), columns=['a','b'])\r\n",
        "print(a)"
      ],
      "execution_count": null,
      "outputs": [
        {
          "output_type": "stream",
          "text": [
            "    a   b\n",
            "0 1.2 2.2\n",
            "1 3.3 4.4\n"
          ],
          "name": "stdout"
        }
      ]
    },
    {
      "cell_type": "code",
      "metadata": {
        "id": "bNRSRlxYfVsW"
      },
      "source": [
        "# Load the dataset\r\n",
        "train_df = pd.read_csv(\"https://download.mlcc.google.com/mledu-datasets/california_housing_train.csv\")\r\n",
        "test_df = pd.read_csv(\"https://download.mlcc.google.com/mledu-datasets/california_housing_test.csv\")\r\n",
        "\r\n",
        "# Scale the labels\r\n",
        "scale_factor = 1000.0\r\n",
        "# Scale the training set's label.\r\n",
        "train_df[\"median_house_value\"] /= scale_factor \r\n",
        "\r\n",
        "# Scale the test set's label\r\n",
        "test_df[\"median_house_value\"] /= scale_factor\r\n",
        "\r\n",
        "# Shuffle the examples\r\n",
        "train_df = train_df.reindex(np.random.permutation(train_df.index))"
      ],
      "execution_count": 3,
      "outputs": []
    },
    {
      "cell_type": "code",
      "metadata": {
        "colab": {
          "base_uri": "https://localhost:8080/"
        },
        "id": "gUi_AhPIIUGp",
        "outputId": "73fb145f-ddd4-4baa-dbb0-09f9a0999bc0"
      },
      "source": [
        "train_df.head(5)\r\n",
        "features = {name:np.array(value) for name, value in train_df.items()}\r\n",
        "print(train_df.items())"
      ],
      "execution_count": 4,
      "outputs": [
        {
          "output_type": "stream",
          "text": [
            "<generator object DataFrame.items at 0x7f1a56d944c0>\n"
          ],
          "name": "stdout"
        }
      ]
    },
    {
      "cell_type": "code",
      "metadata": {
        "colab": {
          "base_uri": "https://localhost:8080/"
        },
        "id": "0Jl91yNhJQoI",
        "outputId": "53fcbef6-8723-4e4e-a867-2ce9322a733d"
      },
      "source": [
        "DataFrame.item?"
      ],
      "execution_count": null,
      "outputs": [
        {
          "output_type": "stream",
          "text": [
            "Object `DataFrame.item` not found.\n"
          ],
          "name": "stdout"
        }
      ]
    },
    {
      "cell_type": "markdown",
      "metadata": {
        "id": "YWXbbF3XWkS-"
      },
      "source": [
        "#Train model with multiple features."
      ]
    },
    {
      "cell_type": "code",
      "metadata": {
        "id": "eLbEFJgXWSY9"
      },
      "source": [
        "# Create an empty list that will eventually hold all feature columns.\r\n",
        "feature_columns = []\r\n",
        "# Create a numerical feature column to represent latitude.\r\n",
        "latitude = tf.feature_column.numeric_column(\"latitude\")\r\n",
        "feature_columns.append(latitude)\r\n",
        "\r\n",
        "# Create a numerical feature column to represent longitude.\r\n",
        "longitude = tf.feature_column.numeric_column(\"longitude\")\r\n",
        "feature_columns.append(longitude)\r\n",
        "\r\n",
        "# Convert the list of feature columns into a layer that will ultimately become\r\n",
        "# part of the model. Understanding layers is not important right now.\r\n",
        "fp_feature_layer = layers.DenseFeatures(feature_columns)"
      ],
      "execution_count": 5,
      "outputs": []
    },
    {
      "cell_type": "code",
      "metadata": {
        "colab": {
          "base_uri": "https://localhost:8080/"
        },
        "id": "KKERZoW3fvjN",
        "outputId": "2fe98132-ccd8-429d-ca62-8e920f63eb18"
      },
      "source": [
        "print(type(latitude))\r\n",
        "print(latitude)"
      ],
      "execution_count": 6,
      "outputs": [
        {
          "output_type": "stream",
          "text": [
            "<class 'tensorflow.python.feature_column.feature_column_v2.NumericColumn'>\n",
            "NumericColumn(key='latitude', shape=(1,), default_value=None, dtype=tf.float32, normalizer_fn=None)\n"
          ],
          "name": "stdout"
        }
      ]
    },
    {
      "cell_type": "code",
      "metadata": {
        "colab": {
          "base_uri": "https://localhost:8080/"
        },
        "id": "4SS5jmdd07uZ",
        "outputId": "bc7faaca-61e5-44f9-b2aa-9721513983aa"
      },
      "source": [
        "def create_model(my_learning_rate, feature_layer):\r\n",
        "  model=tf.keras.models.Sequential()\r\n",
        "  model.add(feature_layer)\r\n",
        "  model.add(tf.keras.layers.Dense(units=1, input_shape=(1,)))\r\n",
        "  model.compile(optimizer=tf.keras.optimizers.RMSprop(lr=my_learning_rate), loss=\"mean_squared_error\", metrics=[tf.keras.metrics.RootMeanSquaredError()])\r\n",
        "  return model\r\n",
        "\r\n",
        "def train_model(model, dataset, epochs, batch_size, label_name):\r\n",
        "  features = {name:np.array(value) for name, value in dataset.items()}\r\n",
        "  label = np.array(features.pop(label_name))\r\n",
        "  history = model.fit(x=features, y=label, batch_size=batch_size,\r\n",
        "                      epochs=epochs, shuffle=True)\r\n",
        "\r\n",
        "  # The list of epochs is stored separately from the rest of history.\r\n",
        "  epochs = history.epoch\r\n",
        "  \r\n",
        "  # Isolate the mean absolute error for each epoch.\r\n",
        "  hist = pd.DataFrame(history.history)\r\n",
        "  rmse = hist[\"root_mean_squared_error\"]\r\n",
        "\r\n",
        "  return epochs, rmse   \r\n",
        "\r\n",
        "\r\n",
        "def plot_the_loss_curve(epochs, rmse):\r\n",
        "  \"\"\"Plot a curve of loss vs. epoch.\"\"\"\r\n",
        "\r\n",
        "  plt.figure()\r\n",
        "  plt.xlabel(\"Epoch\")\r\n",
        "  plt.ylabel(\"Root Mean Squared Error\")\r\n",
        "\r\n",
        "  plt.plot(epochs, rmse, label=\"Loss\")\r\n",
        "  plt.legend()\r\n",
        "  plt.ylim([rmse.min()*0.94, rmse.max()* 1.05])\r\n",
        "  plt.show()  \r\n",
        "\r\n",
        "print(\"Defined the create_model, train_model, and plot_the_loss_curve functions.\")"
      ],
      "execution_count": 7,
      "outputs": [
        {
          "output_type": "stream",
          "text": [
            "Defined the create_model, train_model, and plot_the_loss_curve functions.\n"
          ],
          "name": "stdout"
        }
      ]
    },
    {
      "cell_type": "code",
      "metadata": {
        "colab": {
          "base_uri": "https://localhost:8080/",
          "height": 1000
        },
        "id": "uhPL5zzWLR8I",
        "outputId": "572cf9af-f750-493a-8d8d-19ad92877154"
      },
      "source": [
        "# The following variables are the hyperparameters.\r\n",
        "learning_rate = 0.05\r\n",
        "epochs = 30\r\n",
        "batch_size = 100\r\n",
        "label_name = 'median_house_value'\r\n",
        "\r\n",
        "# Create and compile the model's topography.\r\n",
        "my_model = create_model(learning_rate, fp_feature_layer)\r\n",
        "\r\n",
        "# Train the model on the training set.\r\n",
        "epochs, rmse = train_model(my_model, train_df, epochs, batch_size, label_name)\r\n",
        "\r\n",
        "plot_the_loss_curve(epochs, rmse)\r\n",
        "\r\n",
        "print(\"\\n: Evaluate the new model against the test set:\")\r\n",
        "test_features = {name:np.array(value) for name, value in test_df.items()}\r\n",
        "test_label = np.array(test_features.pop(label_name))\r\n",
        "my_model.evaluate(x=test_features, y=test_label, batch_size=batch_size)"
      ],
      "execution_count": 8,
      "outputs": [
        {
          "output_type": "stream",
          "text": [
            "Epoch 1/30\n",
            "WARNING:tensorflow:Layers in a Sequential model should only have a single input tensor, but we receive a <class 'dict'> input: {'longitude': <tf.Tensor 'ExpandDims_3:0' shape=(100, 1) dtype=float32>, 'latitude': <tf.Tensor 'ExpandDims_2:0' shape=(100, 1) dtype=float32>, 'housing_median_age': <tf.Tensor 'ExpandDims_1:0' shape=(100, 1) dtype=float32>, 'total_rooms': <tf.Tensor 'ExpandDims_7:0' shape=(100, 1) dtype=float32>, 'total_bedrooms': <tf.Tensor 'ExpandDims_6:0' shape=(100, 1) dtype=float32>, 'population': <tf.Tensor 'ExpandDims_5:0' shape=(100, 1) dtype=float32>, 'households': <tf.Tensor 'ExpandDims:0' shape=(100, 1) dtype=float32>, 'median_income': <tf.Tensor 'ExpandDims_4:0' shape=(100, 1) dtype=float32>}\n",
            "Consider rewriting this model with the Functional API.\n",
            "WARNING:tensorflow:Layers in a Sequential model should only have a single input tensor, but we receive a <class 'dict'> input: {'longitude': <tf.Tensor 'ExpandDims_3:0' shape=(100, 1) dtype=float32>, 'latitude': <tf.Tensor 'ExpandDims_2:0' shape=(100, 1) dtype=float32>, 'housing_median_age': <tf.Tensor 'ExpandDims_1:0' shape=(100, 1) dtype=float32>, 'total_rooms': <tf.Tensor 'ExpandDims_7:0' shape=(100, 1) dtype=float32>, 'total_bedrooms': <tf.Tensor 'ExpandDims_6:0' shape=(100, 1) dtype=float32>, 'population': <tf.Tensor 'ExpandDims_5:0' shape=(100, 1) dtype=float32>, 'households': <tf.Tensor 'ExpandDims:0' shape=(100, 1) dtype=float32>, 'median_income': <tf.Tensor 'ExpandDims_4:0' shape=(100, 1) dtype=float32>}\n",
            "Consider rewriting this model with the Functional API.\n",
            "170/170 [==============================] - 1s 1ms/step - loss: 13882.8324 - root_mean_squared_error: 117.7468\n",
            "Epoch 2/30\n",
            "170/170 [==============================] - 0s 1ms/step - loss: 13542.3668 - root_mean_squared_error: 116.3676\n",
            "Epoch 3/30\n",
            "170/170 [==============================] - 0s 1ms/step - loss: 13600.1582 - root_mean_squared_error: 116.6077\n",
            "Epoch 4/30\n",
            "170/170 [==============================] - 0s 1ms/step - loss: 13548.8878 - root_mean_squared_error: 116.3967\n",
            "Epoch 5/30\n",
            "170/170 [==============================] - 0s 1ms/step - loss: 13218.1925 - root_mean_squared_error: 114.9669\n",
            "Epoch 6/30\n",
            "170/170 [==============================] - 0s 1ms/step - loss: 13138.6681 - root_mean_squared_error: 114.6134\n",
            "Epoch 7/30\n",
            "170/170 [==============================] - 0s 1ms/step - loss: 13377.7514 - root_mean_squared_error: 115.6547\n",
            "Epoch 8/30\n",
            "170/170 [==============================] - 0s 1ms/step - loss: 13185.1510 - root_mean_squared_error: 114.8043\n",
            "Epoch 9/30\n",
            "170/170 [==============================] - 0s 1ms/step - loss: 13132.9132 - root_mean_squared_error: 114.5902\n",
            "Epoch 10/30\n",
            "170/170 [==============================] - 0s 1ms/step - loss: 13170.4003 - root_mean_squared_error: 114.7562\n",
            "Epoch 11/30\n",
            "170/170 [==============================] - 0s 1ms/step - loss: 13273.2777 - root_mean_squared_error: 115.2052\n",
            "Epoch 12/30\n",
            "170/170 [==============================] - 0s 1ms/step - loss: 13351.1840 - root_mean_squared_error: 115.5211\n",
            "Epoch 13/30\n",
            "170/170 [==============================] - 0s 1ms/step - loss: 13075.0293 - root_mean_squared_error: 114.3418\n",
            "Epoch 14/30\n",
            "170/170 [==============================] - 0s 1ms/step - loss: 12866.8257 - root_mean_squared_error: 113.4136\n",
            "Epoch 15/30\n",
            "170/170 [==============================] - 0s 1ms/step - loss: 12829.0322 - root_mean_squared_error: 113.2484\n",
            "Epoch 16/30\n",
            "170/170 [==============================] - 0s 1ms/step - loss: 13025.0961 - root_mean_squared_error: 114.1181\n",
            "Epoch 17/30\n",
            "170/170 [==============================] - 0s 1ms/step - loss: 12706.2083 - root_mean_squared_error: 112.7160\n",
            "Epoch 18/30\n",
            "170/170 [==============================] - 0s 1ms/step - loss: 12632.7822 - root_mean_squared_error: 112.3902\n",
            "Epoch 19/30\n",
            "170/170 [==============================] - 0s 1ms/step - loss: 13238.5691 - root_mean_squared_error: 115.0440\n",
            "Epoch 20/30\n",
            "170/170 [==============================] - 0s 1ms/step - loss: 12976.0098 - root_mean_squared_error: 113.9086\n",
            "Epoch 21/30\n",
            "170/170 [==============================] - 0s 1ms/step - loss: 12969.4113 - root_mean_squared_error: 113.8798\n",
            "Epoch 22/30\n",
            "170/170 [==============================] - 0s 1ms/step - loss: 12841.8800 - root_mean_squared_error: 113.3141\n",
            "Epoch 23/30\n",
            "170/170 [==============================] - 0s 1ms/step - loss: 12749.1611 - root_mean_squared_error: 112.9049\n",
            "Epoch 24/30\n",
            "170/170 [==============================] - 0s 1ms/step - loss: 13179.0523 - root_mean_squared_error: 114.7922\n",
            "Epoch 25/30\n",
            "170/170 [==============================] - 0s 1ms/step - loss: 13174.7738 - root_mean_squared_error: 114.7734\n",
            "Epoch 26/30\n",
            "170/170 [==============================] - 0s 1ms/step - loss: 13033.1022 - root_mean_squared_error: 114.1578\n",
            "Epoch 27/30\n",
            "170/170 [==============================] - 0s 1ms/step - loss: 12736.3670 - root_mean_squared_error: 112.8473\n",
            "Epoch 28/30\n",
            "170/170 [==============================] - 0s 1ms/step - loss: 12771.8369 - root_mean_squared_error: 113.0068\n",
            "Epoch 29/30\n",
            "170/170 [==============================] - 0s 1ms/step - loss: 12668.3028 - root_mean_squared_error: 112.5502\n",
            "Epoch 30/30\n",
            "170/170 [==============================] - 0s 1ms/step - loss: 12566.2130 - root_mean_squared_error: 112.0936\n"
          ],
          "name": "stdout"
        },
        {
          "output_type": "display_data",
          "data": {
            "image/png": "[encoded data removed]",
            "text/plain": [
              "<Figure size 432x288 with 1 Axes>"
            ]
          },
          "metadata": {
            "tags": [],
            "needs_background": "light"
          }
        },
        {
          "output_type": "stream",
          "text": [
            "\n",
            ": Evaluate the new model against the test set:\n",
            "WARNING:tensorflow:Layers in a Sequential model should only have a single input tensor, but we receive a <class 'dict'> input: {'longitude': <tf.Tensor 'ExpandDims_3:0' shape=(100, 1) dtype=float32>, 'latitude': <tf.Tensor 'ExpandDims_2:0' shape=(100, 1) dtype=float32>, 'housing_median_age': <tf.Tensor 'ExpandDims_1:0' shape=(100, 1) dtype=float32>, 'total_rooms': <tf.Tensor 'ExpandDims_7:0' shape=(100, 1) dtype=float32>, 'total_bedrooms': <tf.Tensor 'ExpandDims_6:0' shape=(100, 1) dtype=float32>, 'population': <tf.Tensor 'ExpandDims_5:0' shape=(100, 1) dtype=float32>, 'households': <tf.Tensor 'ExpandDims:0' shape=(100, 1) dtype=float32>, 'median_income': <tf.Tensor 'ExpandDims_4:0' shape=(100, 1) dtype=float32>}\n",
            "Consider rewriting this model with the Functional API.\n",
            "30/30 [==============================] - 0s 1ms/step - loss: 12215.3027 - root_mean_squared_error: 110.5229\n"
          ],
          "name": "stdout"
        },
        {
          "output_type": "execute_result",
          "data": {
            "text/plain": [
              "[12215.302734375, 110.52285766601562]"
            ]
          },
          "metadata": {
            "tags": []
          },
          "execution_count": 8
        }
      ]
    },
    {
      "cell_type": "markdown",
      "metadata": {
        "id": "iT7QHhJOL2X9"
      },
      "source": [
        "## Represent latitude and longitude in buckets\r\n",
        "\r\n",
        "The following code cell represents latitude and longitude in buckets (bins). Each bin represents all the neighborhoods within a single degree. For example,\r\n",
        "neighborhoods at latitude 35.4 and 35.8 are in the same bucket, but neighborhoods in latitude 35.4 and 36.2 are in different buckets. \r\n",
        "\r\n",
        "The model will learn a separate weight for each bucket. For example, the model will learn one weight for all the neighborhoods in the \"35\" bin\", a different weight for neighborhoods in the \"36\" bin, and so on. This representation will create approximately 20 buckets:\r\n",
        " \r\n",
        "  * 10 buckets for `latitude`. \r\n",
        "  * 10 buckets for `longitude`. "
      ]
    },
    {
      "cell_type": "code",
      "metadata": {
        "id": "EU_zpXV6L52M"
      },
      "source": [
        "resolution_in_degrees = 1.0 \r\n",
        "\r\n",
        "# Create a new empty list that will eventually hold the generated feature column.\r\n",
        "feature_columns = []\r\n",
        "\r\n",
        "# Create a bucket feature column for latitude.\r\n",
        "latitude_as_a_numeric_column = tf.feature_column.numeric_column(\"latitude\")\r\n",
        "latitude_boundaries = list(np.arange(int(min(train_df['latitude'])), \r\n",
        "                                     int(max(train_df['latitude'])), \r\n",
        "                                     resolution_in_degrees))\r\n",
        "latitude = tf.feature_column.bucketized_column(latitude_as_a_numeric_column, \r\n",
        "                                               latitude_boundaries)\r\n",
        "feature_columns.append(latitude)\r\n",
        "\r\n",
        "# Create a bucket feature column for longitude.\r\n",
        "longitude_as_a_numeric_column = tf.feature_column.numeric_column(\"longitude\")\r\n",
        "longitude_boundaries = list(np.arange(int(min(train_df['longitude'])), \r\n",
        "                                      int(max(train_df['longitude'])), \r\n",
        "                                      resolution_in_degrees))\r\n",
        "longitude = tf.feature_column.bucketized_column(longitude_as_a_numeric_column, \r\n",
        "                                                longitude_boundaries)\r\n",
        "feature_columns.append(longitude)\r\n",
        "\r\n",
        "# Convert the list of feature columns into a layer that will ultimately become\r\n",
        "# part of the model. Understanding layers is not important right now.\r\n",
        "buckets_feature_layer = layers.DenseFeatures(feature_columns)"
      ],
      "execution_count": 9,
      "outputs": []
    },
    {
      "cell_type": "code",
      "metadata": {
        "colab": {
          "base_uri": "https://localhost:8080/"
        },
        "id": "aMtMNRstMI7b",
        "outputId": "fe9aaa11-0a45-430c-de03-71a2ad657e32"
      },
      "source": [
        "print(latitude_boundaries, longitude_boundaries)"
      ],
      "execution_count": null,
      "outputs": [
        {
          "output_type": "stream",
          "text": [
            "[32.0, 33.0, 34.0, 35.0, 36.0, 37.0, 38.0, 39.0, 40.0] [-124.0, -123.0, -122.0, -121.0, -120.0, -119.0, -118.0, -117.0, -116.0, -115.0]\n"
          ],
          "name": "stdout"
        }
      ]
    },
    {
      "cell_type": "code",
      "metadata": {
        "colab": {
          "base_uri": "https://localhost:8080/",
          "height": 1000
        },
        "id": "lkE9Y2WfMdZU",
        "outputId": "30f2cda2-cce4-4e65-c56d-242b867686c1"
      },
      "source": [
        "# The following variables are the hyperparameters.\r\n",
        "learning_rate = 0.04\r\n",
        "epochs = 35\r\n",
        "\r\n",
        "# Build the model, this time passing in the buckets_feature_layer.\r\n",
        "my_model = create_model(learning_rate, buckets_feature_layer)\r\n",
        "\r\n",
        "# Train the model on the training set.\r\n",
        "epochs, rmse = train_model(my_model, train_df, epochs, batch_size, label_name)\r\n",
        "\r\n",
        "plot_the_loss_curve(epochs, rmse)\r\n",
        "\r\n",
        "print(\"\\n: Evaluate the new model against the test set:\")\r\n",
        "my_model.evaluate(x=test_features, y=test_label, batch_size=batch_size)"
      ],
      "execution_count": 10,
      "outputs": [
        {
          "output_type": "stream",
          "text": [
            "Epoch 1/35\n",
            "WARNING:tensorflow:Layers in a Sequential model should only have a single input tensor, but we receive a <class 'dict'> input: {'longitude': <tf.Tensor 'ExpandDims_3:0' shape=(100, 1) dtype=float32>, 'latitude': <tf.Tensor 'ExpandDims_2:0' shape=(100, 1) dtype=float32>, 'housing_median_age': <tf.Tensor 'ExpandDims_1:0' shape=(100, 1) dtype=float32>, 'total_rooms': <tf.Tensor 'ExpandDims_7:0' shape=(100, 1) dtype=float32>, 'total_bedrooms': <tf.Tensor 'ExpandDims_6:0' shape=(100, 1) dtype=float32>, 'population': <tf.Tensor 'ExpandDims_5:0' shape=(100, 1) dtype=float32>, 'households': <tf.Tensor 'ExpandDims:0' shape=(100, 1) dtype=float32>, 'median_income': <tf.Tensor 'ExpandDims_4:0' shape=(100, 1) dtype=float32>}\n",
            "Consider rewriting this model with the Functional API.\n",
            "WARNING:tensorflow:Layers in a Sequential model should only have a single input tensor, but we receive a <class 'dict'> input: {'longitude': <tf.Tensor 'ExpandDims_3:0' shape=(100, 1) dtype=float32>, 'latitude': <tf.Tensor 'ExpandDims_2:0' shape=(100, 1) dtype=float32>, 'housing_median_age': <tf.Tensor 'ExpandDims_1:0' shape=(100, 1) dtype=float32>, 'total_rooms': <tf.Tensor 'ExpandDims_7:0' shape=(100, 1) dtype=float32>, 'total_bedrooms': <tf.Tensor 'ExpandDims_6:0' shape=(100, 1) dtype=float32>, 'population': <tf.Tensor 'ExpandDims_5:0' shape=(100, 1) dtype=float32>, 'households': <tf.Tensor 'ExpandDims:0' shape=(100, 1) dtype=float32>, 'median_income': <tf.Tensor 'ExpandDims_4:0' shape=(100, 1) dtype=float32>}\n",
            "Consider rewriting this model with the Functional API.\n",
            "170/170 [==============================] - 1s 1ms/step - loss: 53294.4889 - root_mean_squared_error: 230.8463\n",
            "Epoch 2/35\n",
            "170/170 [==============================] - 0s 1ms/step - loss: 45953.1896 - root_mean_squared_error: 214.3579\n",
            "Epoch 3/35\n",
            "170/170 [==============================] - 0s 1ms/step - loss: 39616.4437 - root_mean_squared_error: 199.0194\n",
            "Epoch 4/35\n",
            "170/170 [==============================] - 0s 1ms/step - loss: 33506.7875 - root_mean_squared_error: 183.0399\n",
            "Epoch 5/35\n",
            "170/170 [==============================] - 0s 1ms/step - loss: 28686.5870 - root_mean_squared_error: 169.3547\n",
            "Epoch 6/35\n",
            "170/170 [==============================] - 0s 1ms/step - loss: 23904.8797 - root_mean_squared_error: 154.6012\n",
            "Epoch 7/35\n",
            "170/170 [==============================] - 0s 1ms/step - loss: 20828.6124 - root_mean_squared_error: 144.2355\n",
            "Epoch 8/35\n",
            "170/170 [==============================] - 0s 1ms/step - loss: 17335.1478 - root_mean_squared_error: 131.6476\n",
            "Epoch 9/35\n",
            "170/170 [==============================] - 0s 1ms/step - loss: 15016.8952 - root_mean_squared_error: 122.5300\n",
            "Epoch 10/35\n",
            "170/170 [==============================] - 0s 1ms/step - loss: 13443.0915 - root_mean_squared_error: 115.9201\n",
            "Epoch 11/35\n",
            "170/170 [==============================] - 0s 1ms/step - loss: 12096.1247 - root_mean_squared_error: 109.9769\n",
            "Epoch 12/35\n",
            "170/170 [==============================] - 0s 1ms/step - loss: 11373.8187 - root_mean_squared_error: 106.6383\n",
            "Epoch 13/35\n",
            "170/170 [==============================] - 0s 1ms/step - loss: 11001.8516 - root_mean_squared_error: 104.8816\n",
            "Epoch 14/35\n",
            "170/170 [==============================] - 0s 1ms/step - loss: 10725.6514 - root_mean_squared_error: 103.5610\n",
            "Epoch 15/35\n",
            "170/170 [==============================] - 0s 1ms/step - loss: 10574.9805 - root_mean_squared_error: 102.8316\n",
            "Epoch 16/35\n",
            "170/170 [==============================] - 0s 1ms/step - loss: 10636.9062 - root_mean_squared_error: 103.1336\n",
            "Epoch 17/35\n",
            "170/170 [==============================] - 0s 1ms/step - loss: 10423.2475 - root_mean_squared_error: 102.0883\n",
            "Epoch 18/35\n",
            "170/170 [==============================] - 0s 1ms/step - loss: 10725.8558 - root_mean_squared_error: 103.5556\n",
            "Epoch 19/35\n",
            "170/170 [==============================] - 0s 1ms/step - loss: 10556.0920 - root_mean_squared_error: 102.7397\n",
            "Epoch 20/35\n",
            "170/170 [==============================] - 0s 1ms/step - loss: 10779.8690 - root_mean_squared_error: 103.8189\n",
            "Epoch 21/35\n",
            "170/170 [==============================] - 0s 1ms/step - loss: 10530.0017 - root_mean_squared_error: 102.6105\n",
            "Epoch 22/35\n",
            "170/170 [==============================] - 0s 1ms/step - loss: 10415.6138 - root_mean_squared_error: 102.0547\n",
            "Epoch 23/35\n",
            "170/170 [==============================] - 0s 1ms/step - loss: 10530.5915 - root_mean_squared_error: 102.6014\n",
            "Epoch 24/35\n",
            "170/170 [==============================] - 0s 1ms/step - loss: 10366.0027 - root_mean_squared_error: 101.8065\n",
            "Epoch 25/35\n",
            "170/170 [==============================] - 0s 1ms/step - loss: 10268.0177 - root_mean_squared_error: 101.3237\n",
            "Epoch 26/35\n",
            "170/170 [==============================] - 0s 1ms/step - loss: 10552.6793 - root_mean_squared_error: 102.7228\n",
            "Epoch 27/35\n",
            "170/170 [==============================] - 0s 1ms/step - loss: 10388.0710 - root_mean_squared_error: 101.9189\n",
            "Epoch 28/35\n",
            "170/170 [==============================] - 0s 1ms/step - loss: 10319.1098 - root_mean_squared_error: 101.5813\n",
            "Epoch 29/35\n",
            "170/170 [==============================] - 0s 1ms/step - loss: 10414.3457 - root_mean_squared_error: 102.0402\n",
            "Epoch 30/35\n",
            "170/170 [==============================] - 0s 1ms/step - loss: 10335.9682 - root_mean_squared_error: 101.6527\n",
            "Epoch 31/35\n",
            "170/170 [==============================] - 0s 1ms/step - loss: 10632.9332 - root_mean_squared_error: 103.1004\n",
            "Epoch 32/35\n",
            "170/170 [==============================] - 0s 1ms/step - loss: 10396.5289 - root_mean_squared_error: 101.9592\n",
            "Epoch 33/35\n",
            "170/170 [==============================] - 0s 1ms/step - loss: 10350.4643 - root_mean_squared_error: 101.7317\n",
            "Epoch 34/35\n",
            "170/170 [==============================] - 0s 1ms/step - loss: 10427.7593 - root_mean_squared_error: 102.1122\n",
            "Epoch 35/35\n",
            "170/170 [==============================] - 0s 1ms/step - loss: 10304.0118 - root_mean_squared_error: 101.5013\n"
          ],
          "name": "stdout"
        },
        {
          "output_type": "display_data",
          "data": {
            "image/png": "[encoded data removed]",
            "text/plain": [
              "<Figure size 432x288 with 1 Axes>"
            ]
          },
          "metadata": {
            "tags": [],
            "needs_background": "light"
          }
        },
        {
          "output_type": "stream",
          "text": [
            "\n",
            ": Evaluate the new model against the test set:\n",
            "WARNING:tensorflow:Layers in a Sequential model should only have a single input tensor, but we receive a <class 'dict'> input: {'longitude': <tf.Tensor 'ExpandDims_3:0' shape=(100, 1) dtype=float32>, 'latitude': <tf.Tensor 'ExpandDims_2:0' shape=(100, 1) dtype=float32>, 'housing_median_age': <tf.Tensor 'ExpandDims_1:0' shape=(100, 1) dtype=float32>, 'total_rooms': <tf.Tensor 'ExpandDims_7:0' shape=(100, 1) dtype=float32>, 'total_bedrooms': <tf.Tensor 'ExpandDims_6:0' shape=(100, 1) dtype=float32>, 'population': <tf.Tensor 'ExpandDims_5:0' shape=(100, 1) dtype=float32>, 'households': <tf.Tensor 'ExpandDims:0' shape=(100, 1) dtype=float32>, 'median_income': <tf.Tensor 'ExpandDims_4:0' shape=(100, 1) dtype=float32>}\n",
            "Consider rewriting this model with the Functional API.\n",
            "30/30 [==============================] - 0s 1ms/step - loss: 10200.0098 - root_mean_squared_error: 100.9951\n"
          ],
          "name": "stdout"
        },
        {
          "output_type": "execute_result",
          "data": {
            "text/plain": [
              "[10200.009765625, 100.9950942993164]"
            ]
          },
          "metadata": {
            "tags": []
          },
          "execution_count": 10
        }
      ]
    },
    {
      "cell_type": "markdown",
      "metadata": {
        "id": "xTyGonFAM5Xg"
      },
      "source": [
        "##Feature Crosses representation"
      ]
    },
    {
      "cell_type": "code",
      "metadata": {
        "id": "6NnsKXDHM4Nh"
      },
      "source": [
        "resolution_in_degrees = 0.5 \r\n",
        "\r\n",
        "# Create a new empty list that will eventually hold the generated feature column.\r\n",
        "feature_columns = []\r\n",
        "\r\n",
        "# Create a bucket feature column for latitude.\r\n",
        "latitude_as_a_numeric_column = tf.feature_column.numeric_column(\"latitude\")\r\n",
        "latitude_boundaries = list(np.arange(int(min(train_df['latitude'])), int(max(train_df['latitude'])), resolution_in_degrees))\r\n",
        "latitude = tf.feature_column.bucketized_column(latitude_as_a_numeric_column, latitude_boundaries)\r\n",
        "\r\n",
        "# Create a bucket feature column for longitude.\r\n",
        "longitude_as_a_numeric_column = tf.feature_column.numeric_column(\"longitude\")\r\n",
        "longitude_boundaries = list(np.arange(int(min(train_df['longitude'])), int(max(train_df['longitude'])), resolution_in_degrees))\r\n",
        "longitude = tf.feature_column.bucketized_column(longitude_as_a_numeric_column, longitude_boundaries)\r\n",
        "\r\n",
        "# Create a feature cross of latitude and longitude.\r\n",
        "latitude_x_longitude = tf.feature_column.crossed_column([latitude, longitude], hash_bucket_size=400)\r\n",
        "crossed_feature = tf.feature_column.indicator_column(latitude_x_longitude)\r\n",
        "feature_columns.append(crossed_feature)\r\n",
        "\r\n",
        "# Convert the list of feature columns into a layer that will later be fed into\r\n",
        "# the model. \r\n",
        "feature_cross_feature_layer = layers.DenseFeatures(feature_columns)"
      ],
      "execution_count": 19,
      "outputs": []
    },
    {
      "cell_type": "code",
      "metadata": {
        "colab": {
          "base_uri": "https://localhost:8080/",
          "height": 1000
        },
        "id": "v0hdCmwANAGS",
        "outputId": "9e869b88-2054-4515-cf13-8648be42fa8d"
      },
      "source": [
        "# The following variables are the hyperparameters.\r\n",
        "learning_rate = 0.04\r\n",
        "epochs = 35\r\n",
        "\r\n",
        "# Build the model, this time passing in the feature_cross_feature_layer: \r\n",
        "my_model = create_model(learning_rate, feature_cross_feature_layer)\r\n",
        "\r\n",
        "# Train the model on the training set.\r\n",
        "epochs, rmse = train_model(my_model, train_df, epochs, batch_size, label_name)\r\n",
        "\r\n",
        "plot_the_loss_curve(epochs, rmse)\r\n",
        "\r\n",
        "print(\"\\n: Evaluate the new model against the test set:\")\r\n",
        "my_model.evaluate(x=test_features, y=test_label, batch_size=batch_size)"
      ],
      "execution_count": 20,
      "outputs": [
        {
          "output_type": "stream",
          "text": [
            "Epoch 1/35\n",
            "WARNING:tensorflow:Layers in a Sequential model should only have a single input tensor, but we receive a <class 'dict'> input: {'longitude': <tf.Tensor 'ExpandDims_3:0' shape=(100, 1) dtype=float32>, 'latitude': <tf.Tensor 'ExpandDims_2:0' shape=(100, 1) dtype=float32>, 'housing_median_age': <tf.Tensor 'ExpandDims_1:0' shape=(100, 1) dtype=float32>, 'total_rooms': <tf.Tensor 'ExpandDims_7:0' shape=(100, 1) dtype=float32>, 'total_bedrooms': <tf.Tensor 'ExpandDims_6:0' shape=(100, 1) dtype=float32>, 'population': <tf.Tensor 'ExpandDims_5:0' shape=(100, 1) dtype=float32>, 'households': <tf.Tensor 'ExpandDims:0' shape=(100, 1) dtype=float32>, 'median_income': <tf.Tensor 'ExpandDims_4:0' shape=(100, 1) dtype=float32>}\n",
            "Consider rewriting this model with the Functional API.\n",
            "WARNING:tensorflow:Layers in a Sequential model should only have a single input tensor, but we receive a <class 'dict'> input: {'longitude': <tf.Tensor 'ExpandDims_3:0' shape=(100, 1) dtype=float32>, 'latitude': <tf.Tensor 'ExpandDims_2:0' shape=(100, 1) dtype=float32>, 'housing_median_age': <tf.Tensor 'ExpandDims_1:0' shape=(100, 1) dtype=float32>, 'total_rooms': <tf.Tensor 'ExpandDims_7:0' shape=(100, 1) dtype=float32>, 'total_bedrooms': <tf.Tensor 'ExpandDims_6:0' shape=(100, 1) dtype=float32>, 'population': <tf.Tensor 'ExpandDims_5:0' shape=(100, 1) dtype=float32>, 'households': <tf.Tensor 'ExpandDims:0' shape=(100, 1) dtype=float32>, 'median_income': <tf.Tensor 'ExpandDims_4:0' shape=(100, 1) dtype=float32>}\n",
            "Consider rewriting this model with the Functional API.\n",
            "170/170 [==============================] - 1s 1ms/step - loss: 55627.2220 - root_mean_squared_error: 235.8344\n",
            "Epoch 2/35\n",
            "170/170 [==============================] - 0s 1ms/step - loss: 49505.2908 - root_mean_squared_error: 222.4876\n",
            "Epoch 3/35\n",
            "170/170 [==============================] - 0s 1ms/step - loss: 45465.5322 - root_mean_squared_error: 213.2088\n",
            "Epoch 4/35\n",
            "170/170 [==============================] - 0s 1ms/step - loss: 41263.7291 - root_mean_squared_error: 203.1203\n",
            "Epoch 5/35\n",
            "170/170 [==============================] - 0s 1ms/step - loss: 37188.4589 - root_mean_squared_error: 192.8316\n",
            "Epoch 6/35\n",
            "170/170 [==============================] - 0s 1ms/step - loss: 33654.8677 - root_mean_squared_error: 183.4405\n",
            "Epoch 7/35\n",
            "170/170 [==============================] - 0s 1ms/step - loss: 30256.3394 - root_mean_squared_error: 173.9101\n",
            "Epoch 8/35\n",
            "170/170 [==============================] - 0s 1ms/step - loss: 26579.4868 - root_mean_squared_error: 163.0183\n",
            "Epoch 9/35\n",
            "170/170 [==============================] - 0s 1ms/step - loss: 23768.9470 - root_mean_squared_error: 154.1671\n",
            "Epoch 10/35\n",
            "170/170 [==============================] - 0s 2ms/step - loss: 21436.7069 - root_mean_squared_error: 146.4048\n",
            "Epoch 11/35\n",
            "170/170 [==============================] - 0s 1ms/step - loss: 19083.5711 - root_mean_squared_error: 138.1338\n",
            "Epoch 12/35\n",
            "170/170 [==============================] - 0s 1ms/step - loss: 17412.7629 - root_mean_squared_error: 131.9467\n",
            "Epoch 13/35\n",
            "170/170 [==============================] - 0s 2ms/step - loss: 15053.7590 - root_mean_squared_error: 122.6512\n",
            "Epoch 14/35\n",
            "170/170 [==============================] - 0s 2ms/step - loss: 14290.5171 - root_mean_squared_error: 119.5363\n",
            "Epoch 15/35\n",
            "170/170 [==============================] - 0s 1ms/step - loss: 12861.3509 - root_mean_squared_error: 113.4030\n",
            "Epoch 16/35\n",
            "170/170 [==============================] - 0s 1ms/step - loss: 11838.5476 - root_mean_squared_error: 108.8003\n",
            "Epoch 17/35\n",
            "170/170 [==============================] - 0s 1ms/step - loss: 10964.6904 - root_mean_squared_error: 104.7059\n",
            "Epoch 18/35\n",
            "170/170 [==============================] - 0s 1ms/step - loss: 10690.8342 - root_mean_squared_error: 103.3775\n",
            "Epoch 19/35\n",
            "170/170 [==============================] - 0s 1ms/step - loss: 10265.8490 - root_mean_squared_error: 101.2984\n",
            "Epoch 20/35\n",
            "170/170 [==============================] - 0s 1ms/step - loss: 9769.4693 - root_mean_squared_error: 98.8364\n",
            "Epoch 21/35\n",
            "170/170 [==============================] - 0s 1ms/step - loss: 9789.2316 - root_mean_squared_error: 98.9339\n",
            "Epoch 22/35\n",
            "170/170 [==============================] - 0s 1ms/step - loss: 9536.2860 - root_mean_squared_error: 97.6489\n",
            "Epoch 23/35\n",
            "170/170 [==============================] - 0s 1ms/step - loss: 9409.6399 - root_mean_squared_error: 96.9964\n",
            "Epoch 24/35\n",
            "170/170 [==============================] - 0s 1ms/step - loss: 8995.5357 - root_mean_squared_error: 94.8129\n",
            "Epoch 25/35\n",
            "170/170 [==============================] - 0s 2ms/step - loss: 9141.7350 - root_mean_squared_error: 95.6071\n",
            "Epoch 26/35\n",
            "170/170 [==============================] - 0s 1ms/step - loss: 9005.8167 - root_mean_squared_error: 94.8966\n",
            "Epoch 27/35\n",
            "170/170 [==============================] - 0s 1ms/step - loss: 8958.9042 - root_mean_squared_error: 94.6466\n",
            "Epoch 28/35\n",
            "170/170 [==============================] - 0s 1ms/step - loss: 8720.1451 - root_mean_squared_error: 93.3764\n",
            "Epoch 29/35\n",
            "170/170 [==============================] - 0s 1ms/step - loss: 8768.1421 - root_mean_squared_error: 93.6298\n",
            "Epoch 30/35\n",
            "170/170 [==============================] - 0s 2ms/step - loss: 8908.3729 - root_mean_squared_error: 94.3793\n",
            "Epoch 31/35\n",
            "170/170 [==============================] - 0s 2ms/step - loss: 8958.3821 - root_mean_squared_error: 94.6377\n",
            "Epoch 32/35\n",
            "170/170 [==============================] - 0s 1ms/step - loss: 8632.1423 - root_mean_squared_error: 92.9071\n",
            "Epoch 33/35\n",
            "170/170 [==============================] - 0s 1ms/step - loss: 8512.2979 - root_mean_squared_error: 92.2459\n",
            "Epoch 34/35\n",
            "170/170 [==============================] - 0s 1ms/step - loss: 8589.5215 - root_mean_squared_error: 92.6683\n",
            "Epoch 35/35\n",
            "170/170 [==============================] - 0s 1ms/step - loss: 8587.4496 - root_mean_squared_error: 92.6526\n"
          ],
          "name": "stdout"
        },
        {
          "output_type": "display_data",
          "data": {
            "image/png": "[encoded data removed]",
            "text/plain": [
              "<Figure size 432x288 with 1 Axes>"
            ]
          },
          "metadata": {
            "tags": [],
            "needs_background": "light"
          }
        },
        {
          "output_type": "stream",
          "text": [
            "\n",
            ": Evaluate the new model against the test set:\n",
            "WARNING:tensorflow:Layers in a Sequential model should only have a single input tensor, but we receive a <class 'dict'> input: {'longitude': <tf.Tensor 'ExpandDims_3:0' shape=(100, 1) dtype=float32>, 'latitude': <tf.Tensor 'ExpandDims_2:0' shape=(100, 1) dtype=float32>, 'housing_median_age': <tf.Tensor 'ExpandDims_1:0' shape=(100, 1) dtype=float32>, 'total_rooms': <tf.Tensor 'ExpandDims_7:0' shape=(100, 1) dtype=float32>, 'total_bedrooms': <tf.Tensor 'ExpandDims_6:0' shape=(100, 1) dtype=float32>, 'population': <tf.Tensor 'ExpandDims_5:0' shape=(100, 1) dtype=float32>, 'households': <tf.Tensor 'ExpandDims:0' shape=(100, 1) dtype=float32>, 'median_income': <tf.Tensor 'ExpandDims_4:0' shape=(100, 1) dtype=float32>}\n",
            "Consider rewriting this model with the Functional API.\n",
            "30/30 [==============================] - 0s 1ms/step - loss: 8584.4092 - root_mean_squared_error: 92.6521\n"
          ],
          "name": "stdout"
        },
        {
          "output_type": "execute_result",
          "data": {
            "text/plain": [
              "[8584.4091796875, 92.65208435058594]"
            ]
          },
          "metadata": {
            "tags": []
          },
          "execution_count": 20
        }
      ]
    },
    {
      "cell_type": "markdown",
      "metadata": {
        "id": "HzdJRe3jdE4v"
      },
      "source": [
        "#Questions:\r\n",
        "what is harsh bucket do?"
      ]
    },
    {
      "cell_type": "code",
      "metadata": {
        "id": "TsLawlRpNAqi"
      },
      "source": [
        ""
      ],
      "execution_count": null,
      "outputs": []
    }
  ]
}