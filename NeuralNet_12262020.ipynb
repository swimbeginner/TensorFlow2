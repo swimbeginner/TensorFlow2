{
  "nbformat": 4,
  "nbformat_minor": 0,
  "metadata": {
    "colab": {
      "name": "NeuralNet_12262020.ipynb",
      "provenance": [],
      "authorship_tag": "ABX9TyOQTKNB4pbzpN8c1fl/Ac7P",
      "include_colab_link": true
    },
    "kernelspec": {
      "name": "python3",
      "display_name": "Python 3"
    }
  },
  "cells": [
    {
      "cell_type": "markdown",
      "metadata": {
        "id": "view-in-github",
        "colab_type": "text"
      },
      "source": [
        "<a href=\"https://colab.research.google.com/github/swimbeginner/TensorFlow2/blob/main/NeuralNet_12262020.ipynb\" target=\"_parent\"><img src=\"https://colab.research.google.com/assets/colab-badge.svg\" alt=\"Open In Colab\"/></a>"
      ]
    },
    {
      "cell_type": "code",
      "metadata": {
        "id": "wUIFfU9PoibT"
      },
      "source": [
        ""
      ],
      "execution_count": null,
      "outputs": []
    },
    {
      "cell_type": "markdown",
      "metadata": {
        "id": "v8FJpi5NAdIw"
      },
      "source": [
        "##google tensorflow with \r\n",
        "[handwriting case](https://colab.research.google.com/github/google/eng-edu/blob/main/ml/cc/exercises/multi-class_classification_with_MNIST.ipynb?utm_source=mlcc&utm_campaign=colab-external&utm_medium=referral&utm_content=multiclass_tf2-colab&hl=en#scrollTo=nj3v5EKQFY8s)"
      ]
    },
    {
      "cell_type": "code",
      "metadata": {
        "id": "NLBu-Z-C-tlI"
      },
      "source": [
        "%tensorflow_version 2.x"
      ],
      "execution_count": 18,
      "outputs": []
    },
    {
      "cell_type": "code",
      "metadata": {
        "id": "CvvsTah3-38u"
      },
      "source": [
        "import numpy as np\r\n",
        "import pandas as pd\r\n",
        "import tensorflow as tf\r\n",
        "from tensorflow.keras import layers\r\n",
        "from matplotlib import pyplot as plt\r\n",
        "\r\n",
        "pd.options.display.max_rows=10\r\n",
        "pd.options.display.float_format=\"{:.1f}\".format\r\n",
        "\r\n",
        "np.set_printoptions(linewidth=200)"
      ],
      "execution_count": 19,
      "outputs": []
    },
    {
      "cell_type": "code",
      "metadata": {
        "id": "a1ahCtcBGhYK"
      },
      "source": [
        "(x_train, y_train),(x_test, y_test) = tf.keras.datasets.mnist.load_data()"
      ],
      "execution_count": 20,
      "outputs": []
    },
    {
      "cell_type": "code",
      "metadata": {
        "colab": {
          "base_uri": "https://localhost:8080/"
        },
        "id": "Gd8MQXG7Godu",
        "outputId": "77671af3-cc08-4a9a-fbb1-1b262bff6bfe"
      },
      "source": [
        "print(x_train.shape)\r\n",
        "print(x_train[1000])"
      ],
      "execution_count": 21,
      "outputs": [
        {
          "output_type": "stream",
          "text": [
            "(60000, 28, 28)\n",
            "[[  0   0   0   0   0   0   0   0   0   0   0   0   0   0   0   0   0   0   0   0   0   0   0   0   0   0   0   0]\n",
            " [  0   0   0   0   0   0   0   0   0   0   0   0   0   0   0   0   0   0   0   0   0   0   0   0   0   0   0   0]\n",
            " [  0   0   0   0   0   0   0   0   0   0   0   0   0   0   0   0   0   0   0   0   0   0   0   0   0   0   0   0]\n",
            " [  0   0   0   0   0   0   0   0   0   0   0   0   0   0   0   0   0   0   0   0   0   0   0   0   0   0   0   0]\n",
            " [  0   0   0   0   0   0   0   0   0   0   0   0   0   0   0   0   0   0   0   0   0   0   0   0   0   0   0   0]\n",
            " [  0   0   0   0   0   0   0   0   0   0   0   0   0   0  36 146 254 255 251  95   6   0   0   0   0   0   0   0]\n",
            " [  0   0   0   0   0   0   0   0   0   0   0   0   3  97 234 254 254 232 254 254  35   0   0   0   0   0   0   0]\n",
            " [  0   0   0   0   0   0   0   0   0   0   0  89 140 254 254 174  67  33 200 254 190   0   0   0   0   0   0   0]\n",
            " [  0   0   0   0   0   0   0   0   0   0 108 253 254 235  51   1   0   0  12 254 253  56   0   0   0   0   0   0]\n",
            " [  0   0   0   0   0   0   0   0   0  12 216 254 244  55   0   0   0   0   6 213 254  57   0   0   0   0   0   0]\n",
            " [  0   0   0   0   0   0   0   0   0  25 254 254 132   0   0   0   0   0   0 168 254  57   0   0   0   0   0   0]\n",
            " [  0   0   0   0   0   0   0   0   0  45 254 243  34   0   0   0   0   0   0 168 254  57   0   0   0   0   0   0]\n",
            " [  0   0   0   0   0   0   0   0   0 128 254 157   0   0   0   0   0   0   0 168 254  57   0   0   0   0   0   0]\n",
            " [  0   0   0   0   0   0   0   0  19 228 254 105   0   0   0   0   0   0   7 228 254  57   0   0   0   0   0   0]\n",
            " [  0   0   0   0   0   0   0   0  58 254 254  87   0   0   0   0   0   0  10 254 246  47   0   0   0   0   0   0]\n",
            " [  0   0   0   0   0   0   0   0  58 254 254   9   0   0   0   0   0   0  10 254 210   0   0   0   0   0   0   0]\n",
            " [  0   0   0   0   0   0   0   0  58 254 254   9   0   0   0   0   0   0 105 254  91   0   0   0   0   0   0   0]\n",
            " [  0   0   0   0   0   0   0   0   5 219 254   9   0   0   0   0   0  24 230 254  24   0   0   0   0   0   0   0]\n",
            " [  0   0   0   0   0   0   0   0   0 216 254   9   0   0   0   0   0  84 254 251  23   0   0   0   0   0   0   0]\n",
            " [  0   0   0   0   0   0   0   0   0 216 254  36   0   0   0   0  22 208 251  94   0   0   0   0   0   0   0   0]\n",
            " [  0   0   0   0   0   0   0   0   0 129 254 120   0   0   0   3 140 254 229   0   0   0   0   0   0   0   0   0]\n",
            " [  0   0   0   0   0   0   0   0   0  83 254 222  17   0   0  91 254 236  53   0   0   0   0   0   0   0   0   0]\n",
            " [  0   0   0   0   0   0   0   0   0  18 235 254 134  21 119 237 254 124   0   0   0   0   0   0   0   0   0   0]\n",
            " [  0   0   0   0   0   0   0   0   0   0  53 249 254 234 252 254 172   3   0   0   0   0   0   0   0   0   0   0]\n",
            " [  0   0   0   0   0   0   0   0   0   0   0 116 237 254 254 133  20   0   0   0   0   0   0   0   0   0   0   0]\n",
            " [  0   0   0   0   0   0   0   0   0   0   0   0   0   0   0   0   0   0   0   0   0   0   0   0   0   0   0   0]\n",
            " [  0   0   0   0   0   0   0   0   0   0   0   0   0   0   0   0   0   0   0   0   0   0   0   0   0   0   0   0]\n",
            " [  0   0   0   0   0   0   0   0   0   0   0   0   0   0   0   0   0   0   0   0   0   0   0   0   0   0   0   0]]\n"
          ],
          "name": "stdout"
        }
      ]
    },
    {
      "cell_type": "code",
      "metadata": {
        "colab": {
          "base_uri": "https://localhost:8080/",
          "height": 282
        },
        "id": "gO0u9KBxHMl7",
        "outputId": "62944782-e06e-468c-df90-86a0dd07e99c"
      },
      "source": [
        "plt.imshow(x_train[12],cmap='gray', vmin=0, vmax=255)"
      ],
      "execution_count": 22,
      "outputs": [
        {
          "output_type": "execute_result",
          "data": {
            "text/plain": [
              "<matplotlib.image.AxesImage at 0x7f6bba2a3ba8>"
            ]
          },
          "metadata": {
            "tags": []
          },
          "execution_count": 22
        },
        {
          "output_type": "display_data",
          "data": {
            "image/png": "[encoded data removed]",
            "text/plain": [
              "<Figure size 432x288 with 1 Axes>"
            ]
          },
          "metadata": {
            "tags": [],
            "needs_background": "light"
          }
        }
      ]
    },
    {
      "cell_type": "code",
      "metadata": {
        "colab": {
          "base_uri": "https://localhost:8080/"
        },
        "id": "4p8WefMqPB71",
        "outputId": "c3d9d50d-74cc-4367-a1ef-f35373f13d7c"
      },
      "source": [
        "x_train_normalized = x_train/255.0\r\n",
        "x_test_normalized  = x_test/255.0\r\n",
        "print(x_train_normalized[2900][10]) # Output a normalized row"
      ],
      "execution_count": 23,
      "outputs": [
        {
          "output_type": "stream",
          "text": [
            "[0.         0.         0.         0.         0.         0.         0.         0.55294118 1.         0.66666667 0.11372549 0.         0.         0.         0.         0.         0.         0.\n",
            " 0.         0.         0.         0.         0.         0.         0.         0.         0.         0.        ]\n"
          ],
          "name": "stdout"
        }
      ]
    },
    {
      "cell_type": "code",
      "metadata": {
        "id": "K4sbQPq-RZMa",
        "colab": {
          "base_uri": "https://localhost:8080/"
        },
        "outputId": "673e2840-a754-4d25-8ad9-9405fcaf1c8d"
      },
      "source": [
        "def plot_curve(epochs, hist, list_of_metrics):\r\n",
        "  plt.figure()\r\n",
        "  plt.xlabel(\"Epoch\")\r\n",
        "  plt.ylabel(\"Value\")\r\n",
        "  for m in list_of_metrics:\r\n",
        "    x=hist[m]\r\n",
        "    plt.plot(epochs[1:],x[1:],label=m)\r\n",
        "  plt.legend()\r\n",
        "print(\"load the plot_curve functions.\")"
      ],
      "execution_count": 24,
      "outputs": [
        {
          "output_type": "stream",
          "text": [
            "load the plot_curve functions.\n"
          ],
          "name": "stdout"
        }
      ]
    },
    {
      "cell_type": "code",
      "metadata": {
        "id": "18M2Vshg2K6c",
        "outputId": "c41fc3b2-8e1c-4b2e-d9fa-7aaef5f0ca63",
        "colab": {
          "base_uri": "https://localhost:8080/"
        }
      },
      "source": [
        "def create_model(my_learning_rate):\r\n",
        "  \"\"\"Create and compile a deep neural net.\"\"\"\r\n",
        "  \r\n",
        "  # All models in this course are sequential.\r\n",
        "  model = tf.keras.models.Sequential()\r\n",
        "\r\n",
        "  # The features are stored in a two-dimensional 28X28 array. \r\n",
        "  # Flatten that two-dimensional array into a a one-dimensional \r\n",
        "  # 784-element array.\r\n",
        "  model.add(tf.keras.layers.Flatten(input_shape=(28, 28)))\r\n",
        "\r\n",
        "  # Define the first hidden layer.   \r\n",
        "  model.add(tf.keras.layers.Dense(units=250, activation='relu'))\r\n",
        "  \r\n",
        "  # Define a dropout regularization layer. \r\n",
        "  model.add(tf.keras.layers.Dropout(rate=0.2))\r\n",
        "\r\n",
        "  # Define the output layer. The units parameter is set to 10 because\r\n",
        "  # the model must choose among 10 possible output values (representing\r\n",
        "  # the digits from 0 to 9, inclusive).\r\n",
        "  #\r\n",
        "  # Don't change this layer.\r\n",
        "  model.add(tf.keras.layers.Dense(units=10, activation='softmax'))     \r\n",
        "                           \r\n",
        "  # Construct the layers into a model that TensorFlow can execute.  \r\n",
        "  # Notice that the loss function for multi-class classification\r\n",
        "  # is different than the loss function for binary classification.  \r\n",
        "  model.compile(optimizer=tf.keras.optimizers.Adam(lr=my_learning_rate),\r\n",
        "                loss=\"sparse_categorical_crossentropy\",\r\n",
        "                metrics=['accuracy'])\r\n",
        "  \r\n",
        "  return model    \r\n",
        "\r\n",
        "\r\n",
        "def train_model(model, train_features, train_label, epochs,\r\n",
        "                batch_size=None, validation_split=0.1):\r\n",
        "  \"\"\"Train the model by feeding it data.\"\"\"\r\n",
        "\r\n",
        "  history = model.fit(x=train_features, y=train_label, batch_size=batch_size,\r\n",
        "                      epochs=epochs, shuffle=True, \r\n",
        "                      validation_split=validation_split)\r\n",
        " \r\n",
        "  # To track the progression of training, gather a snapshot\r\n",
        "  # of the model's metrics at each epoch. \r\n",
        "  epochs = history.epoch\r\n",
        "\r\n",
        "  hist = pd.DataFrame(history.history)\r\n",
        "  import pdb \r\n",
        "  pdb.set_trace()\r\n",
        "  return epochs, hist   \r\n",
        "\r\n",
        "print(\"load the all functions.\") "
      ],
      "execution_count": 25,
      "outputs": [
        {
          "output_type": "stream",
          "text": [
            "load the all functions.\n"
          ],
          "name": "stdout"
        }
      ]
    },
    {
      "cell_type": "code",
      "metadata": {
        "id": "vD89hEKe2NIi",
        "outputId": "96a05705-0713-4ade-956d-cd1d221d4c09",
        "colab": {
          "base_uri": "https://localhost:8080/",
          "height": 1000
        }
      },
      "source": [
        "# The following variables are the hyperparameters.\r\n",
        "learning_rate = 0.003\r\n",
        "epochs = 50\r\n",
        "batch_size = 4000\r\n",
        "validation_split = 0.2\r\n",
        "\r\n",
        "# Establish the model's topography.\r\n",
        "my_model = create_model(learning_rate)\r\n",
        "\r\n",
        "# Train the model on the normalized training set.\r\n",
        "epochs, hist = train_model(my_model, x_train_normalized, y_train, \r\n",
        "                           epochs, batch_size, validation_split)\r\n",
        "\r\n",
        "# Plot a graph of the metric vs. epochs.\r\n",
        "list_of_metrics_to_plot = ['accuracy']\r\n",
        "plot_curve(epochs, hist, list_of_metrics_to_plot)\r\n",
        "\r\n",
        "# Evaluate against the test set.\r\n",
        "print(\"\\n Evaluate the new model against the test set:\")\r\n",
        "my_model.evaluate(x=x_test_normalized, y=y_test, batch_size=batch_size)"
      ],
      "execution_count": 26,
      "outputs": [
        {
          "output_type": "stream",
          "text": [
            "Epoch 1/50\n",
            "12/12 [==============================] - 2s 107ms/step - loss: 1.4609 - accuracy: 0.5490 - val_loss: 0.3746 - val_accuracy: 0.8898\n",
            "Epoch 2/50\n",
            "12/12 [==============================] - 1s 92ms/step - loss: 0.4116 - accuracy: 0.8772 - val_loss: 0.2788 - val_accuracy: 0.9218\n",
            "Epoch 3/50\n",
            "12/12 [==============================] - 1s 88ms/step - loss: 0.3058 - accuracy: 0.9101 - val_loss: 0.2305 - val_accuracy: 0.9349\n",
            "Epoch 4/50\n",
            "12/12 [==============================] - 1s 90ms/step - loss: 0.2509 - accuracy: 0.9265 - val_loss: 0.2007 - val_accuracy: 0.9438\n",
            "Epoch 5/50\n",
            "12/12 [==============================] - 1s 90ms/step - loss: 0.2162 - accuracy: 0.9382 - val_loss: 0.1793 - val_accuracy: 0.9503\n",
            "Epoch 6/50\n",
            "12/12 [==============================] - 1s 91ms/step - loss: 0.1854 - accuracy: 0.9472 - val_loss: 0.1614 - val_accuracy: 0.9542\n",
            "Epoch 7/50\n",
            "12/12 [==============================] - 1s 100ms/step - loss: 0.1674 - accuracy: 0.9508 - val_loss: 0.1478 - val_accuracy: 0.9592\n",
            "Epoch 8/50\n",
            "12/12 [==============================] - 1s 90ms/step - loss: 0.1526 - accuracy: 0.9553 - val_loss: 0.1374 - val_accuracy: 0.9613\n",
            "Epoch 9/50\n",
            "12/12 [==============================] - 1s 89ms/step - loss: 0.1365 - accuracy: 0.9608 - val_loss: 0.1294 - val_accuracy: 0.9629\n",
            "Epoch 10/50\n",
            "12/12 [==============================] - 1s 90ms/step - loss: 0.1240 - accuracy: 0.9637 - val_loss: 0.1231 - val_accuracy: 0.9639\n",
            "Epoch 11/50\n",
            "12/12 [==============================] - 1s 93ms/step - loss: 0.1169 - accuracy: 0.9659 - val_loss: 0.1150 - val_accuracy: 0.9674\n",
            "Epoch 12/50\n",
            "12/12 [==============================] - 1s 90ms/step - loss: 0.1074 - accuracy: 0.9698 - val_loss: 0.1113 - val_accuracy: 0.9677\n",
            "Epoch 13/50\n",
            "12/12 [==============================] - 1s 89ms/step - loss: 0.0979 - accuracy: 0.9729 - val_loss: 0.1061 - val_accuracy: 0.9684\n",
            "Epoch 14/50\n",
            "12/12 [==============================] - 1s 91ms/step - loss: 0.0928 - accuracy: 0.9731 - val_loss: 0.1011 - val_accuracy: 0.9706\n",
            "Epoch 15/50\n",
            "12/12 [==============================] - 1s 93ms/step - loss: 0.0873 - accuracy: 0.9747 - val_loss: 0.0978 - val_accuracy: 0.9715\n",
            "Epoch 16/50\n",
            "12/12 [==============================] - 1s 92ms/step - loss: 0.0812 - accuracy: 0.9766 - val_loss: 0.0966 - val_accuracy: 0.9715\n",
            "Epoch 17/50\n",
            "12/12 [==============================] - 1s 91ms/step - loss: 0.0771 - accuracy: 0.9774 - val_loss: 0.0929 - val_accuracy: 0.9716\n",
            "Epoch 18/50\n",
            "12/12 [==============================] - 1s 91ms/step - loss: 0.0702 - accuracy: 0.9804 - val_loss: 0.0892 - val_accuracy: 0.9732\n",
            "Epoch 19/50\n",
            "12/12 [==============================] - 1s 91ms/step - loss: 0.0662 - accuracy: 0.9811 - val_loss: 0.0883 - val_accuracy: 0.9738\n",
            "Epoch 20/50\n",
            "12/12 [==============================] - 1s 91ms/step - loss: 0.0639 - accuracy: 0.9810 - val_loss: 0.0855 - val_accuracy: 0.9743\n",
            "Epoch 21/50\n",
            "12/12 [==============================] - 1s 93ms/step - loss: 0.0596 - accuracy: 0.9832 - val_loss: 0.0832 - val_accuracy: 0.9747\n",
            "Epoch 22/50\n",
            "12/12 [==============================] - 1s 90ms/step - loss: 0.0576 - accuracy: 0.9830 - val_loss: 0.0835 - val_accuracy: 0.9748\n",
            "Epoch 23/50\n",
            "12/12 [==============================] - 1s 91ms/step - loss: 0.0531 - accuracy: 0.9853 - val_loss: 0.0802 - val_accuracy: 0.9758\n",
            "Epoch 24/50\n",
            "12/12 [==============================] - 1s 92ms/step - loss: 0.0509 - accuracy: 0.9860 - val_loss: 0.0799 - val_accuracy: 0.9761\n",
            "Epoch 25/50\n",
            "12/12 [==============================] - 1s 91ms/step - loss: 0.0479 - accuracy: 0.9866 - val_loss: 0.0790 - val_accuracy: 0.9762\n",
            "Epoch 26/50\n",
            "12/12 [==============================] - 1s 91ms/step - loss: 0.0442 - accuracy: 0.9875 - val_loss: 0.0773 - val_accuracy: 0.9767\n",
            "Epoch 27/50\n",
            "12/12 [==============================] - 1s 90ms/step - loss: 0.0423 - accuracy: 0.9881 - val_loss: 0.0770 - val_accuracy: 0.9765\n",
            "Epoch 28/50\n",
            "12/12 [==============================] - 1s 90ms/step - loss: 0.0403 - accuracy: 0.9890 - val_loss: 0.0779 - val_accuracy: 0.9766\n",
            "Epoch 29/50\n",
            "12/12 [==============================] - 1s 101ms/step - loss: 0.0389 - accuracy: 0.9889 - val_loss: 0.0772 - val_accuracy: 0.9766\n",
            "Epoch 30/50\n",
            "12/12 [==============================] - 1s 93ms/step - loss: 0.0377 - accuracy: 0.9896 - val_loss: 0.0763 - val_accuracy: 0.9775\n",
            "Epoch 31/50\n",
            "12/12 [==============================] - 1s 92ms/step - loss: 0.0359 - accuracy: 0.9904 - val_loss: 0.0757 - val_accuracy: 0.9782\n",
            "Epoch 32/50\n",
            "12/12 [==============================] - 1s 92ms/step - loss: 0.0337 - accuracy: 0.9904 - val_loss: 0.0757 - val_accuracy: 0.9770\n",
            "Epoch 33/50\n",
            "12/12 [==============================] - 1s 92ms/step - loss: 0.0325 - accuracy: 0.9909 - val_loss: 0.0736 - val_accuracy: 0.9783\n",
            "Epoch 34/50\n",
            "12/12 [==============================] - 1s 93ms/step - loss: 0.0316 - accuracy: 0.9912 - val_loss: 0.0755 - val_accuracy: 0.9773\n",
            "Epoch 35/50\n",
            "12/12 [==============================] - 1s 92ms/step - loss: 0.0307 - accuracy: 0.9917 - val_loss: 0.0734 - val_accuracy: 0.9776\n",
            "Epoch 36/50\n",
            "12/12 [==============================] - 1s 91ms/step - loss: 0.0292 - accuracy: 0.9919 - val_loss: 0.0740 - val_accuracy: 0.9773\n",
            "Epoch 37/50\n",
            "12/12 [==============================] - 1s 93ms/step - loss: 0.0273 - accuracy: 0.9930 - val_loss: 0.0734 - val_accuracy: 0.9778\n",
            "Epoch 38/50\n",
            "12/12 [==============================] - 1s 93ms/step - loss: 0.0270 - accuracy: 0.9934 - val_loss: 0.0734 - val_accuracy: 0.9783\n",
            "Epoch 39/50\n",
            "12/12 [==============================] - 1s 94ms/step - loss: 0.0256 - accuracy: 0.9932 - val_loss: 0.0736 - val_accuracy: 0.9772\n",
            "Epoch 40/50\n",
            "12/12 [==============================] - 1s 94ms/step - loss: 0.0248 - accuracy: 0.9936 - val_loss: 0.0735 - val_accuracy: 0.9774\n",
            "Epoch 41/50\n",
            "12/12 [==============================] - 1s 94ms/step - loss: 0.0232 - accuracy: 0.9940 - val_loss: 0.0728 - val_accuracy: 0.9778\n",
            "Epoch 42/50\n",
            "12/12 [==============================] - 1s 92ms/step - loss: 0.0235 - accuracy: 0.9935 - val_loss: 0.0727 - val_accuracy: 0.9778\n",
            "Epoch 43/50\n",
            "12/12 [==============================] - 1s 93ms/step - loss: 0.0215 - accuracy: 0.9948 - val_loss: 0.0734 - val_accuracy: 0.9783\n",
            "Epoch 44/50\n",
            "12/12 [==============================] - 1s 94ms/step - loss: 0.0205 - accuracy: 0.9947 - val_loss: 0.0724 - val_accuracy: 0.9786\n",
            "Epoch 45/50\n",
            "12/12 [==============================] - 1s 93ms/step - loss: 0.0206 - accuracy: 0.9949 - val_loss: 0.0722 - val_accuracy: 0.9786\n",
            "Epoch 46/50\n",
            "12/12 [==============================] - 1s 94ms/step - loss: 0.0195 - accuracy: 0.9950 - val_loss: 0.0725 - val_accuracy: 0.9784\n",
            "Epoch 47/50\n",
            "12/12 [==============================] - 1s 93ms/step - loss: 0.0173 - accuracy: 0.9964 - val_loss: 0.0730 - val_accuracy: 0.9794\n",
            "Epoch 48/50\n",
            "12/12 [==============================] - 1s 94ms/step - loss: 0.0167 - accuracy: 0.9960 - val_loss: 0.0713 - val_accuracy: 0.9790\n",
            "Epoch 49/50\n",
            "12/12 [==============================] - 1s 93ms/step - loss: 0.0173 - accuracy: 0.9957 - val_loss: 0.0716 - val_accuracy: 0.9793\n",
            "Epoch 50/50\n",
            "12/12 [==============================] - 1s 91ms/step - loss: 0.0168 - accuracy: 0.9961 - val_loss: 0.0726 - val_accuracy: 0.9792\n",
            "> <ipython-input-25-faf1d619dd2d>(50)train_model()\n",
            "-> return epochs, hist\n",
            "(Pdb) epochs\n",
            "[0, 1, 2, 3, 4, 5, 6, 7, 8, 9, 10, 11, 12, 13, 14, 15, 16, 17, 18, 19, 20, 21, 22, 23, 24, 25, 26, 27, 28, 29, 30, 31, 32, 33, 34, 35, 36, 37, 38, 39, 40, 41, 42, 43, 44, 45, 46, 47, 48, 49]\n",
            "(Pdb) type(epochs)\n",
            "<class 'list'>\n",
            "(Pdb) type(hist)\n",
            "<class 'pandas.core.frame.DataFrame'>\n",
            "(Pdb) hist.head()\n",
            "   loss  accuracy  val_loss  val_accuracy\n",
            "0   1.0       0.7       0.4           0.9\n",
            "1   0.4       0.9       0.3           0.9\n",
            "2   0.3       0.9       0.2           0.9\n",
            "3   0.2       0.9       0.2           0.9\n",
            "4   0.2       0.9       0.2           1.0\n",
            "(Pdb) hist\n",
            "    loss  accuracy  val_loss  val_accuracy\n",
            "0    1.0       0.7       0.4           0.9\n",
            "1    0.4       0.9       0.3           0.9\n",
            "2    0.3       0.9       0.2           0.9\n",
            "3    0.2       0.9       0.2           0.9\n",
            "4    0.2       0.9       0.2           1.0\n",
            "..   ...       ...       ...           ...\n",
            "45   0.0       1.0       0.1           1.0\n",
            "46   0.0       1.0       0.1           1.0\n",
            "47   0.0       1.0       0.1           1.0\n",
            "48   0.0       1.0       0.1           1.0\n",
            "49   0.0       1.0       0.1           1.0\n",
            "\n",
            "[50 rows x 4 columns]\n",
            "(Pdb) list_of_metrics\n",
            "*** NameError: name 'list_of_metrics' is not defined\n",
            "(Pdb) whose\n",
            "*** NameError: name 'whose' is not defined\n",
            "(Pdb) w\n",
            "  /usr/lib/python3.6/runpy.py(193)_run_module_as_main()\n",
            "-> \"__main__\", mod_spec)\n",
            "  /usr/lib/python3.6/runpy.py(85)_run_code()\n",
            "-> exec(code, run_globals)\n",
            "  /usr/local/lib/python3.6/dist-packages/ipykernel_launcher.py(16)<module>()\n",
            "-> app.launch_new_instance()\n",
            "  /usr/local/lib/python3.6/dist-packages/traitlets/config/application.py(664)launch_instance()\n",
            "-> app.start()\n",
            "  /usr/local/lib/python3.6/dist-packages/ipykernel/kernelapp.py(499)start()\n",
            "-> self.io_loop.start()\n",
            "  /usr/local/lib/python3.6/dist-packages/tornado/platform/asyncio.py(132)start()\n",
            "-> self.asyncio_loop.run_forever()\n",
            "  /usr/lib/python3.6/asyncio/base_events.py(438)run_forever()\n",
            "-> self._run_once()\n",
            "  /usr/lib/python3.6/asyncio/base_events.py(1451)_run_once()\n",
            "-> handle._run()\n",
            "  /usr/lib/python3.6/asyncio/events.py(145)_run()\n",
            "-> self._callback(*self._args)\n",
            "  /usr/local/lib/python3.6/dist-packages/tornado/platform/asyncio.py(122)_handle_events()\n",
            "-> handler_func(fileobj, events)\n",
            "  /usr/local/lib/python3.6/dist-packages/tornado/stack_context.py(300)null_wrapper()\n",
            "-> return fn(*args, **kwargs)\n",
            "  /usr/local/lib/python3.6/dist-packages/zmq/eventloop/zmqstream.py(462)_handle_events()\n",
            "-> self._handle_recv()\n",
            "  /usr/local/lib/python3.6/dist-packages/zmq/eventloop/zmqstream.py(492)_handle_recv()\n",
            "-> self._run_callback(callback, msg)\n",
            "  /usr/local/lib/python3.6/dist-packages/zmq/eventloop/zmqstream.py(444)_run_callback()\n",
            "-> callback(*args, **kwargs)\n",
            "  /usr/local/lib/python3.6/dist-packages/tornado/stack_context.py(300)null_wrapper()\n",
            "-> return fn(*args, **kwargs)\n",
            "  /usr/local/lib/python3.6/dist-packages/ipykernel/kernelbase.py(283)dispatcher()\n",
            "-> return self.dispatch_shell(stream, msg)\n",
            "  /usr/local/lib/python3.6/dist-packages/ipykernel/kernelbase.py(233)dispatch_shell()\n",
            "-> handler(stream, idents, msg)\n",
            "  /usr/local/lib/python3.6/dist-packages/ipykernel/kernelbase.py(399)execute_request()\n",
            "-> user_expressions, allow_stdin)\n",
            "  /usr/local/lib/python3.6/dist-packages/ipykernel/ipkernel.py(208)do_execute()\n",
            "-> res = shell.run_cell(code, store_history=store_history, silent=silent)\n",
            "  /usr/local/lib/python3.6/dist-packages/ipykernel/zmqshell.py(537)run_cell()\n",
            "-> return super(ZMQInteractiveShell, self).run_cell(*args, **kwargs)\n",
            "  /usr/local/lib/python3.6/dist-packages/IPython/core/interactiveshell.py(2718)run_cell()\n",
            "-> interactivity=interactivity, compiler=compiler, result=result)\n",
            "  /usr/local/lib/python3.6/dist-packages/IPython/core/interactiveshell.py(2822)run_ast_nodes()\n",
            "-> if self.run_code(code, result):\n",
            "  /usr/local/lib/python3.6/dist-packages/IPython/core/interactiveshell.py(2882)run_code()\n",
            "-> exec(code_obj, self.user_global_ns, self.user_ns)\n",
            "  <ipython-input-26-c2c743020313>(12)<module>()\n",
            "-> epochs, batch_size, validation_split)\n",
            "> <ipython-input-25-faf1d619dd2d>(50)train_model()\n",
            "-> return epochs, hist\n",
            "(Pdb) c\n",
            "\n",
            " Evaluate the new model against the test set:\n",
            "3/3 [==============================] - 0s 24ms/step - loss: 0.0650 - accuracy: 0.9810\n"
          ],
          "name": "stdout"
        },
        {
          "output_type": "execute_result",
          "data": {
            "text/plain": [
              "[0.06504462659358978, 0.9810000061988831]"
            ]
          },
          "metadata": {
            "tags": []
          },
          "execution_count": 26
        },
        {
          "output_type": "display_data",
          "data": {
            "image/png": "[encoded data removed]",
            "text/plain": [
              "<Figure size 432x288 with 1 Axes>"
            ]
          },
          "metadata": {
            "tags": [],
            "needs_background": "light"
          }
        }
      ]
    },
    {
      "cell_type": "markdown",
      "metadata": {
        "id": "5XhjHZkA92FC"
      },
      "source": [
        "#@title Double-click to view some possible answers.\r\n",
        "\r\n",
        "It would take much too long to experiment \r\n",
        " fully with topography and dropout regularization \r\n",
        " rate. In the real world, you would\r\n",
        " also experiment with learning rate, batch size, \r\n",
        " and number of epochs.  Since you only have a \r\n",
        " few minutes, searching for trends can be helpful.\r\n",
        " Here is what we discovered:\r\n",
        "   * Adding more nodes (at least until 256 nodes) \r\n",
        "     to the first hidden layer improved accuracy.\r\n",
        "   * Adding a second hidden layer generally \r\n",
        "     improved accuracy.\r\n",
        "   * When the model contains a lot of nodes, \r\n",
        "     the model overfits unless the dropout rate \r\n",
        "     is at least 0.5. \r\n",
        "\r\n",
        " We reached 98% test accuracy with the \r\n",
        " following configuration:\r\n",
        "   * One hidden layer of 256 nodes; no second \r\n",
        "      hidden layer.\r\n",
        "   * dropout regularization rate of 0.4\r\n",
        " We reached 98.2% test accuracy with the \r\n",
        " following configuration:\r\n",
        "   * First hidden layer of 256 nodes; \r\n",
        "     second hidden layer of 128 nodes.\r\n",
        "   * dropout regularization rate of 0.2"
      ]
    },
    {
      "cell_type": "code",
      "metadata": {
        "id": "ap7Hdzll93iM"
      },
      "source": [
        ""
      ],
      "execution_count": null,
      "outputs": []
    }
  ]
}