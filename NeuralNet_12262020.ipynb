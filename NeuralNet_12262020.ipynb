{
  "nbformat": 4,
  "nbformat_minor": 0,
  "metadata": {
    "colab": {
      "name": "NeuralNet_12262020.ipynb",
      "provenance": [],
      "authorship_tag": "ABX9TyO/vNjIA7AU57b2NtE8nale",
      "include_colab_link": true
    },
    "kernelspec": {
      "name": "python3",
      "display_name": "Python 3"
    }
  },
  "cells": [
    {
      "cell_type": "markdown",
      "metadata": {
        "id": "view-in-github",
        "colab_type": "text"
      },
      "source": [
        "<a href=\"https://colab.research.google.com/github/swimbeginner/TensorFlow2/blob/main/NeuralNet_12262020.ipynb\" target=\"_parent\"><img src=\"https://colab.research.google.com/assets/colab-badge.svg\" alt=\"Open In Colab\"/></a>"
      ]
    },
    {
      "cell_type": "code",
      "metadata": {
        "id": "fFJQpbQ57XbI"
      },
      "source": [
        ""
      ],
      "execution_count": null,
      "outputs": []
    },
    {
      "cell_type": "markdown",
      "metadata": {
        "id": "mGxHKSENs5Qc"
      },
      "source": [
        "##Neural nets \r\n",
        "[from google crash course](https://colab.research.google.com/github/google/eng-edu/blob/main/ml/cc/exercises/intro_to_neural_nets.ipynb?utm_source=mlcc&utm_campaign=colab-external&utm_medium=referral&utm_content=intro_to_nn_tf2-colab&hl=en)"
      ]
    },
    {
      "cell_type": "code",
      "metadata": {
        "id": "nBeKeeFktBKq"
      },
      "source": [
        "%tensorflow_version 2.x"
      ],
      "execution_count": 1,
      "outputs": []
    },
    {
      "cell_type": "code",
      "metadata": {
        "colab": {
          "base_uri": "https://localhost:8080/"
        },
        "id": "RLBxlrhDtIub",
        "outputId": "03ddbfc2-e713-4c7b-b761-2d7109fe10ec"
      },
      "source": [
        "import numpy as np\r\n",
        "import pandas as pd\r\n",
        "import tensorflow as tf\r\n",
        "#from tensorflow import feature_column\r\n",
        "from tensorflow.keras import layers\r\n",
        "from matplotlib import pyplot as plt\r\n",
        "\r\n",
        "pd.options.display.max_rows=10\r\n",
        "pd.options.display.float_format=\"{:.1f}\".format\r\n",
        "\r\n",
        "print(\"imported modeules\")"
      ],
      "execution_count": 3,
      "outputs": [
        {
          "output_type": "stream",
          "text": [
            "imported modeules\n"
          ],
          "name": "stdout"
        }
      ]
    },
    {
      "cell_type": "code",
      "metadata": {
        "id": "2fUbnbEd3nvD"
      },
      "source": [
        "train_df = pd.read_csv(\"https://download.mlcc.google.com/mledu-datasets/california_housing_train.csv\")\r\n",
        "train_df = train_df.reindex(np.random.permutation(train_df.index)) # shuffle the examples\r\n",
        "test_df = pd.read_csv(\"https://download.mlcc.google.com/mledu-datasets/california_housing_test.csv\")"
      ],
      "execution_count": 4,
      "outputs": []
    },
    {
      "cell_type": "code",
      "metadata": {
        "colab": {
          "base_uri": "https://localhost:8080/",
          "height": 224
        },
        "id": "kiw6Lv9f57A8",
        "outputId": "e857a76b-1ec4-4d62-fcb5-ba244fc6ebdd"
      },
      "source": [
        "train_df.head()"
      ],
      "execution_count": 5,
      "outputs": [
        {
          "output_type": "execute_result",
          "data": {
            "text/html": [
              "<div>\n",
              "<style scoped>\n",
              "    .dataframe tbody tr th:only-of-type {\n",
              "        vertical-align: middle;\n",
              "    }\n",
              "\n",
              "    .dataframe tbody tr th {\n",
              "        vertical-align: top;\n",
              "    }\n",
              "\n",
              "    .dataframe thead th {\n",
              "        text-align: right;\n",
              "    }\n",
              "</style>\n",
              "<table border=\"1\" class=\"dataframe\">\n",
              "  <thead>\n",
              "    <tr style=\"text-align: right;\">\n",
              "      <th></th>\n",
              "      <th>longitude</th>\n",
              "      <th>latitude</th>\n",
              "      <th>housing_median_age</th>\n",
              "      <th>total_rooms</th>\n",
              "      <th>total_bedrooms</th>\n",
              "      <th>population</th>\n",
              "      <th>households</th>\n",
              "      <th>median_income</th>\n",
              "      <th>median_house_value</th>\n",
              "    </tr>\n",
              "  </thead>\n",
              "  <tbody>\n",
              "    <tr>\n",
              "      <th>3227</th>\n",
              "      <td>-117.9</td>\n",
              "      <td>34.1</td>\n",
              "      <td>36.0</td>\n",
              "      <td>3097.0</td>\n",
              "      <td>667.0</td>\n",
              "      <td>1484.0</td>\n",
              "      <td>634.0</td>\n",
              "      <td>3.2</td>\n",
              "      <td>235300.0</td>\n",
              "    </tr>\n",
              "    <tr>\n",
              "      <th>2376</th>\n",
              "      <td>-117.5</td>\n",
              "      <td>34.3</td>\n",
              "      <td>35.0</td>\n",
              "      <td>1529.0</td>\n",
              "      <td>338.0</td>\n",
              "      <td>688.0</td>\n",
              "      <td>256.0</td>\n",
              "      <td>4.1</td>\n",
              "      <td>108000.0</td>\n",
              "    </tr>\n",
              "    <tr>\n",
              "      <th>13380</th>\n",
              "      <td>-121.9</td>\n",
              "      <td>36.6</td>\n",
              "      <td>34.0</td>\n",
              "      <td>2351.0</td>\n",
              "      <td>440.0</td>\n",
              "      <td>1063.0</td>\n",
              "      <td>428.0</td>\n",
              "      <td>3.7</td>\n",
              "      <td>278000.0</td>\n",
              "    </tr>\n",
              "    <tr>\n",
              "      <th>5991</th>\n",
              "      <td>-118.2</td>\n",
              "      <td>33.8</td>\n",
              "      <td>45.0</td>\n",
              "      <td>455.0</td>\n",
              "      <td>92.0</td>\n",
              "      <td>394.0</td>\n",
              "      <td>89.0</td>\n",
              "      <td>5.0</td>\n",
              "      <td>165700.0</td>\n",
              "    </tr>\n",
              "    <tr>\n",
              "      <th>5629</th>\n",
              "      <td>-118.2</td>\n",
              "      <td>34.0</td>\n",
              "      <td>44.0</td>\n",
              "      <td>1629.0</td>\n",
              "      <td>420.0</td>\n",
              "      <td>1893.0</td>\n",
              "      <td>387.0</td>\n",
              "      <td>2.3</td>\n",
              "      <td>137500.0</td>\n",
              "    </tr>\n",
              "  </tbody>\n",
              "</table>\n",
              "</div>"
            ],
            "text/plain": [
              "       longitude  latitude  ...  median_income  median_house_value\n",
              "3227      -117.9      34.1  ...            3.2            235300.0\n",
              "2376      -117.5      34.3  ...            4.1            108000.0\n",
              "13380     -121.9      36.6  ...            3.7            278000.0\n",
              "5991      -118.2      33.8  ...            5.0            165700.0\n",
              "5629      -118.2      34.0  ...            2.3            137500.0\n",
              "\n",
              "[5 rows x 9 columns]"
            ]
          },
          "metadata": {
            "tags": []
          },
          "execution_count": 5
        }
      ]
    },
    {
      "cell_type": "code",
      "metadata": {
        "colab": {
          "base_uri": "https://localhost:8080/"
        },
        "id": "fJ_rRNJi6DB4",
        "outputId": "7cd82f98-688f-4615-a3c0-bbac8cc0bc4b"
      },
      "source": [
        "#@title Convert raw values to their Z-scores \r\n",
        "\r\n",
        "# Calculate the Z-scores of each column in the training set:\r\n",
        "train_df_mean = train_df.mean()\r\n",
        "train_df_std = train_df.std()\r\n",
        "train_df_norm = (train_df - train_df_mean)/train_df_std\r\n",
        "\r\n",
        "# Calculate the Z-scores of each column in the test set.\r\n",
        "test_df_mean = test_df.mean()\r\n",
        "test_df_std = test_df.std()\r\n",
        "test_df_norm = (test_df - test_df_mean)/test_df_std\r\n",
        "\r\n",
        "print(\"Normalized the values.\")"
      ],
      "execution_count": 6,
      "outputs": [
        {
          "output_type": "stream",
          "text": [
            "Normalized the values.\n"
          ],
          "name": "stdout"
        }
      ]
    },
    {
      "cell_type": "markdown",
      "metadata": {
        "id": "z0_5L9zF8-dH"
      },
      "source": [
        "## Represent data\r\n",
        "\r\n",
        "The following code cell creates a feature layer containing three features:\r\n",
        "\r\n",
        "* `latitude` X `longitude` (a feature cross)\r\n",
        "* `median_income`\r\n",
        "* `population`\r\n",
        "\r\n",
        "This code cell specifies the features that you'll ultimately train the model on and how each of those features will be represented. The transformations (collected in `my_feature_layer`) don't actually get applied until you pass a DataFrame to it, which will happen when we train the model. "
      ]
    },
    {
      "cell_type": "code",
      "metadata": {
        "id": "6_mhGTaU6IHi"
      },
      "source": [
        "# Create an empty list that will eventually hold all created feature columns.\r\n",
        "feature_columns = []\r\n",
        "\r\n",
        "# We scaled all the columns, including latitude and longitude, into their\r\n",
        "# Z scores. So, instead of picking a resolution in degrees, we're going\r\n",
        "# to use resolution_in_Zs.  A resolution_in_Zs of 1 corresponds to \r\n",
        "# a full standard deviation. \r\n",
        "resolution_in_Zs = 0.3  # 3/10 of a standard deviation.\r\n",
        "\r\n",
        "# Create a bucket feature column for latitude.\r\n",
        "latitude_as_a_numeric_column = tf.feature_column.numeric_column(\"latitude\")\r\n",
        "latitude_boundaries = list(np.arange(int(min(train_df_norm['latitude'])), \r\n",
        "                                     int(max(train_df_norm['latitude'])), \r\n",
        "                                     resolution_in_Zs))\r\n",
        "latitude = tf.feature_column.bucketized_column(latitude_as_a_numeric_column, latitude_boundaries)\r\n",
        "\r\n",
        "longitude_as_a_numeric_column = tf.feature_column.numeric_column(\"longitude\")\r\n",
        "longitude_boundaries = list(np.arange(int(min(train_df_norm['longitude'])), \r\n",
        "                                      int(max(train_df_norm['longitude'])), \r\n",
        "                                      resolution_in_Zs))\r\n",
        "longitude = tf.feature_column.bucketized_column(longitude_as_a_numeric_column, \r\n",
        "                                                longitude_boundaries)\r\n",
        "# Create a feature cross of latitude and longitude.\r\n",
        "latitude_x_longitude = tf.feature_column.crossed_column([latitude, longitude], hash_bucket_size=100)\r\n",
        "crossed_feature = tf.feature_column.indicator_column(latitude_x_longitude)\r\n",
        "feature_columns.append(crossed_feature)  \r\n",
        "\r\n",
        "# Represent median_income as a floating-point value.\r\n",
        "median_income = tf.feature_column.numeric_column(\"median_income\")\r\n",
        "feature_columns.append(median_income)\r\n",
        "\r\n",
        "# Represent population as a floating-point value.\r\n",
        "population = tf.feature_column.numeric_column(\"population\")\r\n",
        "feature_columns.append(population)\r\n",
        "\r\n",
        "# Convert the list of feature columns into a layer that will later be fed into\r\n",
        "# the model. \r\n",
        "my_feature_layer = tf.keras.layers.DenseFeatures(feature_columns)"
      ],
      "execution_count": 25,
      "outputs": []
    },
    {
      "cell_type": "code",
      "metadata": {
        "colab": {
          "base_uri": "https://localhost:8080/"
        },
        "id": "VMSPu7Xc9EdP",
        "outputId": "d3868cdb-c1f4-4ef4-8205-4c775275feb5"
      },
      "source": [
        "#@title Define the plotting function.\r\n",
        "\r\n",
        "def plot_the_loss_curve(epochs, mse):\r\n",
        "  \"\"\"Plot a curve of loss vs. epoch.\"\"\"\r\n",
        "\r\n",
        "  plt.figure()\r\n",
        "  plt.xlabel(\"Epoch\")\r\n",
        "  plt.ylabel(\"Mean Squared Error\")\r\n",
        "\r\n",
        "  plt.plot(epochs, mse, label=\"Loss\")\r\n",
        "  plt.legend()\r\n",
        "  plt.ylim([mse.min()*0.95, mse.max() * 1.03])\r\n",
        "  plt.show()  \r\n",
        "\r\n",
        "print(\"Defined the plot_the_loss_curve function.\")"
      ],
      "execution_count": 26,
      "outputs": [
        {
          "output_type": "stream",
          "text": [
            "Defined the plot_the_loss_curve function.\n"
          ],
          "name": "stdout"
        }
      ]
    },
    {
      "cell_type": "code",
      "metadata": {
        "colab": {
          "base_uri": "https://localhost:8080/"
        },
        "id": "-2wS3mB3XPsY",
        "outputId": "586b0df7-0e54-4530-a2d2-d492fa3b47ab"
      },
      "source": [
        "#title Define functions to create and train a linear regression model\r\n",
        "def create_model(my_learning_rate, feature_layer):\r\n",
        "  \"\"\"Create and compile a simple linear regression model.\"\"\"\r\n",
        "  # Most simple tf.keras models are sequential.\r\n",
        "  model = tf.keras.models.Sequential()\r\n",
        "\r\n",
        "  # Add the layer containing the feature columns to the model.\r\n",
        "  model.add(feature_layer)\r\n",
        "\r\n",
        "  # Add one linear layer to the model to yield a simple linear regressor.\r\n",
        "  model.add(tf.keras.layers.Dense(units=1, input_shape=(1,)))\r\n",
        "\r\n",
        "  # Construct the layers into a model that TensorFlow can execute.\r\n",
        "  model.compile(optimizer=tf.keras.optimizers.RMSprop(lr=my_learning_rate),\r\n",
        "                loss=\"mean_squared_error\",\r\n",
        "                metrics=[tf.keras.metrics.MeanSquaredError()])\r\n",
        "\r\n",
        "  return model           \r\n",
        "\r\n",
        "\r\n",
        "def train_model(model, dataset, epochs, batch_size, label_name):\r\n",
        "  \"\"\"Feed a dataset into the model in order to train it.\"\"\"\r\n",
        "\r\n",
        "  # Split the dataset into features and label.\r\n",
        "  features = {name:np.array(value) for name, value in dataset.items()}\r\n",
        "  label = np.array(features.pop(label_name))\r\n",
        "  history = model.fit(x=features, y=label, batch_size=batch_size,\r\n",
        "                      epochs=epochs, shuffle=True)\r\n",
        "\r\n",
        "  # Get details that will be useful for plotting the loss curve.\r\n",
        "  epochs = history.epoch\r\n",
        "  hist = pd.DataFrame(history.history)\r\n",
        "  rmse = hist[\"mean_squared_error\"]\r\n",
        "\r\n",
        "  return epochs, rmse   \r\n",
        "\r\n",
        "print(\"Defined the create_model and train_model functions.\")"
      ],
      "execution_count": 27,
      "outputs": [
        {
          "output_type": "stream",
          "text": [
            "Defined the create_model and train_model functions.\n"
          ],
          "name": "stdout"
        }
      ]
    },
    {
      "cell_type": "code",
      "metadata": {
        "id": "Snw8i_pTbKEJ"
      },
      "source": [
        "tf.keras.layers.Dense?"
      ],
      "execution_count": 29,
      "outputs": []
    },
    {
      "cell_type": "code",
      "metadata": {
        "colab": {
          "base_uri": "https://localhost:8080/",
          "height": 979
        },
        "id": "GAvQ1iUnXUaD",
        "outputId": "678325ba-0c51-47ac-b06f-92f7b5d636a8"
      },
      "source": [
        "# The following variables are the hyperparameters.\r\n",
        "learning_rate = 0.01\r\n",
        "epochs = 15\r\n",
        "batch_size = 1000\r\n",
        "label_name = \"median_house_value\"\r\n",
        "\r\n",
        "# Establish the model's topography.\r\n",
        "my_model = create_model(learning_rate, my_feature_layer)\r\n",
        "\r\n",
        "# Train the model on the normalized training set.\r\n",
        "epochs, mse = train_model(my_model, train_df_norm, epochs, batch_size, label_name)\r\n",
        "plot_the_loss_curve(epochs, mse)\r\n",
        "\r\n",
        "test_features = {name:np.array(value) for name, value in test_df_norm.items()}\r\n",
        "test_label = np.array(test_features.pop(label_name)) # isolate the label\r\n",
        "print(\"\\n Evaluate the linear regression model against the test set:\")\r\n",
        "my_model.evaluate(x = test_features, y = test_label, batch_size=batch_size)"
      ],
      "execution_count": 28,
      "outputs": [
        {
          "output_type": "stream",
          "text": [
            "Epoch 1/15\n",
            "WARNING:tensorflow:Layers in a Sequential model should only have a single input tensor, but we receive a <class 'dict'> input: {'longitude': <tf.Tensor 'ExpandDims_3:0' shape=(1000, 1) dtype=float32>, 'latitude': <tf.Tensor 'ExpandDims_2:0' shape=(1000, 1) dtype=float32>, 'housing_median_age': <tf.Tensor 'ExpandDims_1:0' shape=(1000, 1) dtype=float32>, 'total_rooms': <tf.Tensor 'ExpandDims_7:0' shape=(1000, 1) dtype=float32>, 'total_bedrooms': <tf.Tensor 'ExpandDims_6:0' shape=(1000, 1) dtype=float32>, 'population': <tf.Tensor 'ExpandDims_5:0' shape=(1000, 1) dtype=float32>, 'households': <tf.Tensor 'ExpandDims:0' shape=(1000, 1) dtype=float32>, 'median_income': <tf.Tensor 'ExpandDims_4:0' shape=(1000, 1) dtype=float32>}\n",
            "Consider rewriting this model with the Functional API.\n",
            "WARNING:tensorflow:Layers in a Sequential model should only have a single input tensor, but we receive a <class 'dict'> input: {'longitude': <tf.Tensor 'ExpandDims_3:0' shape=(1000, 1) dtype=float32>, 'latitude': <tf.Tensor 'ExpandDims_2:0' shape=(1000, 1) dtype=float32>, 'housing_median_age': <tf.Tensor 'ExpandDims_1:0' shape=(1000, 1) dtype=float32>, 'total_rooms': <tf.Tensor 'ExpandDims_7:0' shape=(1000, 1) dtype=float32>, 'total_bedrooms': <tf.Tensor 'ExpandDims_6:0' shape=(1000, 1) dtype=float32>, 'population': <tf.Tensor 'ExpandDims_5:0' shape=(1000, 1) dtype=float32>, 'households': <tf.Tensor 'ExpandDims:0' shape=(1000, 1) dtype=float32>, 'median_income': <tf.Tensor 'ExpandDims_4:0' shape=(1000, 1) dtype=float32>}\n",
            "Consider rewriting this model with the Functional API.\n",
            "17/17 [==============================] - 1s 2ms/step - loss: 0.7252 - mean_squared_error: 0.7252\n",
            "Epoch 2/15\n",
            "17/17 [==============================] - 0s 2ms/step - loss: 0.4810 - mean_squared_error: 0.4810\n",
            "Epoch 3/15\n",
            "17/17 [==============================] - 0s 2ms/step - loss: 0.4143 - mean_squared_error: 0.4143\n",
            "Epoch 4/15\n",
            "17/17 [==============================] - 0s 2ms/step - loss: 0.3946 - mean_squared_error: 0.3946\n",
            "Epoch 5/15\n",
            "17/17 [==============================] - 0s 2ms/step - loss: 0.3754 - mean_squared_error: 0.3754\n",
            "Epoch 6/15\n",
            "17/17 [==============================] - 0s 2ms/step - loss: 0.3591 - mean_squared_error: 0.3591\n",
            "Epoch 7/15\n",
            "17/17 [==============================] - 0s 2ms/step - loss: 0.3568 - mean_squared_error: 0.3568\n",
            "Epoch 8/15\n",
            "17/17 [==============================] - 0s 2ms/step - loss: 0.3731 - mean_squared_error: 0.3731\n",
            "Epoch 9/15\n",
            "17/17 [==============================] - 0s 2ms/step - loss: 0.3622 - mean_squared_error: 0.3622\n",
            "Epoch 10/15\n",
            "17/17 [==============================] - 0s 2ms/step - loss: 0.3552 - mean_squared_error: 0.3552\n",
            "Epoch 11/15\n",
            "17/17 [==============================] - 0s 2ms/step - loss: 0.3599 - mean_squared_error: 0.3599\n",
            "Epoch 12/15\n",
            "17/17 [==============================] - 0s 2ms/step - loss: 0.3602 - mean_squared_error: 0.3602\n",
            "Epoch 13/15\n",
            "17/17 [==============================] - 0s 2ms/step - loss: 0.3615 - mean_squared_error: 0.3615\n",
            "Epoch 14/15\n",
            "17/17 [==============================] - 0s 2ms/step - loss: 0.3476 - mean_squared_error: 0.3476\n",
            "Epoch 15/15\n",
            "17/17 [==============================] - 0s 3ms/step - loss: 0.3519 - mean_squared_error: 0.3519\n"
          ],
          "name": "stdout"
        },
        {
          "output_type": "display_data",
          "data": {
            "image/png": "[encoded data removed]",
            "text/plain": [
              "<Figure size 432x288 with 1 Axes>"
            ]
          },
          "metadata": {
            "tags": [],
            "needs_background": "light"
          }
        },
        {
          "output_type": "stream",
          "text": [
            "\n",
            " Evaluate the linear regression model against the test set:\n",
            "WARNING:tensorflow:Layers in a Sequential model should only have a single input tensor, but we receive a <class 'dict'> input: {'longitude': <tf.Tensor 'ExpandDims_3:0' shape=(1000, 1) dtype=float32>, 'latitude': <tf.Tensor 'ExpandDims_2:0' shape=(1000, 1) dtype=float32>, 'housing_median_age': <tf.Tensor 'ExpandDims_1:0' shape=(1000, 1) dtype=float32>, 'total_rooms': <tf.Tensor 'ExpandDims_7:0' shape=(1000, 1) dtype=float32>, 'total_bedrooms': <tf.Tensor 'ExpandDims_6:0' shape=(1000, 1) dtype=float32>, 'population': <tf.Tensor 'ExpandDims_5:0' shape=(1000, 1) dtype=float32>, 'households': <tf.Tensor 'ExpandDims:0' shape=(1000, 1) dtype=float32>, 'median_income': <tf.Tensor 'ExpandDims_4:0' shape=(1000, 1) dtype=float32>}\n",
            "Consider rewriting this model with the Functional API.\n",
            "3/3 [==============================] - 0s 4ms/step - loss: 0.3953 - mean_squared_error: 0.3953\n"
          ],
          "name": "stdout"
        },
        {
          "output_type": "execute_result",
          "data": {
            "text/plain": [
              "[0.39529672265052795, 0.39529672265052795]"
            ]
          },
          "metadata": {
            "tags": []
          },
          "execution_count": 28
        }
      ]
    },
    {
      "cell_type": "markdown",
      "metadata": {
        "id": "-zdDC_d2bj0Y"
      },
      "source": [
        "## Define a deep neural net model\r\n",
        "\r\n",
        "The `create_model` function defines the topography of the deep neural net, specifying the following:\r\n",
        "\r\n",
        "* The number of [layers](https://developers.google.com/machine-learning/glossary/#layer) in the deep neural net.\r\n",
        "* The number of [nodes](https://developers.google.com/machine-learning/glossary/#node) in each layer.\r\n",
        "\r\n",
        "The `create_model` function also defines the [activation function](https://developers.google.com/machine-learning/glossary/#activation_function) of each layer."
      ]
    },
    {
      "cell_type": "code",
      "metadata": {
        "id": "V7xVir5SblGo"
      },
      "source": [
        "def create_model(my_learning_rate, my_feature_layer):\r\n",
        "  \"\"\"Create and compile a simple linear regression model.\"\"\"\r\n",
        "  # Most simple tf.keras models are sequential.\r\n",
        "  model = tf.keras.models.Sequential()\r\n",
        "\r\n",
        "  # Add the layer containing the feature columns to the model.\r\n",
        "  model.add(my_feature_layer)\r\n",
        "\r\n",
        "  # Describe the topography of the model by calling the tf.keras.layers.Dense\r\n",
        "  # method once for each layer. We've specified the following arguments:\r\n",
        "  #   * units specifies the number of nodes in this layer.\r\n",
        "  #   * activation specifies the activation function (Rectified Linear Unit).\r\n",
        "  #   * name is just a string that can be useful when debugging.\r\n",
        "\r\n",
        "  # Define the first hidden layer with 20 nodes.   \r\n",
        "  model.add(tf.keras.layers.Dense(units=12, \r\n",
        "                                  activation='relu', \r\n",
        "                                  name='Hidden1'))\r\n",
        "  \r\n",
        "  # Define the second hidden layer with 12 nodes. \r\n",
        "  model.add(tf.keras.layers.Dense(units=10, \r\n",
        "                                  activation='relu', \r\n",
        "                                  name='Hidden2'))\r\n",
        "  \r\n",
        "  # Define the output layer.\r\n",
        "  model.add(tf.keras.layers.Dense(units=1,  \r\n",
        "                                  name='Output'))                              \r\n",
        "  \r\n",
        "  model.compile(optimizer=tf.keras.optimizers.Adam(lr=my_learning_rate),\r\n",
        "                loss=\"mean_squared_error\",\r\n",
        "                metrics=[tf.keras.metrics.MeanSquaredError()])\r\n",
        "\r\n",
        "  return model"
      ],
      "execution_count": 40,
      "outputs": []
    },
    {
      "cell_type": "code",
      "metadata": {
        "id": "DAgdBKR0bwpP"
      },
      "source": [
        "def train_model(model, dataset, epochs, label_name,\r\n",
        "                batch_size):\r\n",
        "  \"\"\"Train the model by feeding it data.\"\"\"\r\n",
        "\r\n",
        "  # Split the dataset into features and label.\r\n",
        "  features = {name:np.array(value) for name, value in dataset.items()}\r\n",
        "  label = np.array(features.pop(label_name))\r\n",
        "  history = model.fit(x=features, y=label, batch_size=batch_size,\r\n",
        "                      epochs=epochs, shuffle=True) \r\n",
        "\r\n",
        "  # The list of epochs is stored separately from the rest of history.\r\n",
        "  epochs = history.epoch\r\n",
        "  \r\n",
        "  # To track the progression of training, gather a snapshot\r\n",
        "  # of the model's mean squared error at each epoch. \r\n",
        "  hist = pd.DataFrame(history.history)\r\n",
        "  mse = hist[\"mean_squared_error\"]\r\n",
        "\r\n",
        "  return epochs, mse"
      ],
      "execution_count": 41,
      "outputs": []
    },
    {
      "cell_type": "code",
      "metadata": {
        "colab": {
          "base_uri": "https://localhost:8080/",
          "height": 1000
        },
        "id": "z_mG4jxHcOnP",
        "outputId": "b4d62324-5de0-4a35-b668-1437f23cdc38"
      },
      "source": [
        "# The following variables are the hyperparameters.\r\n",
        "learning_rate = 0.01\r\n",
        "epochs = 40\r\n",
        "batch_size = 1000\r\n",
        "\r\n",
        "# Specify the label\r\n",
        "label_name = \"median_house_value\"\r\n",
        "\r\n",
        "# Establish the model's topography.\r\n",
        "my_model = create_model(learning_rate, my_feature_layer)\r\n",
        "\r\n",
        "# Train the model on the normalized training set. We're passing the entire\r\n",
        "# normalized training set, but the model will only use the features\r\n",
        "# defined by the feature_layer.\r\n",
        "epochs, mse = train_model(my_model, train_df_norm, epochs, \r\n",
        "                          label_name, batch_size)\r\n",
        "plot_the_loss_curve(epochs, mse)\r\n",
        "\r\n",
        "# After building a model against the training set, test that model\r\n",
        "# against the test set.\r\n",
        "test_features = {name:np.array(value) for name, value in test_df_norm.items()}\r\n",
        "test_label = np.array(test_features.pop(label_name)) # isolate the label\r\n",
        "print(\"\\n Evaluate the new model against the test set:\")\r\n",
        "my_model.evaluate(x = test_features, y = test_label, batch_size=batch_size)"
      ],
      "execution_count": 43,
      "outputs": [
        {
          "output_type": "stream",
          "text": [
            "Epoch 1/40\n",
            "WARNING:tensorflow:Layers in a Sequential model should only have a single input tensor, but we receive a <class 'dict'> input: {'longitude': <tf.Tensor 'ExpandDims_3:0' shape=(1000, 1) dtype=float32>, 'latitude': <tf.Tensor 'ExpandDims_2:0' shape=(1000, 1) dtype=float32>, 'housing_median_age': <tf.Tensor 'ExpandDims_1:0' shape=(1000, 1) dtype=float32>, 'total_rooms': <tf.Tensor 'ExpandDims_7:0' shape=(1000, 1) dtype=float32>, 'total_bedrooms': <tf.Tensor 'ExpandDims_6:0' shape=(1000, 1) dtype=float32>, 'population': <tf.Tensor 'ExpandDims_5:0' shape=(1000, 1) dtype=float32>, 'households': <tf.Tensor 'ExpandDims:0' shape=(1000, 1) dtype=float32>, 'median_income': <tf.Tensor 'ExpandDims_4:0' shape=(1000, 1) dtype=float32>}\n",
            "Consider rewriting this model with the Functional API.\n",
            "WARNING:tensorflow:Layers in a Sequential model should only have a single input tensor, but we receive a <class 'dict'> input: {'longitude': <tf.Tensor 'ExpandDims_3:0' shape=(1000, 1) dtype=float32>, 'latitude': <tf.Tensor 'ExpandDims_2:0' shape=(1000, 1) dtype=float32>, 'housing_median_age': <tf.Tensor 'ExpandDims_1:0' shape=(1000, 1) dtype=float32>, 'total_rooms': <tf.Tensor 'ExpandDims_7:0' shape=(1000, 1) dtype=float32>, 'total_bedrooms': <tf.Tensor 'ExpandDims_6:0' shape=(1000, 1) dtype=float32>, 'population': <tf.Tensor 'ExpandDims_5:0' shape=(1000, 1) dtype=float32>, 'households': <tf.Tensor 'ExpandDims:0' shape=(1000, 1) dtype=float32>, 'median_income': <tf.Tensor 'ExpandDims_4:0' shape=(1000, 1) dtype=float32>}\n",
            "Consider rewriting this model with the Functional API.\n",
            "17/17 [==============================] - 1s 3ms/step - loss: 0.7116 - mean_squared_error: 0.7116\n",
            "Epoch 2/40\n",
            "17/17 [==============================] - 0s 3ms/step - loss: 0.3881 - mean_squared_error: 0.3881\n",
            "Epoch 3/40\n",
            "17/17 [==============================] - 0s 3ms/step - loss: 0.3422 - mean_squared_error: 0.3422\n",
            "Epoch 4/40\n",
            "17/17 [==============================] - 0s 3ms/step - loss: 0.3383 - mean_squared_error: 0.3383\n",
            "Epoch 5/40\n",
            "17/17 [==============================] - 0s 3ms/step - loss: 0.3443 - mean_squared_error: 0.3443\n",
            "Epoch 6/40\n",
            "17/17 [==============================] - 0s 3ms/step - loss: 0.3309 - mean_squared_error: 0.3309\n",
            "Epoch 7/40\n",
            "17/17 [==============================] - 0s 3ms/step - loss: 0.3338 - mean_squared_error: 0.3338\n",
            "Epoch 8/40\n",
            "17/17 [==============================] - 0s 3ms/step - loss: 0.3382 - mean_squared_error: 0.3382\n",
            "Epoch 9/40\n",
            "17/17 [==============================] - 0s 3ms/step - loss: 0.3276 - mean_squared_error: 0.3276\n",
            "Epoch 10/40\n",
            "17/17 [==============================] - 0s 3ms/step - loss: 0.3337 - mean_squared_error: 0.3337\n",
            "Epoch 11/40\n",
            "17/17 [==============================] - 0s 3ms/step - loss: 0.3265 - mean_squared_error: 0.3265\n",
            "Epoch 12/40\n",
            "17/17 [==============================] - 0s 3ms/step - loss: 0.3313 - mean_squared_error: 0.3313\n",
            "Epoch 13/40\n",
            "17/17 [==============================] - 0s 3ms/step - loss: 0.3241 - mean_squared_error: 0.3241\n",
            "Epoch 14/40\n",
            "17/17 [==============================] - 0s 3ms/step - loss: 0.3290 - mean_squared_error: 0.3290\n",
            "Epoch 15/40\n",
            "17/17 [==============================] - 0s 3ms/step - loss: 0.3197 - mean_squared_error: 0.3197\n",
            "Epoch 16/40\n",
            "17/17 [==============================] - 0s 3ms/step - loss: 0.3202 - mean_squared_error: 0.3202\n",
            "Epoch 17/40\n",
            "17/17 [==============================] - 0s 3ms/step - loss: 0.3251 - mean_squared_error: 0.3251\n",
            "Epoch 18/40\n",
            "17/17 [==============================] - 0s 4ms/step - loss: 0.3196 - mean_squared_error: 0.3196\n",
            "Epoch 19/40\n",
            "17/17 [==============================] - 0s 4ms/step - loss: 0.3196 - mean_squared_error: 0.3196\n",
            "Epoch 20/40\n",
            "17/17 [==============================] - 0s 3ms/step - loss: 0.3166 - mean_squared_error: 0.3166\n",
            "Epoch 21/40\n",
            "17/17 [==============================] - 0s 3ms/step - loss: 0.3229 - mean_squared_error: 0.3229\n",
            "Epoch 22/40\n",
            "17/17 [==============================] - 0s 4ms/step - loss: 0.3209 - mean_squared_error: 0.3209\n",
            "Epoch 23/40\n",
            "17/17 [==============================] - 0s 3ms/step - loss: 0.3295 - mean_squared_error: 0.3295\n",
            "Epoch 24/40\n",
            "17/17 [==============================] - 0s 4ms/step - loss: 0.3203 - mean_squared_error: 0.3203\n",
            "Epoch 25/40\n",
            "17/17 [==============================] - 0s 3ms/step - loss: 0.3239 - mean_squared_error: 0.3239\n",
            "Epoch 26/40\n",
            "17/17 [==============================] - 0s 3ms/step - loss: 0.3171 - mean_squared_error: 0.3171\n",
            "Epoch 27/40\n",
            "17/17 [==============================] - 0s 3ms/step - loss: 0.3167 - mean_squared_error: 0.3167\n",
            "Epoch 28/40\n",
            "17/17 [==============================] - 0s 3ms/step - loss: 0.3299 - mean_squared_error: 0.3299\n",
            "Epoch 29/40\n",
            "17/17 [==============================] - 0s 3ms/step - loss: 0.3175 - mean_squared_error: 0.3175\n",
            "Epoch 30/40\n",
            "17/17 [==============================] - 0s 3ms/step - loss: 0.3220 - mean_squared_error: 0.3220\n",
            "Epoch 31/40\n",
            "17/17 [==============================] - 0s 4ms/step - loss: 0.3236 - mean_squared_error: 0.3236\n",
            "Epoch 32/40\n",
            "17/17 [==============================] - 0s 3ms/step - loss: 0.3211 - mean_squared_error: 0.3211\n",
            "Epoch 33/40\n",
            "17/17 [==============================] - 0s 3ms/step - loss: 0.3217 - mean_squared_error: 0.3217\n",
            "Epoch 34/40\n",
            "17/17 [==============================] - 0s 4ms/step - loss: 0.3228 - mean_squared_error: 0.3228\n",
            "Epoch 35/40\n",
            "17/17 [==============================] - 0s 4ms/step - loss: 0.3172 - mean_squared_error: 0.3172\n",
            "Epoch 36/40\n",
            "17/17 [==============================] - 0s 4ms/step - loss: 0.3279 - mean_squared_error: 0.3279\n",
            "Epoch 37/40\n",
            "17/17 [==============================] - 0s 3ms/step - loss: 0.3165 - mean_squared_error: 0.3165\n",
            "Epoch 38/40\n",
            "17/17 [==============================] - 0s 4ms/step - loss: 0.3236 - mean_squared_error: 0.3236\n",
            "Epoch 39/40\n",
            "17/17 [==============================] - 0s 3ms/step - loss: 0.3201 - mean_squared_error: 0.3201\n",
            "Epoch 40/40\n",
            "17/17 [==============================] - 0s 3ms/step - loss: 0.3157 - mean_squared_error: 0.3157\n"
          ],
          "name": "stdout"
        },
        {
          "output_type": "display_data",
          "data": {
            "image/png": "[encoded data removed]",
            "text/plain": [
              "<Figure size 432x288 with 1 Axes>"
            ]
          },
          "metadata": {
            "tags": [],
            "needs_background": "light"
          }
        },
        {
          "output_type": "stream",
          "text": [
            "\n",
            " Evaluate the new model against the test set:\n",
            "WARNING:tensorflow:Layers in a Sequential model should only have a single input tensor, but we receive a <class 'dict'> input: {'longitude': <tf.Tensor 'ExpandDims_3:0' shape=(1000, 1) dtype=float32>, 'latitude': <tf.Tensor 'ExpandDims_2:0' shape=(1000, 1) dtype=float32>, 'housing_median_age': <tf.Tensor 'ExpandDims_1:0' shape=(1000, 1) dtype=float32>, 'total_rooms': <tf.Tensor 'ExpandDims_7:0' shape=(1000, 1) dtype=float32>, 'total_bedrooms': <tf.Tensor 'ExpandDims_6:0' shape=(1000, 1) dtype=float32>, 'population': <tf.Tensor 'ExpandDims_5:0' shape=(1000, 1) dtype=float32>, 'households': <tf.Tensor 'ExpandDims:0' shape=(1000, 1) dtype=float32>, 'median_income': <tf.Tensor 'ExpandDims_4:0' shape=(1000, 1) dtype=float32>}\n",
            "Consider rewriting this model with the Functional API.\n",
            "WARNING:tensorflow:5 out of the last 13 calls to <function Model.make_test_function.<locals>.test_function at 0x7f0f8d76c950> triggered tf.function retracing. Tracing is expensive and the excessive number of tracings could be due to (1) creating @tf.function repeatedly in a loop, (2) passing tensors with different shapes, (3) passing Python objects instead of tensors. For (1), please define your @tf.function outside of the loop. For (2), @tf.function has experimental_relax_shapes=True option that relaxes argument shapes that can avoid unnecessary retracing. For (3), please refer to https://www.tensorflow.org/guide/function#controlling_retracing and https://www.tensorflow.org/api_docs/python/tf/function for  more details.\n",
            "3/3 [==============================] - 0s 5ms/step - loss: 0.3619 - mean_squared_error: 0.3619\n"
          ],
          "name": "stdout"
        },
        {
          "output_type": "execute_result",
          "data": {
            "text/plain": [
              "[0.36186519265174866, 0.36186519265174866]"
            ]
          },
          "metadata": {
            "tags": []
          },
          "execution_count": 43
        }
      ]
    },
    {
      "cell_type": "markdown",
      "metadata": {
        "id": "zwAmesC2c-hL"
      },
      "source": [
        "#DNN will make better predictions than the linear regression model."
      ]
    },
    {
      "cell_type": "code",
      "metadata": {
        "id": "ofr7myFtdEBZ"
      },
      "source": [
        ""
      ],
      "execution_count": null,
      "outputs": []
    },
    {
      "cell_type": "markdown",
      "metadata": {
        "id": "ph59lfGVgpDy"
      },
      "source": [
        "##Regularization"
      ]
    },
    {
      "cell_type": "markdown",
      "metadata": {
        "id": "UjetFF3HgrZ2"
      },
      "source": [
        ""
      ]
    },
    {
      "cell_type": "code",
      "metadata": {
        "id": "URqz4Mu3gvDu"
      },
      "source": [
        "def create_model(my_learning_rate, my_feature_layer):\r\n",
        "  \"\"\"Create and compile a simple linear regression model.\"\"\"\r\n",
        "  # Most simple tf.keras models are sequential.\r\n",
        "  model = tf.keras.models.Sequential()\r\n",
        "\r\n",
        "  # Add the layer containing the feature columns to the model.\r\n",
        "  model.add(my_feature_layer)\r\n",
        "\r\n",
        "  # Describe the topography of the model by calling the tf.keras.layers.Dense\r\n",
        "  # method once for each layer. We've specified the following arguments:\r\n",
        "  #   * units specifies the number of nodes in this layer.\r\n",
        "  #   * activation specifies the activation function (Rectified Linear Unit).\r\n",
        "  #   * name is just a string that can be useful when debugging.\r\n",
        "\r\n",
        "  # Define the first hidden layer with 20 nodes.   \r\n",
        "  model.add(tf.keras.layers.Dense(units=10, \r\n",
        "                                  activation='relu', \r\n",
        "                           #       kernel_regularizer=tf.keras.regularizers.l2(0.02),\r\n",
        "                                  name='Hidden1'))\r\n",
        "  \r\n",
        "  #model.add(tf.keras.layers.Dropout(rate=0.05))\r\n",
        "  # Define the second hidden layer with 12 nodes. \r\n",
        "  model.add(tf.keras.layers.Dense(units=5, \r\n",
        "                                  activation='relu', \r\n",
        "                          #      kernel_regularizer=tf.keras.regularizers.l2(0.02),\r\n",
        "                                  name='Hidden2'))\r\n",
        "  \r\n",
        "  # Define the output layer.\r\n",
        "  model.add(tf.keras.layers.Dense(units=1, \r\n",
        "                                   \r\n",
        "                                  name='Output'))                              \r\n",
        "  \r\n",
        "  model.compile(optimizer=tf.keras.optimizers.Adam(lr=my_learning_rate),\r\n",
        "                loss=\"mean_squared_error\",\r\n",
        "                metrics=[tf.keras.metrics.MeanSquaredError()])\r\n",
        "\r\n",
        "  return model"
      ],
      "execution_count": 85,
      "outputs": []
    },
    {
      "cell_type": "code",
      "metadata": {
        "colab": {
          "base_uri": "https://localhost:8080/",
          "height": 1000
        },
        "id": "FB-VhNvMhYCX",
        "outputId": "9871041d-1783-460c-fe9c-96cbb8620822"
      },
      "source": [
        "# The following variables are the hyperparameters.\r\n",
        "learning_rate = 0.005\r\n",
        "epochs = 140\r\n",
        "batch_size = 1000\r\n",
        "\r\n",
        "label_name = \"median_house_value\"\r\n",
        "\r\n",
        "# Establish the model's topography.\r\n",
        "my_model = create_model(learning_rate, my_feature_layer)\r\n",
        "\r\n",
        "# Train the model on the normalized training set.\r\n",
        "epochs, mse = train_model(my_model, train_df_norm, epochs, \r\n",
        "                          label_name, batch_size)\r\n",
        "plot_the_loss_curve(epochs, mse)\r\n",
        "\r\n",
        "test_features = {name:np.array(value) for name, value in test_df_norm.items()}\r\n",
        "test_label = np.array(test_features.pop(label_name)) # isolate the label\r\n",
        "print(\"\\n Evaluate the new model against the test set:\")\r\n",
        "my_model.evaluate(x = test_features, y = test_label, batch_size=batch_size)"
      ],
      "execution_count": 86,
      "outputs": [
        {
          "output_type": "stream",
          "text": [
            "Epoch 1/140\n",
            "WARNING:tensorflow:Layers in a Sequential model should only have a single input tensor, but we receive a <class 'dict'> input: {'longitude': <tf.Tensor 'ExpandDims_3:0' shape=(1000, 1) dtype=float32>, 'latitude': <tf.Tensor 'ExpandDims_2:0' shape=(1000, 1) dtype=float32>, 'housing_median_age': <tf.Tensor 'ExpandDims_1:0' shape=(1000, 1) dtype=float32>, 'total_rooms': <tf.Tensor 'ExpandDims_7:0' shape=(1000, 1) dtype=float32>, 'total_bedrooms': <tf.Tensor 'ExpandDims_6:0' shape=(1000, 1) dtype=float32>, 'population': <tf.Tensor 'ExpandDims_5:0' shape=(1000, 1) dtype=float32>, 'households': <tf.Tensor 'ExpandDims:0' shape=(1000, 1) dtype=float32>, 'median_income': <tf.Tensor 'ExpandDims_4:0' shape=(1000, 1) dtype=float32>}\n",
            "Consider rewriting this model with the Functional API.\n",
            "WARNING:tensorflow:Layers in a Sequential model should only have a single input tensor, but we receive a <class 'dict'> input: {'longitude': <tf.Tensor 'ExpandDims_3:0' shape=(1000, 1) dtype=float32>, 'latitude': <tf.Tensor 'ExpandDims_2:0' shape=(1000, 1) dtype=float32>, 'housing_median_age': <tf.Tensor 'ExpandDims_1:0' shape=(1000, 1) dtype=float32>, 'total_rooms': <tf.Tensor 'ExpandDims_7:0' shape=(1000, 1) dtype=float32>, 'total_bedrooms': <tf.Tensor 'ExpandDims_6:0' shape=(1000, 1) dtype=float32>, 'population': <tf.Tensor 'ExpandDims_5:0' shape=(1000, 1) dtype=float32>, 'households': <tf.Tensor 'ExpandDims:0' shape=(1000, 1) dtype=float32>, 'median_income': <tf.Tensor 'ExpandDims_4:0' shape=(1000, 1) dtype=float32>}\n",
            "Consider rewriting this model with the Functional API.\n",
            "17/17 [==============================] - 1s 4ms/step - loss: 0.9342 - mean_squared_error: 0.9342\n",
            "Epoch 2/140\n",
            "17/17 [==============================] - 0s 4ms/step - loss: 0.5995 - mean_squared_error: 0.5995\n",
            "Epoch 3/140\n",
            "17/17 [==============================] - 0s 4ms/step - loss: 0.4345 - mean_squared_error: 0.4345\n",
            "Epoch 4/140\n",
            "17/17 [==============================] - 0s 4ms/step - loss: 0.3770 - mean_squared_error: 0.3770\n",
            "Epoch 5/140\n",
            "17/17 [==============================] - 0s 3ms/step - loss: 0.3453 - mean_squared_error: 0.3453\n",
            "Epoch 6/140\n",
            "17/17 [==============================] - 0s 3ms/step - loss: 0.3457 - mean_squared_error: 0.3457\n",
            "Epoch 7/140\n",
            "17/17 [==============================] - 0s 3ms/step - loss: 0.3334 - mean_squared_error: 0.3334\n",
            "Epoch 8/140\n",
            "17/17 [==============================] - 0s 3ms/step - loss: 0.3354 - mean_squared_error: 0.3354\n",
            "Epoch 9/140\n",
            "17/17 [==============================] - 0s 3ms/step - loss: 0.3391 - mean_squared_error: 0.3391\n",
            "Epoch 10/140\n",
            "17/17 [==============================] - 0s 3ms/step - loss: 0.3412 - mean_squared_error: 0.3412\n",
            "Epoch 11/140\n",
            "17/17 [==============================] - 0s 4ms/step - loss: 0.3333 - mean_squared_error: 0.3333\n",
            "Epoch 12/140\n",
            "17/17 [==============================] - 0s 3ms/step - loss: 0.3293 - mean_squared_error: 0.3293\n",
            "Epoch 13/140\n",
            "17/17 [==============================] - 0s 3ms/step - loss: 0.3315 - mean_squared_error: 0.3315\n",
            "Epoch 14/140\n",
            "17/17 [==============================] - 0s 3ms/step - loss: 0.3361 - mean_squared_error: 0.3361\n",
            "Epoch 15/140\n",
            "17/17 [==============================] - 0s 3ms/step - loss: 0.3298 - mean_squared_error: 0.3298\n",
            "Epoch 16/140\n",
            "17/17 [==============================] - 0s 3ms/step - loss: 0.3326 - mean_squared_error: 0.3326\n",
            "Epoch 17/140\n",
            "17/17 [==============================] - 0s 3ms/step - loss: 0.3281 - mean_squared_error: 0.3281\n",
            "Epoch 18/140\n",
            "17/17 [==============================] - 0s 3ms/step - loss: 0.3303 - mean_squared_error: 0.3303\n",
            "Epoch 19/140\n",
            "17/17 [==============================] - 0s 4ms/step - loss: 0.3292 - mean_squared_error: 0.3292\n",
            "Epoch 20/140\n",
            "17/17 [==============================] - 0s 3ms/step - loss: 0.3300 - mean_squared_error: 0.3300\n",
            "Epoch 21/140\n",
            "17/17 [==============================] - 0s 3ms/step - loss: 0.3360 - mean_squared_error: 0.3360\n",
            "Epoch 22/140\n",
            "17/17 [==============================] - 0s 3ms/step - loss: 0.3287 - mean_squared_error: 0.3287\n",
            "Epoch 23/140\n",
            "17/17 [==============================] - 0s 4ms/step - loss: 0.3256 - mean_squared_error: 0.3256\n",
            "Epoch 24/140\n",
            "17/17 [==============================] - 0s 3ms/step - loss: 0.3235 - mean_squared_error: 0.3235\n",
            "Epoch 25/140\n",
            "17/17 [==============================] - 0s 3ms/step - loss: 0.3233 - mean_squared_error: 0.3233\n",
            "Epoch 26/140\n",
            "17/17 [==============================] - 0s 3ms/step - loss: 0.3351 - mean_squared_error: 0.3351\n",
            "Epoch 27/140\n",
            "17/17 [==============================] - 0s 4ms/step - loss: 0.3275 - mean_squared_error: 0.3275\n",
            "Epoch 28/140\n",
            "17/17 [==============================] - 0s 4ms/step - loss: 0.3298 - mean_squared_error: 0.3298\n",
            "Epoch 29/140\n",
            "17/17 [==============================] - 0s 3ms/step - loss: 0.3307 - mean_squared_error: 0.3307\n",
            "Epoch 30/140\n",
            "17/17 [==============================] - 0s 3ms/step - loss: 0.3244 - mean_squared_error: 0.3244\n",
            "Epoch 31/140\n",
            "17/17 [==============================] - 0s 4ms/step - loss: 0.3348 - mean_squared_error: 0.3348\n",
            "Epoch 32/140\n",
            "17/17 [==============================] - 0s 3ms/step - loss: 0.3215 - mean_squared_error: 0.3215\n",
            "Epoch 33/140\n",
            "17/17 [==============================] - 0s 3ms/step - loss: 0.3246 - mean_squared_error: 0.3246\n",
            "Epoch 34/140\n",
            "17/17 [==============================] - 0s 4ms/step - loss: 0.3285 - mean_squared_error: 0.3285\n",
            "Epoch 35/140\n",
            "17/17 [==============================] - 0s 3ms/step - loss: 0.3339 - mean_squared_error: 0.3339\n",
            "Epoch 36/140\n",
            "17/17 [==============================] - 0s 4ms/step - loss: 0.3259 - mean_squared_error: 0.3259\n",
            "Epoch 37/140\n",
            "17/17 [==============================] - 0s 3ms/step - loss: 0.3322 - mean_squared_error: 0.3322\n",
            "Epoch 38/140\n",
            "17/17 [==============================] - 0s 4ms/step - loss: 0.3272 - mean_squared_error: 0.3272\n",
            "Epoch 39/140\n",
            "17/17 [==============================] - 0s 3ms/step - loss: 0.3275 - mean_squared_error: 0.3275\n",
            "Epoch 40/140\n",
            "17/17 [==============================] - 0s 4ms/step - loss: 0.3231 - mean_squared_error: 0.3231\n",
            "Epoch 41/140\n",
            "17/17 [==============================] - 0s 3ms/step - loss: 0.3303 - mean_squared_error: 0.3303\n",
            "Epoch 42/140\n",
            "17/17 [==============================] - 0s 4ms/step - loss: 0.3258 - mean_squared_error: 0.3258\n",
            "Epoch 43/140\n",
            "17/17 [==============================] - 0s 3ms/step - loss: 0.3181 - mean_squared_error: 0.3181\n",
            "Epoch 44/140\n",
            "17/17 [==============================] - 0s 3ms/step - loss: 0.3271 - mean_squared_error: 0.3271\n",
            "Epoch 45/140\n",
            "17/17 [==============================] - 0s 3ms/step - loss: 0.3338 - mean_squared_error: 0.3338\n",
            "Epoch 46/140\n",
            "17/17 [==============================] - 0s 3ms/step - loss: 0.3278 - mean_squared_error: 0.3278\n",
            "Epoch 47/140\n",
            "17/17 [==============================] - 0s 3ms/step - loss: 0.3261 - mean_squared_error: 0.3261\n",
            "Epoch 48/140\n",
            "17/17 [==============================] - 0s 3ms/step - loss: 0.3262 - mean_squared_error: 0.3262\n",
            "Epoch 49/140\n",
            "17/17 [==============================] - 0s 4ms/step - loss: 0.3288 - mean_squared_error: 0.3288\n",
            "Epoch 50/140\n",
            "17/17 [==============================] - 0s 3ms/step - loss: 0.3314 - mean_squared_error: 0.3314\n",
            "Epoch 51/140\n",
            "17/17 [==============================] - 0s 3ms/step - loss: 0.3279 - mean_squared_error: 0.3279\n",
            "Epoch 52/140\n",
            "17/17 [==============================] - 0s 3ms/step - loss: 0.3245 - mean_squared_error: 0.3245\n",
            "Epoch 53/140\n",
            "17/17 [==============================] - 0s 5ms/step - loss: 0.3265 - mean_squared_error: 0.3265\n",
            "Epoch 54/140\n",
            "17/17 [==============================] - 0s 3ms/step - loss: 0.3200 - mean_squared_error: 0.3200\n",
            "Epoch 55/140\n",
            "17/17 [==============================] - 0s 3ms/step - loss: 0.3253 - mean_squared_error: 0.3253\n",
            "Epoch 56/140\n",
            "17/17 [==============================] - 0s 3ms/step - loss: 0.3243 - mean_squared_error: 0.3243\n",
            "Epoch 57/140\n",
            "17/17 [==============================] - 0s 4ms/step - loss: 0.3203 - mean_squared_error: 0.3203\n",
            "Epoch 58/140\n",
            "17/17 [==============================] - 0s 4ms/step - loss: 0.3297 - mean_squared_error: 0.3297\n",
            "Epoch 59/140\n",
            "17/17 [==============================] - 0s 3ms/step - loss: 0.3270 - mean_squared_error: 0.3270\n",
            "Epoch 60/140\n",
            "17/17 [==============================] - 0s 3ms/step - loss: 0.3174 - mean_squared_error: 0.3174\n",
            "Epoch 61/140\n",
            "17/17 [==============================] - 0s 3ms/step - loss: 0.3283 - mean_squared_error: 0.3283\n",
            "Epoch 62/140\n",
            "17/17 [==============================] - 0s 3ms/step - loss: 0.3159 - mean_squared_error: 0.3159\n",
            "Epoch 63/140\n",
            "17/17 [==============================] - 0s 3ms/step - loss: 0.3212 - mean_squared_error: 0.3212\n",
            "Epoch 64/140\n",
            "17/17 [==============================] - 0s 4ms/step - loss: 0.3318 - mean_squared_error: 0.3318\n",
            "Epoch 65/140\n",
            "17/17 [==============================] - 0s 3ms/step - loss: 0.3253 - mean_squared_error: 0.3253\n",
            "Epoch 66/140\n",
            "17/17 [==============================] - 0s 3ms/step - loss: 0.3240 - mean_squared_error: 0.3240\n",
            "Epoch 67/140\n",
            "17/17 [==============================] - 0s 4ms/step - loss: 0.3327 - mean_squared_error: 0.3327\n",
            "Epoch 68/140\n",
            "17/17 [==============================] - 0s 4ms/step - loss: 0.3310 - mean_squared_error: 0.3310\n",
            "Epoch 69/140\n",
            "17/17 [==============================] - 0s 4ms/step - loss: 0.3209 - mean_squared_error: 0.3209\n",
            "Epoch 70/140\n",
            "17/17 [==============================] - 0s 4ms/step - loss: 0.3202 - mean_squared_error: 0.3202\n",
            "Epoch 71/140\n",
            "17/17 [==============================] - 0s 4ms/step - loss: 0.3151 - mean_squared_error: 0.3151\n",
            "Epoch 72/140\n",
            "17/17 [==============================] - 0s 4ms/step - loss: 0.3189 - mean_squared_error: 0.3189\n",
            "Epoch 73/140\n",
            "17/17 [==============================] - 0s 4ms/step - loss: 0.3230 - mean_squared_error: 0.3230\n",
            "Epoch 74/140\n",
            "17/17 [==============================] - 0s 4ms/step - loss: 0.3178 - mean_squared_error: 0.3178\n",
            "Epoch 75/140\n",
            "17/17 [==============================] - 0s 3ms/step - loss: 0.3273 - mean_squared_error: 0.3273\n",
            "Epoch 76/140\n",
            "17/17 [==============================] - 0s 3ms/step - loss: 0.3310 - mean_squared_error: 0.3310\n",
            "Epoch 77/140\n",
            "17/17 [==============================] - 0s 4ms/step - loss: 0.3218 - mean_squared_error: 0.3218\n",
            "Epoch 78/140\n",
            "17/17 [==============================] - 0s 4ms/step - loss: 0.3378 - mean_squared_error: 0.3378\n",
            "Epoch 79/140\n",
            "17/17 [==============================] - 0s 3ms/step - loss: 0.3298 - mean_squared_error: 0.3298\n",
            "Epoch 80/140\n",
            "17/17 [==============================] - 0s 3ms/step - loss: 0.3251 - mean_squared_error: 0.3251\n",
            "Epoch 81/140\n",
            "17/17 [==============================] - 0s 3ms/step - loss: 0.3228 - mean_squared_error: 0.3228\n",
            "Epoch 82/140\n",
            "17/17 [==============================] - 0s 3ms/step - loss: 0.3184 - mean_squared_error: 0.3184\n",
            "Epoch 83/140\n",
            "17/17 [==============================] - 0s 3ms/step - loss: 0.3302 - mean_squared_error: 0.3302\n",
            "Epoch 84/140\n",
            "17/17 [==============================] - 0s 3ms/step - loss: 0.3229 - mean_squared_error: 0.3229\n",
            "Epoch 85/140\n",
            "17/17 [==============================] - 0s 4ms/step - loss: 0.3245 - mean_squared_error: 0.3245\n",
            "Epoch 86/140\n",
            "17/17 [==============================] - 0s 3ms/step - loss: 0.3288 - mean_squared_error: 0.3288\n",
            "Epoch 87/140\n",
            "17/17 [==============================] - 0s 3ms/step - loss: 0.3332 - mean_squared_error: 0.3332\n",
            "Epoch 88/140\n",
            "17/17 [==============================] - 0s 3ms/step - loss: 0.3190 - mean_squared_error: 0.3190\n",
            "Epoch 89/140\n",
            "17/17 [==============================] - 0s 4ms/step - loss: 0.3228 - mean_squared_error: 0.3228\n",
            "Epoch 90/140\n",
            "17/17 [==============================] - 0s 3ms/step - loss: 0.3185 - mean_squared_error: 0.3185\n",
            "Epoch 91/140\n",
            "17/17 [==============================] - 0s 4ms/step - loss: 0.3236 - mean_squared_error: 0.3236\n",
            "Epoch 92/140\n",
            "17/17 [==============================] - 0s 3ms/step - loss: 0.3259 - mean_squared_error: 0.3259\n",
            "Epoch 93/140\n",
            "17/17 [==============================] - 0s 4ms/step - loss: 0.3247 - mean_squared_error: 0.3247\n",
            "Epoch 94/140\n",
            "17/17 [==============================] - 0s 3ms/step - loss: 0.3141 - mean_squared_error: 0.3141\n",
            "Epoch 95/140\n",
            "17/17 [==============================] - 0s 4ms/step - loss: 0.3241 - mean_squared_error: 0.3241\n",
            "Epoch 96/140\n",
            "17/17 [==============================] - 0s 3ms/step - loss: 0.3212 - mean_squared_error: 0.3212\n",
            "Epoch 97/140\n",
            "17/17 [==============================] - 0s 4ms/step - loss: 0.3237 - mean_squared_error: 0.3237\n",
            "Epoch 98/140\n",
            "17/17 [==============================] - 0s 4ms/step - loss: 0.3153 - mean_squared_error: 0.3153\n",
            "Epoch 99/140\n",
            "17/17 [==============================] - 0s 4ms/step - loss: 0.3182 - mean_squared_error: 0.3182\n",
            "Epoch 100/140\n",
            "17/17 [==============================] - 0s 3ms/step - loss: 0.3201 - mean_squared_error: 0.3201\n",
            "Epoch 101/140\n",
            "17/17 [==============================] - 0s 4ms/step - loss: 0.3246 - mean_squared_error: 0.3246\n",
            "Epoch 102/140\n",
            "17/17 [==============================] - 0s 3ms/step - loss: 0.3218 - mean_squared_error: 0.3218\n",
            "Epoch 103/140\n",
            "17/17 [==============================] - 0s 4ms/step - loss: 0.3149 - mean_squared_error: 0.3149\n",
            "Epoch 104/140\n",
            "17/17 [==============================] - 0s 4ms/step - loss: 0.3255 - mean_squared_error: 0.3255\n",
            "Epoch 105/140\n",
            "17/17 [==============================] - 0s 4ms/step - loss: 0.3262 - mean_squared_error: 0.3262\n",
            "Epoch 106/140\n",
            "17/17 [==============================] - 0s 3ms/step - loss: 0.3213 - mean_squared_error: 0.3213\n",
            "Epoch 107/140\n",
            "17/17 [==============================] - 0s 3ms/step - loss: 0.3337 - mean_squared_error: 0.3337\n",
            "Epoch 108/140\n",
            "17/17 [==============================] - 0s 3ms/step - loss: 0.3233 - mean_squared_error: 0.3233\n",
            "Epoch 109/140\n",
            "17/17 [==============================] - 0s 4ms/step - loss: 0.3189 - mean_squared_error: 0.3189\n",
            "Epoch 110/140\n",
            "17/17 [==============================] - 0s 3ms/step - loss: 0.3223 - mean_squared_error: 0.3223\n",
            "Epoch 111/140\n",
            "17/17 [==============================] - 0s 3ms/step - loss: 0.3216 - mean_squared_error: 0.3216\n",
            "Epoch 112/140\n",
            "17/17 [==============================] - 0s 3ms/step - loss: 0.3146 - mean_squared_error: 0.3146\n",
            "Epoch 113/140\n",
            "17/17 [==============================] - 0s 4ms/step - loss: 0.3156 - mean_squared_error: 0.3156\n",
            "Epoch 114/140\n",
            "17/17 [==============================] - 0s 3ms/step - loss: 0.3229 - mean_squared_error: 0.3229\n",
            "Epoch 115/140\n",
            "17/17 [==============================] - 0s 3ms/step - loss: 0.3244 - mean_squared_error: 0.3244\n",
            "Epoch 116/140\n",
            "17/17 [==============================] - 0s 3ms/step - loss: 0.3231 - mean_squared_error: 0.3231\n",
            "Epoch 117/140\n",
            "17/17 [==============================] - 0s 3ms/step - loss: 0.3267 - mean_squared_error: 0.3267\n",
            "Epoch 118/140\n",
            "17/17 [==============================] - 0s 3ms/step - loss: 0.3264 - mean_squared_error: 0.3264\n",
            "Epoch 119/140\n",
            "17/17 [==============================] - 0s 4ms/step - loss: 0.3206 - mean_squared_error: 0.3206\n",
            "Epoch 120/140\n",
            "17/17 [==============================] - 0s 3ms/step - loss: 0.3133 - mean_squared_error: 0.3133\n",
            "Epoch 121/140\n",
            "17/17 [==============================] - 0s 4ms/step - loss: 0.3169 - mean_squared_error: 0.3169\n",
            "Epoch 122/140\n",
            "17/17 [==============================] - 0s 3ms/step - loss: 0.3182 - mean_squared_error: 0.3182\n",
            "Epoch 123/140\n",
            "17/17 [==============================] - 0s 3ms/step - loss: 0.3241 - mean_squared_error: 0.3241\n",
            "Epoch 124/140\n",
            "17/17 [==============================] - 0s 3ms/step - loss: 0.3214 - mean_squared_error: 0.3214\n",
            "Epoch 125/140\n",
            "17/17 [==============================] - 0s 3ms/step - loss: 0.3188 - mean_squared_error: 0.3188\n",
            "Epoch 126/140\n",
            "17/17 [==============================] - 0s 4ms/step - loss: 0.3156 - mean_squared_error: 0.3156\n",
            "Epoch 127/140\n",
            "17/17 [==============================] - 0s 3ms/step - loss: 0.3187 - mean_squared_error: 0.3187\n",
            "Epoch 128/140\n",
            "17/17 [==============================] - 0s 3ms/step - loss: 0.3293 - mean_squared_error: 0.3293\n",
            "Epoch 129/140\n",
            "17/17 [==============================] - 0s 3ms/step - loss: 0.3107 - mean_squared_error: 0.3107\n",
            "Epoch 130/140\n",
            "17/17 [==============================] - 0s 3ms/step - loss: 0.3222 - mean_squared_error: 0.3222\n",
            "Epoch 131/140\n",
            "17/17 [==============================] - 0s 3ms/step - loss: 0.3198 - mean_squared_error: 0.3198\n",
            "Epoch 132/140\n",
            "17/17 [==============================] - 0s 4ms/step - loss: 0.3158 - mean_squared_error: 0.3158\n",
            "Epoch 133/140\n",
            "17/17 [==============================] - 0s 3ms/step - loss: 0.3218 - mean_squared_error: 0.3218\n",
            "Epoch 134/140\n",
            "17/17 [==============================] - 0s 4ms/step - loss: 0.3244 - mean_squared_error: 0.3244\n",
            "Epoch 135/140\n",
            "17/17 [==============================] - 0s 3ms/step - loss: 0.3191 - mean_squared_error: 0.3191\n",
            "Epoch 136/140\n",
            "17/17 [==============================] - 0s 4ms/step - loss: 0.3267 - mean_squared_error: 0.3267\n",
            "Epoch 137/140\n",
            "17/17 [==============================] - 0s 3ms/step - loss: 0.3239 - mean_squared_error: 0.3239\n",
            "Epoch 138/140\n",
            "17/17 [==============================] - 0s 3ms/step - loss: 0.3137 - mean_squared_error: 0.3137\n",
            "Epoch 139/140\n",
            "17/17 [==============================] - 0s 3ms/step - loss: 0.3267 - mean_squared_error: 0.3267\n",
            "Epoch 140/140\n",
            "17/17 [==============================] - 0s 3ms/step - loss: 0.3185 - mean_squared_error: 0.3185\n"
          ],
          "name": "stdout"
        },
        {
          "output_type": "display_data",
          "data": {
            "image/png": "[encoded data removed]",
            "text/plain": [
              "<Figure size 432x288 with 1 Axes>"
            ]
          },
          "metadata": {
            "tags": [],
            "needs_background": "light"
          }
        },
        {
          "output_type": "stream",
          "text": [
            "\n",
            " Evaluate the new model against the test set:\n",
            "WARNING:tensorflow:Layers in a Sequential model should only have a single input tensor, but we receive a <class 'dict'> input: {'longitude': <tf.Tensor 'ExpandDims_3:0' shape=(1000, 1) dtype=float32>, 'latitude': <tf.Tensor 'ExpandDims_2:0' shape=(1000, 1) dtype=float32>, 'housing_median_age': <tf.Tensor 'ExpandDims_1:0' shape=(1000, 1) dtype=float32>, 'total_rooms': <tf.Tensor 'ExpandDims_7:0' shape=(1000, 1) dtype=float32>, 'total_bedrooms': <tf.Tensor 'ExpandDims_6:0' shape=(1000, 1) dtype=float32>, 'population': <tf.Tensor 'ExpandDims_5:0' shape=(1000, 1) dtype=float32>, 'households': <tf.Tensor 'ExpandDims:0' shape=(1000, 1) dtype=float32>, 'median_income': <tf.Tensor 'ExpandDims_4:0' shape=(1000, 1) dtype=float32>}\n",
            "Consider rewriting this model with the Functional API.\n",
            "WARNING:tensorflow:5 out of the last 13 calls to <function Model.make_test_function.<locals>.test_function at 0x7f0f8e8e4ea0> triggered tf.function retracing. Tracing is expensive and the excessive number of tracings could be due to (1) creating @tf.function repeatedly in a loop, (2) passing tensors with different shapes, (3) passing Python objects instead of tensors. For (1), please define your @tf.function outside of the loop. For (2), @tf.function has experimental_relax_shapes=True option that relaxes argument shapes that can avoid unnecessary retracing. For (3), please refer to https://www.tensorflow.org/guide/function#controlling_retracing and https://www.tensorflow.org/api_docs/python/tf/function for  more details.\n",
            "3/3 [==============================] - 0s 4ms/step - loss: 0.3617 - mean_squared_error: 0.3617\n"
          ],
          "name": "stdout"
        },
        {
          "output_type": "execute_result",
          "data": {
            "text/plain": [
              "[0.3616933524608612, 0.3616933524608612]"
            ]
          },
          "metadata": {
            "tags": []
          },
          "execution_count": 86
        }
      ]
    }
  ]
}